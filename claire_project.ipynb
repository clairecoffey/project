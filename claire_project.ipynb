{
  "nbformat": 4,
  "nbformat_minor": 0,
  "metadata": {
    "colab": {
      "name": "claire_project.ipynb",
      "provenance": [],
      "collapsed_sections": [],
      "authorship_tag": "ABX9TyPdBg/d4zk3yXQY+uk4V4ll",
      "include_colab_link": true
    },
    "kernelspec": {
      "name": "python3",
      "display_name": "Python 3"
    }
  },
  "cells": [
    {
      "cell_type": "markdown",
      "metadata": {
        "id": "view-in-github",
        "colab_type": "text"
      },
      "source": [
        "<a href=\"https://colab.research.google.com/github/clairecoffey/project/blob/master/claire_project.ipynb\" target=\"_parent\"><img src=\"https://colab.research.google.com/assets/colab-badge.svg\" alt=\"Open In Colab\"/></a>"
      ]
    },
    {
      "cell_type": "markdown",
      "metadata": {
        "id": "lXi91JpbrVil",
        "colab_type": "text"
      },
      "source": [
        "# Fairness and the bias-variance trade-off \n",
        "\n",
        "## Claire Coffey\n",
        "\n",
        "## June 2020"
      ]
    },
    {
      "cell_type": "markdown",
      "metadata": {
        "id": "kQfy530crZ2l",
        "colab_type": "text"
      },
      "source": [
        "In this notebook we are studying bias and variance errors in the context of fairness, by exploring recidivism data. "
      ]
    },
    {
      "cell_type": "markdown",
      "metadata": {
        "id": "nvL9IAHvrgxx",
        "colab_type": "text"
      },
      "source": [
        "## Imports and Setup"
      ]
    },
    {
      "cell_type": "markdown",
      "metadata": {
        "id": "oqbWHUnLrhgx",
        "colab_type": "text"
      },
      "source": [
        "Imports: first import the relevant libraries used throughout. "
      ]
    },
    {
      "cell_type": "code",
      "metadata": {
        "id": "wUs-6RhFrqVz",
        "colab_type": "code",
        "colab": {}
      },
      "source": [
        "from sklearn import svm\n",
        "def warn(*args, **kwargs):\n",
        "    pass\n",
        "import warnings\n",
        "warnings.warn = warn\n",
        "import numpy as np\n",
        "import pandas as pd"
      ],
      "execution_count": 0,
      "outputs": []
    },
    {
      "cell_type": "markdown",
      "metadata": {
        "id": "Q7tkaG0_ryE3",
        "colab_type": "text"
      },
      "source": [
        "# Read in recidivism data "
      ]
    },
    {
      "cell_type": "markdown",
      "metadata": {
        "id": "J05wPq72rzVc",
        "colab_type": "text"
      },
      "source": [
        "In this notebook we are studying recidivism data. We utilise the COMPAS recidivism dataset, which uses recidivism data from Broward County jail and has been explored in the following studies:\n",
        "\n",
        "\"The accuracy, fairness, and limits of predicting recidivism\", paper available at:\n",
        "https://advances.sciencemag.org/content/4/1/eaao5580#corresp-1\n",
        "\n",
        "\"Machine Bias\" ProPublica article, available at:\n",
        "https://www.propublica.org/article/machine-bias-risk-assessments-in-criminal-sentencing\n",
        "\n",
        "The dataset used can be found at:\n",
        "https://github.com/propublica/compas-analysis\n"
      ]
    },
    {
      "cell_type": "markdown",
      "metadata": {
        "id": "tElAqwHQr3Fs",
        "colab_type": "text"
      },
      "source": [
        "Here we import and read in the recidivism data. Currently, we are using a selection of 1000 samples from this dataset for our predictions (the first 1000 samples of the dataset)\n",
        "\n",
        "We use a selection of features from this dataset to predict recidivism classification (1 = will reoffend; 0 = will not reoffend). "
      ]
    },
    {
      "cell_type": "code",
      "metadata": {
        "id": "uOpxEdzQr_R5",
        "colab_type": "code",
        "outputId": "190e37a7-a803-41f9-c726-968175835658",
        "colab": {
          "base_uri": "https://localhost:8080/",
          "height": 52
        }
      },
      "source": [
        "print(\"loading data\")\n",
        "# small subset of first 500/1000/2000/2400 people\n",
        "# file_path = \"https://raw.githubusercontent.com/clairecoffey/project/master/mphilproject/500-compas-scores-two-years%20-%20Sheet1%20(1).csv?token=ABPC6VOW7CBEIIGZVE6ZJYS6YKNHO\"\n",
        "# file_path = \"https://raw.githubusercontent.com/clairecoffey/project/master/mphilproject/1000-compas-scores-two-years%20-%20Sheet1.csv\"\n",
        "# file_path = \"https://raw.githubusercontent.com/clairecoffey/project/master/mphilproject/2000-compas-scores-2-years.csv\"\n",
        "file_path = \"https://raw.githubusercontent.com/clairecoffey/project/master/mphilproject/2400-compas-scores-two-years%20-%20Sheet1.csv\"\n",
        "\n",
        "# load CSV contents\n",
        "all_data = pd.read_csv(file_path, delimiter=',', dtype={'sex': 'category', \n",
        "                                                        'age_cat': 'category',\n",
        "                                                        'race': 'category',\n",
        "                                                        'c_charge_degree': 'category',\n",
        "                                                        'c_charge_desc': 'category',\n",
        "                                                        'r_charge_degree': 'category',\n",
        "                                                        'r_charge_desc': 'category',\n",
        "                                                        'vr_charge_degree': 'category',\n",
        "                                                        'vr_charge_desc': 'category'\n",
        "                                                        })\n",
        "print('loaded data')\n",
        "#shuffle into random order so we aren't always testing/training with the same people\n",
        "#but reset index (each individual still has the same ID)\n",
        "# all_data = all_data.sample(frac=1).reset_index(drop=True)\n"
      ],
      "execution_count": 28,
      "outputs": [
        {
          "output_type": "stream",
          "text": [
            "loading data\n",
            "loaded data\n"
          ],
          "name": "stdout"
        }
      ]
    },
    {
      "cell_type": "code",
      "metadata": {
        "id": "x9Vu5LQnsPbk",
        "colab_type": "code",
        "colab": {}
      },
      "source": [
        "all_data"
      ],
      "execution_count": 0,
      "outputs": []
    },
    {
      "cell_type": "markdown",
      "metadata": {
        "id": "2gfmKGPysXbQ",
        "colab_type": "text"
      },
      "source": [
        "## Import and process data\n"
      ]
    },
    {
      "cell_type": "markdown",
      "metadata": {
        "id": "uollk_WRsZRT",
        "colab_type": "text"
      },
      "source": [
        "We import the data into a pandas DataFrame. We begin by cleaning the data, so the crime descriptions are simplified, removing duplicate categories. For example, we merge descriptions such as 'possession of cocaine' and 'possess cocaine', or 'burglary/weapon' and 'burglary and weapon', by removing prepositions, and replacing abreviations and similies. \n",
        "\n",
        "Then,  the categorical data is  split into different fields for each category, and encoded as 0 or 1. For example, an individual with characteristic \"sex: male\" would be encoded as \"male: 1, female: 0\". The sex category is then removed.\n",
        "\n",
        "We then consider which fields to use for prediction. This includes the removal of any fields/columns which contain many NaN values, since these cannot be handled by the classifiers. We choose to remove the columns with many NaNs rather than using an alternative approach such as replacing them with the average so as not to introduce other types of bias. We also then remove rows/individuals containing any further NaN values so there is no longer any NaN values present in the data. \n",
        "\n",
        "We then normalise all of the data in the dataframe, so that when fed into the classifier, the predicitons are not skewed (and potentially different forms of bias introduced).  We do this by using the StandardScaler in the sklearn preprocessing library, and we normalise the data to have a variance of 1.\n",
        "\n",
        "Finally, we define the number of testing/training samples desired and split the data into these two sets appropriately.\n"
      ]
    },
    {
      "cell_type": "code",
      "metadata": {
        "id": "Uv45qe3ksdpO",
        "colab_type": "code",
        "colab": {}
      },
      "source": [
        "num_testing_samples = 1600\n"
      ],
      "execution_count": 0,
      "outputs": []
    },
    {
      "cell_type": "code",
      "metadata": {
        "id": "SbxClRFwssdT",
        "colab_type": "code",
        "colab": {}
      },
      "source": [
        "def clean_descriptions(description):\n",
        "  description = description.replace(' and ', ' ')\n",
        "  description = description.replace(' / ', ' ')\n",
        "  description = description.replace('possession', 'posess')\n",
        "  description = description.replace('possessing', 'posess')\n",
        "  description = description.replace('with', 'w/')\n",
        "  description = description.replace('w/ ', 'w/')\n",
        "  description = description.replace('w/', ' ')\n",
        "  description = description.replace('attempted', 'att')\n",
        "  description = description.replace('attempt', 'att')\n",
        "  description = description.replace('aggravated', 'agg')\n",
        "  description = description.replace('aggrav', 'agg') \n",
        "  description = description.replace(' of ', ' ')\n",
        "  return description"
      ],
      "execution_count": 0,
      "outputs": []
    },
    {
      "cell_type": "code",
      "metadata": {
        "id": "Kc52aNTZsn7C",
        "colab_type": "code",
        "colab": {}
      },
      "source": [
        "from sklearn import preprocessing\n",
        "\n",
        "encoded_sex = (pd.get_dummies(all_data['sex']))\n",
        "all_data = all_data.drop(columns=['sex'])\n",
        "all_data = all_data.join(encoded_sex)\n",
        "\n",
        "encoded_age_cat = (pd.get_dummies(all_data['age_cat']))\n",
        "all_data = all_data.drop(columns=['age_cat'])\n",
        "all_data = all_data.join(encoded_age_cat)\n",
        "\n",
        "encoded_race = (pd.get_dummies(all_data['race']))\n",
        "all_data = all_data.drop(columns=['race'])\n",
        "all_data = all_data.join(encoded_race)\n",
        "\n",
        "encoded_c_charge_degree = (pd.get_dummies(all_data['c_charge_degree']))\n",
        "all_data = all_data.drop(columns=['c_charge_degree'])\n",
        "all_data = all_data.join(encoded_c_charge_degree, rsuffix='_c')\n",
        "\n",
        "#these are joined with suffixes because otherwise columns overlap \n",
        "all_data['c_charge_desc'] = all_data['c_charge_desc'].astype(str).str.lower()\n",
        "all_data['c_charge_desc'] = all_data['c_charge_desc'].apply(clean_descriptions)\n",
        "encoded_c_charge_desc = (pd.get_dummies(all_data['c_charge_desc']))\n",
        "all_data = all_data.drop(columns=['c_charge_desc'])\n",
        "all_data = all_data.join(encoded_c_charge_desc, rsuffix='_c')\n",
        "\n",
        "encoded_r_charge_degree = (pd.get_dummies(all_data['r_charge_degree']))\n",
        "all_data = all_data.drop(columns=['r_charge_degree'])\n",
        "all_data = all_data.join(encoded_r_charge_degree, rsuffix='_r')\n",
        "\n",
        "all_data['r_charge_desc'] = all_data['r_charge_desc'].astype(str).str.lower()\n",
        "all_data['r_charge_desc'] = all_data['r_charge_desc'].apply(clean_descriptions)\n",
        "encoded_r_charge_desc = (pd.get_dummies(all_data['r_charge_desc']))\n",
        "all_data = all_data.drop(columns=['r_charge_desc'])\n",
        "all_data = all_data.join(encoded_r_charge_desc, rsuffix='_r')\n",
        "\n",
        "encoded_vr_charge_degree = (pd.get_dummies(all_data['vr_charge_degree']))\n",
        "all_data = all_data.drop(columns=['vr_charge_degree'])\n",
        "all_data = all_data.join(encoded_vr_charge_degree, rsuffix='_vr')\n",
        "\n",
        "all_data['vr_charge_desc'] = all_data['vr_charge_desc'].astype(str).str.lower()\n",
        "all_data['vr_charge_desc'] = all_data['vr_charge_desc'].apply(clean_descriptions)\n",
        "encoded_vr_charge_desc = (pd.get_dummies(all_data['vr_charge_desc']))\n",
        "all_data = all_data.drop(columns=['vr_charge_desc'])\n",
        "all_data = all_data.join(encoded_vr_charge_desc, rsuffix='_vr')\n",
        "\n",
        "all_data = all_data.drop(columns=['nan'])\n",
        "all_data = all_data.drop(columns=['nan_vr'])\n",
        "all_data = all_data.drop(columns=['nan_r'])\n",
        "\n",
        "#drop columns not used for predictions, including info such as names, and columns with many NaN values \n",
        "all_data.columns = map(str.lower, all_data.columns)\n",
        "#dont use individual crimes, too much and too slow, only use severity of crimes and other info\n",
        "all_data_simplified = all_data[['juv_fel_count','juv_misd_count','juv_other_count','priors_count','is_recid','is_violent_recid','event','female','male','25 - 45','greater than 45','less than 25','african-american','asian','caucasian','hispanic','native american','other','f','m','(f1)','(f2)','(f3)','(f6)','(m1)','(m2)','(mo3)']]\n",
        "\n",
        "#remove rows containing NaN values \n",
        "all_data_simplified = all_data_simplified.dropna()"
      ],
      "execution_count": 0,
      "outputs": []
    },
    {
      "cell_type": "markdown",
      "metadata": {
        "id": "c9if4f2PxIeM",
        "colab_type": "text"
      },
      "source": [
        "Normalise data "
      ]
    },
    {
      "cell_type": "code",
      "metadata": {
        "id": "RugF5Qb1xQMc",
        "colab_type": "code",
        "colab": {}
      },
      "source": [
        "#normalise the data so we have unit variance and mean 0 using built-in preprocessing method in sklearn\n",
        "scaler = preprocessing.StandardScaler()\n",
        "all_data_scaled = pd.DataFrame(scaler.fit_transform(all_data_simplified),columns=all_data_simplified.columns)"
      ],
      "execution_count": 0,
      "outputs": []
    },
    {
      "cell_type": "code",
      "metadata": {
        "id": "zgWsJrfRAWs8",
        "colab_type": "code",
        "colab": {}
      },
      "source": [
        "all_data_scaled.mean()"
      ],
      "execution_count": 0,
      "outputs": []
    },
    {
      "cell_type": "code",
      "metadata": {
        "id": "zYHw_jiiAZWg",
        "colab_type": "code",
        "colab": {}
      },
      "source": [
        "all_data_scaled.var()"
      ],
      "execution_count": 0,
      "outputs": []
    },
    {
      "cell_type": "code",
      "metadata": {
        "id": "coEnq-3CtOSS",
        "colab_type": "code",
        "colab": {}
      },
      "source": [
        "all_labels = all_data[['two_year_recid']]\n",
        "all_data = all_data_scaled\n",
        "all_data_and_labels = all_data_scaled.join(all_labels)\n",
        "testing_data_and_labels_orig = all_data_and_labels[:num_testing_samples]"
      ],
      "execution_count": 0,
      "outputs": []
    },
    {
      "cell_type": "code",
      "metadata": {
        "id": "FBZEmOCxteZV",
        "colab_type": "code",
        "colab": {}
      },
      "source": [
        "testing_data_and_labels_orig"
      ],
      "execution_count": 0,
      "outputs": []
    },
    {
      "cell_type": "markdown",
      "metadata": {
        "id": "zIGtAjF4wzxp",
        "colab_type": "text"
      },
      "source": [
        "### Perform PCA "
      ]
    },
    {
      "cell_type": "code",
      "metadata": {
        "id": "xy9g_k_TwgPv",
        "colab_type": "code",
        "colab": {}
      },
      "source": [
        "u,s,v = np.linalg.svd(all_data)"
      ],
      "execution_count": 0,
      "outputs": []
    },
    {
      "cell_type": "code",
      "metadata": {
        "id": "x9ANK_L1wrDE",
        "colab_type": "code",
        "colab": {}
      },
      "source": [
        "positive_labels = all_labels['two_year_recid'] == 1\n",
        "negative_labels = all_labels['two_year_recid'] == 0"
      ],
      "execution_count": 0,
      "outputs": []
    },
    {
      "cell_type": "markdown",
      "metadata": {
        "id": "f8ixKQX9zbjw",
        "colab_type": "text"
      },
      "source": [
        "Plot all dimensions of PCA"
      ]
    },
    {
      "cell_type": "code",
      "metadata": {
        "id": "YR9OJ8FCxixf",
        "colab_type": "code",
        "colab": {}
      },
      "source": [
        "# maxpc = 23\n",
        "# fig, ax = plt.subplots(maxpc, maxpc, figsize=(20,20))\n",
        "# for pc1 in range(maxpc):\n",
        "#   for pc2 in range(maxpc):\n",
        "#     ax[pc1,pc2].plot(u[positive_labels,pc1], u[positive_labels, pc2], 'r.')\n",
        "#     ax[pc1,pc2].plot(u[negative_labels,pc1], u[negative_labels, pc2], 'b.')"
      ],
      "execution_count": 0,
      "outputs": []
    },
    {
      "cell_type": "markdown",
      "metadata": {
        "id": "q2AjjwyCzexn",
        "colab_type": "text"
      },
      "source": [
        "Plot specific 2 dimensions to visualise data (to visually check separability)"
      ]
    },
    {
      "cell_type": "code",
      "metadata": {
        "id": "4A5OqewnwyX-",
        "colab_type": "code",
        "outputId": "2f872a1b-7a74-4e44-89b6-1b1b3cbc86f4",
        "colab": {
          "base_uri": "https://localhost:8080/",
          "height": 282
        }
      },
      "source": [
        "import matplotlib.pyplot as plt                                  \n",
        "dim1 = 12\n",
        "dim2 = 13\n",
        "plt.plot(u[positive_labels,dim1], u[positive_labels,dim2], 'r.')\n",
        "plt.plot(u[negative_labels,dim1], u[negative_labels,dim2], 'b.')"
      ],
      "execution_count": 36,
      "outputs": [
        {
          "output_type": "execute_result",
          "data": {
            "text/plain": [
              "[<matplotlib.lines.Line2D at 0x7efc0e3b7d30>]"
            ]
          },
          "metadata": {
            "tags": []
          },
          "execution_count": 36
        },
        {
          "output_type": "display_data",
          "data": {
            "image/png": "[encoded data removed]",
            "text/plain": [
              "<Figure size 432x288 with 1 Axes>"
            ]
          },
          "metadata": {
            "tags": [],
            "needs_background": "light"
          }
        }
      ]
    },
    {
      "cell_type": "markdown",
      "metadata": {
        "id": "qNt2ZzgLz66W",
        "colab_type": "text"
      },
      "source": [
        "Select dimensions we want to use to represent our data; define the data based on these"
      ]
    },
    {
      "cell_type": "code",
      "metadata": {
        "id": "TEG8PN4DyeUH",
        "colab_type": "code",
        "colab": {}
      },
      "source": [
        "#we want to use 12 and 13th dimensions as features \n",
        "dim12 = u[:,12]\n",
        "dim13 = u[:,13]\n",
        "all_X_transformed = pd.DataFrame({'dim12':dim12, 'dim13':dim13}, index=all_data.index)\n",
        "all_X_transformed_and_labels = all_X_transformed.join(all_labels)"
      ],
      "execution_count": 0,
      "outputs": []
    },
    {
      "cell_type": "code",
      "metadata": {
        "id": "oPKlrxVgy30t",
        "colab_type": "code",
        "colab": {}
      },
      "source": [
        "training_data_and_labels = all_X_transformed_and_labels[num_testing_samples:]\n",
        "testing_data_and_labels = all_X_transformed_and_labels[:num_testing_samples]"
      ],
      "execution_count": 0,
      "outputs": []
    },
    {
      "cell_type": "code",
      "metadata": {
        "id": "MUDe4k9ESrO1",
        "colab_type": "code",
        "colab": {}
      },
      "source": [
        ""
      ],
      "execution_count": 0,
      "outputs": []
    },
    {
      "cell_type": "markdown",
      "metadata": {
        "id": "aUq4oXzfwVRT",
        "colab_type": "text"
      },
      "source": [
        "##Selecting Classifiers"
      ]
    },
    {
      "cell_type": "markdown",
      "metadata": {
        "id": "2q42wDUzwY7g",
        "colab_type": "text"
      },
      "source": [
        "Here we select the classification model to use. We are using a selection of built-in classifiers in scikit-learn. \n",
        "\n",
        "Currently, we are using RBF SVM models (https://scikit-learn.org/stable/auto_examples/svm/plot_rbf_parameters.html). \n",
        "\n",
        "We define the boolean values ```vary_gamma ``` and  ```vary_c``` to define whether we are varying the gamma or C parameters; C defines the misclassification penalty and gamma defines the spread of the kernel. \n",
        "\n"
      ]
    },
    {
      "cell_type": "code",
      "metadata": {
        "id": "Ev5DxNlxwZdE",
        "colab_type": "code",
        "colab": {}
      },
      "source": [
        "from sklearn import model_selection, neighbors, svm, gaussian_process, tree, ensemble, neural_network, metrics\n",
        "\n",
        "vary_gamma = True\n",
        "vary_c = False \n",
        "polynomial = False\n",
        "gammas = []\n",
        "cs = []\n",
        "classifiers = []\n",
        "degrees = []\n",
        "\n",
        "if vary_gamma:\n",
        "  # gammas = [0.001, 0.0005, 0.01, 0.05 ,0.1, 0.5, 1, 5, 10,50,100,500,1000,5000,10000]\n",
        "  gammas = [100, 250, 500, 750, 1000, 2500, 5000, 7500, 10000, 25000, 50000, 75000, 100000, 250000, 500000, 750000, 1000000, 2500000, 5000000, 7500000, 10000000]\n",
        "  cs=[1000]\n",
        "  # cs = [0.1, 1, 10, 100, 1000, 10000, 100000]\n",
        "  # gammas = [0.001]\n",
        "  # gammas = [1]\n",
        "  # c_val = 1000\n",
        "  #fix size of C if varying gamma\n",
        "\n",
        "  for gamma_val in gammas:\n",
        "    for c_val in cs:\n",
        "      classifiers.append(svm.SVC(gamma=gamma_val,C=c_val, probability=True))\n",
        "\n",
        "if vary_c:\n",
        "  cs = [10, 100, 1000, 10000, 100000, 1000000, 10000000, 10000000]\n",
        "  gamma_val = 1\n",
        "  #fix size of gamma if varying C\n",
        "  for c_val in cs:\n",
        "    classifiers.append(svm.SVC(gamma=gamma_val,C=c_val, probability=True))\n",
        "\n",
        "if polynomial:\n",
        "  degrees = [0,1,2,3,4,5,6,7,8]\n",
        "  # degrees = [0]\n",
        "  for degree in degrees:\n",
        "    classifiers.append(svm.SVC(kernel='poly', degree=degree, probability=True))"
      ],
      "execution_count": 0,
      "outputs": []
    },
    {
      "cell_type": "markdown",
      "metadata": {
        "id": "Xr-UOflR1Kqd",
        "colab_type": "text"
      },
      "source": [
        "## Bootstrapping "
      ]
    },
    {
      "cell_type": "markdown",
      "metadata": {
        "id": "d7R2_gvY1LTB",
        "colab_type": "text"
      },
      "source": [
        "The classification process then uses a bootstrapping procedure with the chosen model, to generate predictions of recidivism classifications (1 = will not reoffend (positive case); 0 = will reoffend (negative case)).\n",
        "\n",
        "Bootstrapping (https://link.springer.com/chapter/10.1007/978-1-4612-4380-9_41) is a sampling with replacement procedure. The sample size is the same as the size of the (training) dataset. The bootstrapping procedure is run many times to generate different training datasets, which will then be used for classification. In turn, the classification results will be used to calculate and study the bias and variance errors. "
      ]
    },
    {
      "cell_type": "code",
      "metadata": {
        "id": "9KqW1u2i1OYR",
        "colab_type": "code",
        "colab": {}
      },
      "source": [
        "def do_bootstrap(training_data_and_labels):\n",
        "  # this is one bootstrap sample \n",
        "  indices = np.random.randint(0,training_data_and_labels.shape[0] , training_data_and_labels.shape[0])\n",
        "  indices.sort()\n",
        "  data_points = []\n",
        "\n",
        "  for i in indices:\n",
        "    data_points.append(training_data_and_labels.iloc[i])\n",
        "\n",
        "  b_sample = pd.DataFrame(data_points)\n",
        "  \n",
        "  return b_sample"
      ],
      "execution_count": 0,
      "outputs": []
    },
    {
      "cell_type": "markdown",
      "metadata": {
        "id": "Sxl1Zmlq1lTW",
        "colab_type": "text"
      },
      "source": [
        "## Perform classification"
      ]
    },
    {
      "cell_type": "markdown",
      "metadata": {
        "id": "ssGNJ4bT1zJj",
        "colab_type": "text"
      },
      "source": [
        "Fit the model on the training data (which is one bootstrap data sample as defined above)\n"
      ]
    },
    {
      "cell_type": "code",
      "metadata": {
        "id": "z7UPIAkG1zwb",
        "colab_type": "code",
        "colab": {}
      },
      "source": [
        "def fit_and_predict(clf, b_sample, testing_data_and_labels):\n",
        "\n",
        "    #training data is everything apart from two year recid 0/1 label from the bootstrap sample\n",
        "    X_train = b_sample.drop(columns=['two_year_recid'])\n",
        "    y_train = b_sample['two_year_recid']\n",
        "    X_test = testing_data_and_labels.drop(columns=['two_year_recid'])\n",
        "    y_test = testing_data_and_labels['two_year_recid']\n",
        "\n",
        "    clf.fit(X_train, y_train)\n",
        "    y_pred = clf.predict(X_test)\n",
        "    soft_score = clf.decision_function(X_test)\n",
        "    y_true = y_test\n",
        "\n",
        "    return y_pred, y_true, soft_score"
      ],
      "execution_count": 0,
      "outputs": []
    },
    {
      "cell_type": "markdown",
      "metadata": {
        "id": "0VpaNwg32EDc",
        "colab_type": "text"
      },
      "source": [
        "Perform classification for each bootstrap sample separately, and store these in a DataFrame, to be passed into the bias/variance calculations.\n",
        "This returns all of the predictions for each individual for each bootstrap sample"
      ]
    },
    {
      "cell_type": "code",
      "metadata": {
        "id": "8a4gqWb52Env",
        "colab_type": "code",
        "colab": {}
      },
      "source": [
        "def classify(training_data_and_labels, testing_data_and_labels, clf):\n",
        "    count = 0\n",
        "\n",
        "    num_bootstraps = 100;\n",
        "    while count <= num_bootstraps:\n",
        "      b_sample = do_bootstrap(training_data_and_labels)\n",
        "      y_pred, y_true, soft_score = fit_and_predict(clf, b_sample, testing_data_and_labels)\n",
        "      # calc_conf_matrix_bootstrap(y_true, y_pred)\n",
        "      if(count == 0):\n",
        "        predictions = pd.DataFrame(pd.Series(y_pred)).transpose()\n",
        "        #true labels are the same for every sample so we only need 1 row in df\n",
        "        true_labels = pd.DataFrame(pd.Series(y_true)).transpose()\n",
        "      else:\n",
        "        predictions = predictions.append(pd.DataFrame(pd.Series(y_pred)).transpose())\n",
        "      count += 1\n",
        "      \n",
        "    return predictions, true_labels, soft_score"
      ],
      "execution_count": 0,
      "outputs": []
    },
    {
      "cell_type": "code",
      "metadata": {
        "id": "-SKaizY85_E-",
        "colab_type": "code",
        "colab": {}
      },
      "source": [
        "from sklearn.metrics import confusion_matrix\n",
        "\n",
        "def calc_conf_matrix(y_true, y_pred):\n",
        "  # get confusion matrix and compute tn,fp,fn,tp\n",
        "  tn, fp, fn, tp = confusion_matrix(y_true.iloc[0].to_numpy(), y_pred.iloc[0].to_numpy()).ravel()\n",
        "  print(\"true negatives:\", tn, \"rate:\" , tn/(tn+fp+fn+tp), \"false positives:\", fp, \"rate:\", fp/(tn+fp+fn+tp) ,\"false negatives:\", fn,\"rate:\", fn/(tn+fp+fn+tp), \"true positives:\",tp,\"rate:\", tp/(tn+fp+fn+tp))"
      ],
      "execution_count": 0,
      "outputs": []
    },
    {
      "cell_type": "markdown",
      "metadata": {
        "id": "ND8rL1NL_Q1O",
        "colab_type": "text"
      },
      "source": [
        "#Fairness"
      ]
    },
    {
      "cell_type": "markdown",
      "metadata": {
        "id": "_kJkwbvT_V1e",
        "colab_type": "text"
      },
      "source": [
        "The definition of fairness is disputed, and there is not a single correct approach to ensuring fairness in machine learning. In general, as stated in https://arxiv.org/pdf/1711.08513.pdf, fairness in machine learning can be approached in two ways: fairness of the dataset itself; fairness of the model.\n",
        "\n",
        "We will focus on model-based fairness correction - ensuring the machine learning models are not perpetuating existing biases, or introducing new biases. We do this by using a widely used and accepted fairness measurement which is context-independent, known as **Equalised Odds** (http://papers.nips.cc/paper/6374-equality-of-opportunity-in-supervised-learning.pdf). This approach is not without criticism, however it provides a clear and well-motivated approach to achieving fair predictions across subgroups with different protected characteristics. We attempt to correct for fairness in relation to the protected characteristics found in the recidivism dataset (sex, race, age). Once our models are 'fair' in relation to this description, we can explore the relationship between bias and variance errors and the potential discovery of discrimination against new categories. \n"
      ]
    },
    {
      "cell_type": "markdown",
      "metadata": {
        "id": "m6qZOTID_iMa",
        "colab_type": "text"
      },
      "source": [
        "\n",
        "##Equalised Odds\n",
        "\n",
        "As stated above, we are considering fairness in relation to the equalised odds metric (http://papers.nips.cc/paper/6374-equality-of-opportunity-in-supervised-learning.pdf). The definition as stated in this paper is as follows: \\\\\n",
        "We say that a predictor $\\hat{Y}$ satisfies equalized odds with respect to\n",
        "protected attribute $A$ and outcome $Y$, if $\\hat{Y}$ and $A$ are independent conditional on $Y$. Therefore, if the classification labels are $Y$ and $\\hat{Y}$, for an outcome $ y=1 $, $\\hat{Y}$ has equal true positive rates across all demographic groups, for example, the categories not female and female will have equal true positive rates. For an outcome  $ y=0 $, $\\hat{Y}$ has equal false positive rates across all demographic groups. This enforces equal bias and accuracy in all demographics. This can formally be stated as:\n",
        "$$ Pr \\left\\{ \\hat{Y}=1 | A = 0, Y = y \\right\\} = Pr \\left\\{ \\hat{Y}=1 | A = 0, Y = y \\right\\} , y \\in \\left\\{ 0,1 \\right\\}$$\n",
        "\n",
        "This approach punishes models that only perform well on the majority demographics."
      ]
    },
    {
      "cell_type": "markdown",
      "metadata": {
        "id": "DKZYYF1J_5rl",
        "colab_type": "text"
      },
      "source": [
        "The following code is the implementation of equalised odds from the paper http://papers.nips.cc/paper/7151-on-fairness-and-calibration.pdf, the code is from the github repository https://github.com/gpleiss/equalized_odds_and_calibration/blob/master/eq_odds.py.\n",
        "\n",
        "This implementation equalises false positives and false negatives across demoographics, since in general, African Americans receive\n",
        "a disproportionate number of F.P. predictions as compared with Caucasians when automated risk tools are used in practice. In the context of recidivism, the 'positive case' is in fact a prediction of 0: the individual is predicted not to reoffend, so equalising false positives in this case fits with the equalised odds definition above."
      ]
    },
    {
      "cell_type": "code",
      "metadata": {
        "id": "M_VwEHLo_TbS",
        "colab_type": "code",
        "colab": {}
      },
      "source": [
        "def calculate_scores(predictions, soft_scores):\n",
        "\n",
        "  maximum = soft_scores.max()\n",
        "  minimum = soft_scores.min()\n",
        "  normalise = lambda x: ((x-minimum)/(maximum-minimum))\n",
        "  n_soft_scores = []\n",
        "  for score in soft_scores:\n",
        "    soft_score = normalise(score)\n",
        "    n_soft_scores.append(soft_score)\n",
        "\n",
        "  return n_soft_scores"
      ],
      "execution_count": 0,
      "outputs": []
    },
    {
      "cell_type": "code",
      "metadata": {
        "id": "yaE1PNKHM6fe",
        "colab_type": "code",
        "colab": {}
      },
      "source": [
        "# !git clone https://github.com/clairecoffey/project.git"
      ],
      "execution_count": 0,
      "outputs": []
    },
    {
      "cell_type": "code",
      "metadata": {
        "id": "-hwRZ2bTAAJv",
        "colab_type": "code",
        "colab": {}
      },
      "source": [
        "def constrain_with_equalised_odds(true_labels, group_ids, demographic, soft_scores):\n",
        "\n",
        "  #create csv file containing relevant fields: prediction, label, group \n",
        "  predictions = pd.DataFrame(soft_scores, columns=['prediction'])\n",
        "  true_labels = pd.melt(true_labels).rename(columns={'value':'label'})\n",
        "  group_ids = pd.melt(group_ids).rename(columns={'value':'group'})\n",
        "  eq_odds_input = pd.concat([predictions, true_labels], axis=1)\n",
        "  eq_odds_input = pd.concat([eq_odds_input, group_ids], axis=1)\n",
        "  eq_odds_input = eq_odds_input.drop(columns=[\"variable\"])\n",
        "  eq_odds_input.to_csv(r'eq_odds.csv', index=True)\n",
        "\n",
        "  \n",
        "  !python2 \"eq_odds.py\" \"eq_odds.csv\"\n",
        "\n",
        "  eq_odds_pred_group_0 = pd.read_csv(filepath_or_buffer='/content/group_0.csv', delimiter=',', header=0)\n",
        "  eq_odds_pred_group_1 = pd.read_csv(filepath_or_buffer='/content/group_1.csv', delimiter=',',header=0 )\n",
        "  eq_odds_pred = pd.concat([eq_odds_pred_group_0,eq_odds_pred_group_1])\n",
        "  eq_odds_pred =  pd.DataFrame.reset_index(eq_odds_pred,drop=True)\n",
        "  eq_odds_pred['round_predictions'] = [0 if (row < 0.5) else 1 for row in eq_odds_pred['predictions']]\n",
        "\n",
        "  return eq_odds_pred['round_predictions'], eq_odds_pred['true_labels']\n"
      ],
      "execution_count": 0,
      "outputs": []
    },
    {
      "cell_type": "code",
      "metadata": {
        "id": "PqINbFqLOrZu",
        "colab_type": "code",
        "colab": {}
      },
      "source": [
        "# from google.colab import drive\n",
        "# drive.mount('/content/drive')"
      ],
      "execution_count": 0,
      "outputs": []
    },
    {
      "cell_type": "markdown",
      "metadata": {
        "id": "1lRDSEBd9uCg",
        "colab_type": "text"
      },
      "source": [
        "# Compute bias/variance errors"
      ]
    },
    {
      "cell_type": "markdown",
      "metadata": {
        "id": "jWIqpNgu93YL",
        "colab_type": "text"
      },
      "source": [
        "We can decompose the error into the errors due to bias, and the errors due to variance, in order to study the behaviour of the model and the bias/variance tradeoff, as described by Domingos in:\n",
        "https://www.aaai.org/Papers/AAAI/2000/AAAI00-086.pdf\n",
        "\n",
        "The definitions of bias and variance are as follows:\n",
        "\n",
        "\n",
        "* **Bias** is the zero-one loss incurred for the main prediction relative to the optimal prediction. Where the \"main prediction\" is the modal classification for each individual across all bootstrap samples. \n",
        "*  **Variance** is the average zero-one loss incurred by all predictions relativeto the main prediction.  The variance is the loss incurred by the fluctuations around the main (modal) prediction in response to different bootstrap training sets.\n",
        "\n",
        "We can then calculate the overall average bias error and variance error for the model. \n",
        "\n"
      ]
    },
    {
      "cell_type": "code",
      "metadata": {
        "id": "CTWZfkOU9v69",
        "colab_type": "code",
        "colab": {}
      },
      "source": [
        "def compute_bias_variance(predictions, true_labels):\n",
        "\n",
        "  # print(\"predictions: \")\n",
        "  # print(predictions)\n",
        "  # print(\"true labels: \")\n",
        "\n",
        "  biases = []\n",
        "  variances = []\n",
        "  avg_errors = []\n",
        "  misclassified_individuals = []\n",
        "  losses = []\n",
        "  noises = []\n",
        " \n",
        "  #find 'main' (mode) predction - used to calculate bias error \n",
        "  main_predictions = predictions.mode(dropna=False)  \n",
        "  main_predictions_transposed = main_predictions.copy()\n",
        "  main_predictions_transposed = main_predictions_transposed.iloc[0,:]\n",
        "\n",
        "  #compare main (modal) prediction to true prediction \n",
        "  main_predictions_misclassified_relative_to_true = main_predictions.apply(lambda z : z != true_labels.iloc[0], axis=1)\n",
        "  #find whether each element is misclassified for each bootstrap sample \n",
        "  #find if each prediction is the same as the true prediction \n",
        "  predictions_misclassified_relative_to_true = predictions.apply(lambda x : x != true_labels.iloc[0], axis=1)\n",
        "  #find if the predictions are the same as the main prediction - used to calculate variance error\n",
        "  predictions_misclassified_relative_to_main = predictions.apply(lambda y : y != main_predictions_transposed, axis = 1)\n",
        "\n",
        "  #count number of times misclassified for each datapoint across all bootstrap samples \n",
        "  main_misclassified_true_counts = main_predictions_misclassified_relative_to_true.apply(np.sum)\n",
        "  misclassified_true_counts = predictions_misclassified_relative_to_true.apply(np.sum)\n",
        "  misclassified_main_counts = predictions_misclassified_relative_to_main.apply(np.sum)\n",
        "\n",
        "  #average misclassification error for each individual/datapoint \n",
        "  #same as probability of incorrect classification\n",
        "  avg_true_errors = misclassified_true_counts.apply(lambda a : np.divide(a,len(predictions)))\n",
        "  avg_main_errors = misclassified_main_counts.apply(lambda b : np.divide(b,len(predictions)))\n",
        "  avg_main_true_errors = main_misclassified_true_counts.apply(lambda c : np.divide(c,len(main_predictions)))\n",
        "\n",
        "  for i in range(len(avg_true_errors)):\n",
        "    # if average error is less than 0.5 then it means the main prediction is the same as the optimal one\n",
        "    avg_main_true_error = avg_main_true_errors[i]\n",
        "    avg_true_error = avg_true_errors[i]\n",
        "    avg_main_error = avg_main_errors[i]\n",
        "    bias = 0 if avg_main_true_error <=0.5 else 1\n",
        "    variance = avg_main_error\n",
        "    noise = 0\n",
        "    c1 = ((2*(1-avg_true_error))-1)\n",
        "    c2 = 1 if avg_main_true_error <= 0.5 else -1\n",
        "    #loss according to domingos' decomposition\n",
        "    loss = (c1*noise) + bias + (c2*variance)\n",
        "    biases.append(bias)\n",
        "    variances.append(variance)\n",
        "    noises.append(noise)\n",
        "    losses.append(loss)\n",
        "    if avg_true_error > 0.5:\n",
        "      misclassified_individuals.append(i)\n",
        "\n",
        "  avg_bias = np.mean(biases)\n",
        "  avg_var = np.mean(variances)\n",
        "  avg_loss = np.mean(losses)\n",
        "\n",
        "  print(\"average loss:\") \n",
        "  print(avg_loss)\n",
        "  print(\"average bias:\")\n",
        "  print(avg_bias)\n",
        "  print(\"average variance:\")\n",
        "  print(avg_var)\n",
        "\n",
        "  return avg_bias, avg_var, avg_loss, misclassified_individuals"
      ],
      "execution_count": 0,
      "outputs": []
    },
    {
      "cell_type": "markdown",
      "metadata": {
        "id": "q4LGD0ue-kS6",
        "colab_type": "text"
      },
      "source": [
        "##Run procedure for all classifiers\n",
        "### Fit and train model for each bootstrap \n",
        "### Classify using these \n",
        "### Do fairness correction if equalised_odds=True\n",
        "### Compute bias/variance "
      ]
    },
    {
      "cell_type": "code",
      "metadata": {
        "id": "NBNqxEcB3Rx_",
        "colab_type": "code",
        "outputId": "bd5cdf06-77ba-4107-e86a-dc14572a0ec0",
        "colab": {
          "base_uri": "https://localhost:8080/",
          "height": 1000
        }
      },
      "source": [
        "# demographics = ['african-american', 'caucasian', 'hispanic', 'asian', 'other', 'male', 'female', 'less than 25', '25 - 45', 'greater than 45']\n",
        "demographics = ['african-american']\n",
        "testing_data_and_labels_list = []\n",
        "training_data_and_labels_list = []\n",
        "training_data_and_labels_list.append(training_data_and_labels)\n",
        "testing_data_and_labels_list.append(testing_data_and_labels)\n",
        "\n",
        "biases = []\n",
        "variances = []\n",
        "total_errors = []\n",
        "avg_losses = []\n",
        "biases_eq = []\n",
        "variances_eq = []\n",
        "total_errors_eq = []\n",
        "avg_losses_eq = []\n",
        "all_misclassified = pd.DataFrame()\n",
        "all_misclassified_eq = pd.DataFrame()\n",
        "equalised_odds = True\n",
        "k = 0\n",
        "\n",
        "for clf in classifiers:\n",
        "  print(clf)\n",
        "  for i in range(len(training_data_and_labels_list)):\n",
        "    predictions, true_labels, soft_scores = classify(training_data_and_labels_list[i], testing_data_and_labels_list[i], clf)  \n",
        "    majority_predictions = predictions.mode(numeric_only=True)\n",
        "    print(\"avg pred conf matrix:\")\n",
        "    calc_conf_matrix(true_labels, majority_predictions)\n",
        "    if(equalised_odds):\n",
        "      soft_scores = calculate_scores(predictions, soft_scores)\n",
        "      for demographic in demographics:\n",
        "        group_ids = [] \n",
        "        print(\"Equalising odds for \", demographic)\n",
        "        group_ids_normalised = testing_data_and_labels_orig[demographic]\n",
        "        for n_id in group_ids_normalised:\n",
        "          group_id = 0 if n_id < 0 else 1\n",
        "          group_ids.append(group_id)\n",
        "        group_ids = pd.DataFrame([group_ids])\n",
        "        all_eq_predictions = []\n",
        "        for j in range (len(predictions.index)):\n",
        "          eq_predictions, true_eq_labels = constrain_with_equalised_odds(true_labels, group_ids, demographic, soft_scores)\n",
        "          all_eq_predictions.append(np.array(eq_predictions))\n",
        "        all_eq_predictions = pd.DataFrame(all_eq_predictions)\n",
        "        true_eq_labels = pd.DataFrame(np.array(true_eq_labels), columns=['two_year_recid'])\n",
        "        true_eq_labels = true_eq_labels.transpose()\n",
        "      #if not equalised odds we have to only use half of the predictions somehow otherwise it's not fair \n",
        "      #because in equalised odds we use half of it to determine parameters (validation)\n",
        "      predictions = predictions.iloc[:,:int(len(predictions.columns)/2)]\n",
        "      true_labels = true_labels.iloc[:,:int(len(true_labels.columns)/2)]\n",
        "    bias, variance, avg_loss, misclassified_individuals = compute_bias_variance(predictions, true_labels)\n",
        "    biases.append(bias)\n",
        "    variances.append(variance)\n",
        "    avg_losses.append(avg_loss)\n",
        "    print(\"misclassified before: \", misclassified_individuals)\n",
        "    if(equalised_odds):\n",
        "      print(\"after fairness correction:\")\n",
        "      bias_eq, variance_eq, avg_loss_eq, misclassified_individuals_eq = compute_bias_variance(all_eq_predictions, true_eq_labels)\n",
        "      biases_eq.append(bias_eq)\n",
        "      variances_eq.append(variance_eq)\n",
        "      avg_losses_eq.append(avg_loss_eq)\n",
        "      print(\"misclassified after: \", misclassified_individuals_eq)\n",
        "    for i in range(len(testing_data_and_labels_list)):\n",
        "      if(len(misclassified_individuals) > 0 ):\n",
        "        misclassified = testing_data_and_labels_list[i].iloc[misclassified_individuals]\n",
        "        all_misclassified = all_misclassified.append(misclassified)\n",
        "      if(equalised_odds):\n",
        "        if(len(misclassified_individuals_eq) > 0):\n",
        "          misclassified_eq = testing_data_and_labels_list[i].iloc[misclassified_individuals_eq]\n",
        "          all_misclassified_eq = all_misclassified_eq.append(misclassified_eq)\n",
        "    #export misclassified individuals to csv \n",
        "    csv_name = str(k)+'_misclassified_before'+'.csv'\n",
        "    all_misclassified.to_csv(r''+csv_name, index=False)\n",
        "    if(equalised_odds):\n",
        "      csv_name = str(k)+'_misclassified_after'+'.csv'\n",
        "      all_misclassified_eq.to_csv(r''+csv_name, index=False)\n",
        "    k+=1"
      ],
      "execution_count": 0,
      "outputs": [
        {
          "output_type": "stream",
          "text": [
            "SVC(C=1000, break_ties=False, cache_size=200, class_weight=None, coef0=0.0,\n",
            "    decision_function_shape='ovr', degree=3, gamma=100, kernel='rbf',\n",
            "    max_iter=-1, probability=True, random_state=None, shrinking=True, tol=0.001,\n",
            "    verbose=False)\n",
            "avg pred conf matrix:\n",
            "true negatives: 845 rate: 0.528125 false positives: 53 rate: 0.033125 false negatives: 328 rate: 0.205 true positives: 374 rate: 0.23375\n",
            "Equalising odds for  african-american\n",
            "average loss:\n",
            "0.24699257425742574\n",
            "average bias:\n",
            "0.23125\n",
            "average variance:\n",
            "0.03638613861386139\n",
            "misclassified before:  [1, 11, 14, 18, 21, 22, 23, 27, 30, 34, 38, 48, 52, 60, 61, 62, 64, 73, 76, 78, 82, 83, 87, 92, 94, 107, 124, 140, 145, 146, 147, 148, 152, 153, 155, 158, 165, 168, 176, 183, 184, 190, 192, 197, 213, 219, 221, 223, 231, 237, 255, 259, 263, 267, 272, 274, 276, 279, 292, 293, 294, 301, 303, 306, 316, 318, 320, 328, 329, 331, 334, 339, 340, 361, 364, 365, 369, 372, 383, 384, 386, 390, 391, 400, 413, 415, 419, 426, 428, 430, 439, 442, 451, 452, 454, 457, 459, 462, 467, 471, 479, 481, 482, 487, 489, 492, 495, 499, 501, 503, 521, 522, 525, 531, 536, 539, 540, 541, 543, 544, 552, 554, 557, 561, 567, 569, 576, 577, 579, 581, 582, 584, 588, 589, 591, 593, 598, 599, 601, 603, 609, 613, 615, 620, 625, 629, 637, 644, 649, 652, 653, 658, 674, 675, 679, 680, 689, 693, 695, 702, 704, 711, 713, 716, 718, 727, 730, 734, 741, 743, 747, 750, 752, 755, 757, 762, 763, 765, 767, 769, 775, 790, 791, 795, 798]\n",
            "after fairness correction:\n",
            "average loss:\n",
            "0.4346287128712871\n",
            "average bias:\n",
            "0.43125\n",
            "average variance:\n",
            "0.01375\n",
            "misclassified after:  [3, 6, 9, 11, 12, 13, 15, 19, 21, 23, 24, 26, 27, 29, 31, 35, 38, 40, 42, 43, 45, 46, 47, 49, 53, 54, 59, 61, 63, 66, 72, 73, 74, 75, 76, 77, 81, 86, 88, 95, 98, 102, 103, 104, 105, 111, 112, 113, 115, 118, 120, 121, 122, 124, 128, 129, 131, 132, 135, 137, 139, 140, 146, 152, 154, 156, 158, 162, 164, 165, 167, 172, 173, 175, 179, 183, 192, 196, 198, 199, 203, 207, 210, 215, 219, 221, 222, 225, 227, 231, 232, 235, 236, 237, 238, 239, 241, 246, 248, 249, 250, 253, 254, 257, 258, 260, 261, 262, 274, 275, 279, 280, 284, 285, 286, 288, 289, 295, 303, 304, 305, 306, 310, 314, 317, 318, 324, 325, 327, 329, 332, 333, 335, 336, 337, 338, 340, 341, 342, 350, 351, 353, 355, 357, 361, 363, 366, 371, 373, 377, 381, 383, 385, 387, 391, 392, 393, 400, 403, 404, 406, 408, 410, 411, 412, 413, 414, 415, 416, 420, 422, 425, 428, 429, 430, 431, 432, 433, 436, 438, 439, 442, 443, 444, 445, 447, 449, 452, 453, 454, 456, 457, 458, 460, 462, 464, 467, 468, 469, 470, 471, 472, 474, 475, 476, 480, 483, 484, 485, 486, 487, 489, 490, 491, 492, 495, 496, 507, 511, 514, 519, 521, 522, 524, 525, 530, 532, 533, 534, 538, 540, 541, 542, 543, 545, 547, 550, 551, 555, 558, 561, 563, 566, 569, 570, 571, 575, 578, 579, 580, 584, 585, 586, 591, 593, 595, 598, 601, 603, 605, 607, 609, 612, 613, 614, 619, 620, 622, 623, 624, 625, 629, 630, 631, 633, 635, 639, 641, 642, 649, 650, 652, 653, 655, 657, 658, 664, 665, 666, 669, 672, 673, 676, 677, 678, 683, 684, 685, 687, 691, 692, 693, 696, 700, 701, 702, 704, 705, 709, 712, 713, 714, 715, 716, 719, 720, 728, 729, 731, 733, 738, 739, 741, 742, 748, 749, 752, 753, 755, 759, 760, 762, 769, 770, 775, 777, 778, 779, 783, 785, 789, 794, 795, 796, 798]\n",
            "SVC(C=1000, break_ties=False, cache_size=200, class_weight=None, coef0=0.0,\n",
            "    decision_function_shape='ovr', degree=3, gamma=250, kernel='rbf',\n",
            "    max_iter=-1, probability=True, random_state=None, shrinking=True, tol=0.001,\n",
            "    verbose=False)\n",
            "avg pred conf matrix:\n",
            "true negatives: 848 rate: 0.53 false positives: 50 rate: 0.03125 false negatives: 332 rate: 0.2075 true positives: 370 rate: 0.23125\n",
            "Equalising odds for  african-american\n",
            "average loss:\n",
            "0.24611386138613858\n",
            "average bias:\n",
            "0.24\n",
            "average variance:\n",
            "0.030693069306930693\n",
            "misclassified before:  [1, 11, 14, 18, 21, 22, 23, 27, 30, 34, 38, 48, 52, 60, 61, 62, 64, 70, 73, 76, 78, 82, 83, 87, 92, 94, 107, 124, 140, 145, 146, 147, 148, 152, 153, 155, 158, 165, 168, 176, 183, 184, 189, 190, 192, 197, 213, 219, 221, 223, 231, 237, 247, 255, 259, 260, 263, 267, 272, 274, 276, 279, 292, 293, 294, 301, 303, 306, 316, 318, 320, 329, 331, 334, 339, 340, 346, 349, 361, 364, 365, 369, 372, 383, 384, 386, 390, 391, 400, 406, 413, 415, 419, 424, 426, 428, 430, 439, 441, 442, 452, 453, 454, 457, 458, 459, 462, 467, 471, 479, 481, 482, 487, 489, 492, 493, 495, 499, 503, 521, 522, 525, 531, 539, 540, 541, 543, 544, 552, 554, 557, 561, 567, 576, 577, 579, 581, 582, 584, 588, 589, 591, 593, 598, 599, 601, 603, 609, 613, 615, 620, 629, 637, 644, 649, 652, 653, 658, 674, 675, 679, 680, 689, 693, 695, 702, 704, 711, 713, 716, 718, 727, 730, 734, 741, 743, 747, 750, 752, 755, 757, 762, 763, 765, 767, 769, 775, 788, 790, 791, 795, 798]\n",
            "after fairness correction:\n",
            "average loss:\n",
            "0.43883663366336634\n",
            "average bias:\n",
            "0.43875\n",
            "average variance:\n",
            "0.00125\n",
            "misclassified after:  [3, 6, 9, 11, 12, 13, 15, 19, 21, 23, 24, 26, 27, 29, 31, 35, 38, 40, 42, 43, 44, 45, 46, 47, 49, 53, 54, 59, 61, 63, 66, 72, 73, 74, 75, 76, 77, 81, 86, 88, 95, 98, 102, 103, 104, 105, 107, 111, 112, 113, 115, 118, 120, 121, 122, 124, 128, 129, 131, 132, 135, 137, 139, 140, 146, 152, 154, 156, 158, 162, 164, 165, 167, 172, 173, 175, 179, 183, 192, 196, 198, 199, 203, 207, 210, 215, 219, 221, 222, 225, 227, 231, 232, 235, 236, 237, 238, 239, 241, 246, 248, 249, 253, 254, 255, 257, 258, 260, 261, 262, 274, 275, 279, 280, 284, 285, 286, 288, 289, 295, 303, 304, 305, 306, 310, 314, 317, 318, 324, 325, 327, 329, 332, 333, 335, 336, 337, 338, 340, 341, 342, 350, 351, 352, 353, 355, 357, 361, 363, 366, 371, 373, 377, 381, 383, 385, 387, 391, 392, 393, 400, 403, 404, 406, 408, 410, 411, 412, 413, 414, 415, 416, 420, 421, 422, 425, 428, 429, 430, 431, 432, 433, 436, 438, 439, 442, 443, 444, 445, 447, 449, 452, 453, 454, 456, 457, 458, 460, 462, 464, 467, 468, 469, 470, 471, 472, 474, 475, 476, 480, 483, 484, 485, 486, 487, 489, 490, 491, 492, 495, 496, 507, 511, 514, 519, 521, 522, 524, 525, 530, 532, 533, 534, 538, 540, 541, 542, 543, 545, 547, 550, 551, 555, 557, 558, 561, 563, 566, 569, 570, 571, 575, 578, 579, 580, 584, 585, 586, 591, 593, 595, 598, 601, 603, 605, 607, 609, 612, 613, 614, 619, 620, 622, 623, 624, 625, 629, 630, 631, 633, 635, 639, 641, 642, 648, 649, 650, 652, 653, 655, 657, 658, 664, 665, 666, 669, 672, 673, 676, 677, 678, 683, 684, 685, 687, 691, 692, 693, 696, 700, 701, 702, 704, 705, 709, 712, 713, 714, 715, 716, 719, 720, 728, 729, 731, 733, 738, 739, 741, 742, 748, 749, 752, 753, 755, 759, 760, 762, 769, 770, 775, 777, 778, 779, 783, 785, 789, 794, 795, 796, 798]\n",
            "SVC(C=1000, break_ties=False, cache_size=200, class_weight=None, coef0=0.0,\n",
            "    decision_function_shape='ovr', degree=3, gamma=500, kernel='rbf',\n",
            "    max_iter=-1, probability=True, random_state=None, shrinking=True, tol=0.001,\n",
            "    verbose=False)\n",
            "avg pred conf matrix:\n",
            "true negatives: 849 rate: 0.530625 false positives: 49 rate: 0.030625 false negatives: 319 rate: 0.199375 true positives: 383 rate: 0.239375\n",
            "Equalising odds for  african-american\n",
            "average loss:\n",
            "0.24522277227722775\n",
            "average bias:\n",
            "0.23875\n",
            "average variance:\n",
            "0.03285891089108911\n",
            "misclassified before:  [1, 11, 14, 18, 21, 22, 23, 27, 30, 34, 38, 48, 52, 60, 61, 62, 64, 70, 73, 76, 82, 83, 84, 87, 92, 94, 107, 117, 124, 136, 140, 145, 146, 147, 148, 152, 153, 155, 158, 165, 168, 176, 183, 189, 190, 192, 197, 213, 219, 221, 223, 231, 237, 247, 255, 259, 260, 263, 267, 272, 274, 276, 279, 292, 293, 294, 301, 303, 311, 316, 320, 329, 331, 334, 339, 340, 349, 361, 364, 365, 369, 372, 383, 384, 386, 390, 391, 400, 406, 413, 415, 419, 426, 428, 430, 439, 441, 442, 452, 453, 454, 457, 458, 459, 462, 467, 471, 479, 481, 482, 487, 489, 492, 495, 499, 503, 521, 522, 525, 539, 540, 541, 543, 544, 545, 552, 554, 557, 567, 576, 577, 579, 581, 582, 584, 588, 589, 591, 593, 598, 599, 601, 603, 609, 613, 615, 620, 629, 637, 644, 649, 652, 653, 657, 667, 674, 678, 679, 680, 683, 689, 693, 694, 695, 702, 704, 711, 713, 716, 718, 727, 730, 734, 741, 743, 747, 750, 752, 755, 757, 762, 763, 765, 767, 769, 775, 788, 790, 791, 795, 798]\n",
            "after fairness correction:\n",
            "average loss:\n",
            "0.42382425742574253\n",
            "average bias:\n",
            "0.4325\n",
            "average variance:\n",
            "0.01625\n",
            "misclassified after:  [3, 6, 9, 11, 12, 13, 15, 19, 21, 23, 24, 26, 27, 29, 31, 35, 38, 40, 42, 43, 44, 45, 46, 47, 49, 53, 54, 59, 61, 63, 66, 72, 73, 74, 75, 76, 77, 81, 86, 88, 95, 98, 102, 103, 104, 105, 107, 111, 112, 113, 115, 118, 120, 121, 122, 124, 128, 129, 131, 132, 135, 137, 139, 140, 146, 152, 154, 156, 158, 162, 164, 165, 167, 172, 173, 175, 179, 183, 192, 196, 198, 199, 203, 207, 210, 215, 219, 221, 222, 225, 227, 231, 232, 235, 236, 237, 238, 239, 241, 246, 248, 249, 253, 254, 255, 257, 258, 260, 261, 262, 274, 275, 279, 280, 284, 285, 286, 288, 289, 295, 303, 304, 305, 306, 310, 314, 317, 318, 324, 325, 327, 329, 332, 333, 335, 336, 337, 338, 340, 341, 342, 345, 350, 351, 352, 353, 355, 357, 361, 363, 366, 371, 373, 377, 381, 383, 385, 387, 391, 392, 393, 400, 403, 404, 406, 408, 411, 412, 413, 414, 415, 416, 420, 421, 422, 425, 428, 429, 430, 431, 432, 433, 436, 438, 439, 442, 443, 444, 445, 447, 449, 452, 453, 454, 456, 457, 458, 460, 462, 464, 467, 468, 469, 470, 471, 472, 474, 475, 476, 480, 483, 484, 485, 486, 487, 489, 490, 491, 495, 496, 507, 511, 514, 519, 521, 522, 524, 525, 530, 532, 533, 534, 538, 541, 542, 543, 545, 547, 550, 551, 555, 557, 558, 561, 563, 566, 570, 571, 575, 578, 579, 580, 584, 585, 586, 591, 593, 595, 601, 603, 604, 605, 607, 609, 612, 613, 614, 619, 620, 622, 623, 624, 625, 629, 630, 631, 633, 635, 639, 641, 642, 648, 649, 650, 652, 653, 655, 657, 658, 664, 665, 666, 669, 672, 673, 676, 677, 678, 683, 684, 685, 687, 691, 692, 693, 700, 701, 702, 704, 705, 709, 712, 713, 714, 715, 716, 719, 728, 729, 731, 733, 738, 739, 741, 742, 748, 749, 752, 753, 755, 759, 760, 762, 769, 770, 773, 775, 777, 778, 779, 785, 789, 794, 795, 796, 798]\n",
            "SVC(C=1000, break_ties=False, cache_size=200, class_weight=None, coef0=0.0,\n",
            "    decision_function_shape='ovr', degree=3, gamma=750, kernel='rbf',\n",
            "    max_iter=-1, probability=True, random_state=None, shrinking=True, tol=0.001,\n",
            "    verbose=False)\n",
            "avg pred conf matrix:\n",
            "true negatives: 841 rate: 0.525625 false positives: 57 rate: 0.035625 false negatives: 302 rate: 0.18875 true positives: 400 rate: 0.25\n",
            "Equalising odds for  african-american\n",
            "average loss:\n",
            "0.24356435643564353\n",
            "average bias:\n",
            "0.2325\n",
            "average variance:\n",
            "0.04346534653465346\n",
            "misclassified before:  [1, 3, 11, 18, 21, 22, 23, 27, 30, 34, 38, 48, 52, 60, 61, 62, 64, 70, 73, 76, 82, 83, 84, 87, 94, 107, 124, 136, 140, 145, 146, 147, 148, 152, 155, 158, 165, 168, 176, 183, 189, 190, 192, 197, 204, 213, 219, 221, 223, 231, 237, 244, 255, 259, 260, 267, 272, 274, 276, 279, 292, 294, 301, 303, 306, 311, 316, 320, 329, 331, 334, 339, 340, 349, 361, 364, 365, 369, 372, 383, 384, 386, 390, 391, 400, 406, 413, 415, 419, 426, 428, 430, 439, 442, 452, 453, 454, 457, 458, 459, 460, 462, 467, 471, 479, 481, 482, 487, 489, 492, 495, 499, 503, 521, 525, 539, 540, 543, 544, 545, 552, 554, 557, 567, 576, 577, 579, 581, 582, 584, 588, 589, 590, 591, 599, 601, 603, 609, 613, 615, 620, 629, 637, 644, 649, 652, 653, 657, 667, 674, 678, 679, 680, 682, 683, 689, 693, 694, 695, 702, 704, 711, 713, 716, 718, 727, 730, 734, 741, 743, 747, 750, 752, 755, 757, 759, 762, 763, 765, 767, 769, 775, 790, 791, 792, 795]\n",
            "after fairness correction:\n",
            "average loss:\n",
            "0.47658415841584156\n",
            "average bias:\n",
            "0.44375\n",
            "average variance:\n",
            "0.27625\n",
            "misclassified after:  [0, 3, 6, 9, 11, 12, 13, 15, 19, 21, 23, 24, 26, 27, 29, 31, 32, 35, 40, 42, 44, 45, 46, 47, 49, 53, 54, 59, 61, 63, 66, 72, 73, 74, 75, 76, 77, 81, 86, 88, 95, 96, 98, 102, 103, 104, 105, 107, 111, 112, 113, 115, 118, 120, 121, 122, 124, 128, 129, 131, 132, 135, 137, 139, 140, 146, 152, 154, 156, 158, 164, 165, 167, 172, 173, 175, 179, 183, 192, 196, 198, 199, 203, 207, 210, 211, 215, 219, 221, 222, 225, 227, 231, 232, 235, 237, 238, 241, 246, 248, 249, 253, 254, 255, 257, 258, 260, 261, 262, 263, 274, 275, 279, 280, 283, 284, 285, 286, 288, 289, 291, 295, 303, 304, 305, 306, 310, 314, 317, 318, 324, 325, 327, 329, 332, 333, 335, 336, 337, 338, 340, 341, 342, 347, 350, 351, 353, 355, 357, 361, 363, 366, 371, 373, 377, 381, 383, 385, 387, 391, 392, 393, 400, 403, 404, 406, 408, 410, 411, 412, 413, 414, 415, 416, 420, 421, 422, 425, 428, 429, 430, 431, 432, 433, 436, 438, 439, 442, 443, 444, 445, 447, 449, 452, 453, 454, 456, 457, 458, 460, 462, 464, 467, 468, 469, 470, 471, 472, 474, 475, 476, 480, 483, 484, 485, 486, 487, 489, 490, 491, 492, 495, 496, 507, 511, 514, 519, 521, 522, 524, 525, 530, 532, 533, 534, 538, 540, 541, 542, 543, 545, 547, 550, 551, 555, 557, 558, 561, 563, 566, 569, 570, 571, 575, 578, 579, 580, 584, 585, 586, 591, 593, 595, 598, 601, 603, 604, 605, 607, 609, 612, 613, 614, 619, 620, 622, 623, 624, 625, 629, 630, 631, 633, 635, 639, 641, 642, 648, 649, 650, 652, 653, 655, 657, 658, 664, 665, 666, 669, 672, 673, 676, 677, 678, 683, 684, 685, 687, 691, 692, 693, 696, 700, 701, 702, 704, 705, 709, 712, 713, 714, 715, 716, 719, 720, 728, 729, 731, 733, 738, 739, 741, 742, 748, 749, 752, 753, 755, 759, 760, 762, 767, 769, 770, 775, 777, 778, 779, 783, 785, 789, 794, 795, 796, 798]\n",
            "SVC(C=1000, break_ties=False, cache_size=200, class_weight=None, coef0=0.0,\n",
            "    decision_function_shape='ovr', degree=3, gamma=1000, kernel='rbf',\n",
            "    max_iter=-1, probability=True, random_state=None, shrinking=True, tol=0.001,\n",
            "    verbose=False)\n",
            "avg pred conf matrix:\n",
            "true negatives: 824 rate: 0.515 false positives: 74 rate: 0.04625 false negatives: 283 rate: 0.176875 true positives: 419 rate: 0.261875\n",
            "Equalising odds for  african-american\n",
            "average loss:\n",
            "0.2400618811881188\n",
            "average bias:\n",
            "0.23375\n",
            "average variance:\n",
            "0.04871287128712872\n",
            "misclassified before:  [3, 11, 18, 21, 22, 23, 27, 30, 34, 38, 48, 52, 60, 61, 62, 64, 70, 71, 73, 76, 82, 83, 87, 94, 107, 124, 136, 140, 145, 146, 147, 148, 152, 155, 158, 165, 168, 169, 173, 176, 183, 189, 190, 192, 197, 204, 213, 221, 223, 231, 237, 244, 255, 259, 260, 261, 267, 272, 274, 276, 279, 292, 294, 301, 303, 306, 311, 313, 316, 320, 329, 331, 334, 339, 340, 349, 361, 364, 365, 369, 372, 383, 386, 390, 391, 400, 406, 409, 413, 415, 416, 419, 426, 428, 430, 439, 442, 452, 453, 454, 457, 458, 459, 460, 462, 467, 471, 476, 479, 481, 482, 487, 489, 492, 495, 499, 503, 521, 525, 539, 540, 543, 544, 552, 554, 557, 567, 576, 577, 579, 581, 582, 584, 589, 590, 591, 599, 601, 603, 609, 613, 615, 620, 629, 637, 644, 649, 652, 653, 657, 667, 674, 679, 680, 682, 683, 689, 693, 695, 702, 704, 708, 711, 713, 716, 718, 719, 727, 730, 734, 741, 747, 750, 752, 755, 757, 759, 762, 763, 765, 767, 769, 775, 790, 791, 792, 795]\n",
            "after fairness correction:\n",
            "average loss:\n",
            "0.48449257425742576\n",
            "average bias:\n",
            "0.44375\n",
            "average variance:\n",
            "0.3512376237623762\n",
            "misclassified after:  [3, 6, 9, 11, 12, 13, 15, 19, 21, 23, 24, 26, 27, 29, 31, 32, 35, 40, 42, 43, 44, 45, 46, 47, 49, 53, 54, 59, 61, 63, 66, 72, 73, 74, 75, 76, 77, 81, 86, 88, 95, 98, 102, 103, 104, 105, 107, 111, 112, 113, 115, 118, 120, 121, 122, 124, 128, 129, 131, 132, 135, 137, 139, 140, 146, 152, 154, 156, 158, 162, 164, 165, 167, 172, 173, 175, 179, 183, 192, 196, 198, 199, 203, 207, 210, 215, 219, 221, 222, 225, 227, 231, 232, 235, 237, 238, 241, 246, 248, 249, 253, 254, 255, 257, 258, 260, 261, 262, 263, 274, 275, 279, 280, 283, 284, 285, 286, 288, 289, 291, 295, 303, 304, 305, 306, 310, 314, 317, 318, 324, 325, 327, 329, 332, 333, 335, 336, 337, 338, 340, 341, 342, 350, 351, 352, 353, 355, 357, 361, 363, 366, 371, 373, 377, 381, 383, 385, 387, 391, 392, 393, 400, 403, 404, 406, 408, 410, 411, 412, 413, 414, 415, 416, 420, 421, 422, 425, 428, 429, 430, 431, 432, 433, 436, 438, 439, 442, 443, 444, 445, 447, 449, 452, 453, 454, 456, 457, 458, 460, 462, 464, 467, 468, 469, 470, 471, 472, 474, 475, 476, 480, 483, 484, 485, 486, 487, 489, 490, 491, 492, 495, 496, 507, 511, 514, 519, 521, 522, 524, 525, 530, 532, 533, 534, 538, 540, 541, 542, 543, 545, 547, 550, 551, 555, 557, 558, 561, 563, 566, 569, 570, 571, 575, 578, 579, 580, 584, 585, 586, 591, 593, 595, 598, 601, 603, 604, 605, 607, 609, 612, 613, 614, 619, 620, 622, 623, 624, 625, 629, 630, 631, 633, 635, 639, 641, 642, 648, 649, 650, 652, 653, 655, 657, 658, 664, 665, 666, 669, 672, 673, 676, 677, 678, 683, 684, 685, 687, 691, 692, 693, 696, 700, 701, 702, 704, 705, 709, 712, 713, 714, 715, 716, 719, 720, 728, 729, 731, 733, 738, 739, 741, 742, 744, 748, 749, 752, 753, 755, 759, 760, 762, 767, 769, 770, 775, 777, 778, 779, 783, 785, 789, 794, 795, 796, 798]\n",
            "SVC(C=1000, break_ties=False, cache_size=200, class_weight=None, coef0=0.0,\n",
            "    decision_function_shape='ovr', degree=3, gamma=2500, kernel='rbf',\n",
            "    max_iter=-1, probability=True, random_state=None, shrinking=True, tol=0.001,\n",
            "    verbose=False)\n",
            "avg pred conf matrix:\n",
            "true negatives: 798 rate: 0.49875 false positives: 100 rate: 0.0625 false negatives: 230 rate: 0.14375 true positives: 472 rate: 0.295\n",
            "Equalising odds for  african-american\n",
            "average loss:\n",
            "0.23121287128712872\n",
            "average bias:\n",
            "0.215\n",
            "average variance:\n",
            "0.04972772277227722\n",
            "misclassified before:  [3, 11, 18, 21, 22, 23, 28, 30, 34, 38, 48, 60, 61, 62, 71, 73, 76, 82, 83, 87, 94, 106, 107, 128, 136, 140, 141, 145, 146, 148, 152, 155, 157, 158, 165, 166, 168, 169, 173, 176, 183, 190, 192, 197, 213, 221, 223, 231, 237, 244, 255, 259, 261, 267, 274, 276, 279, 292, 294, 301, 306, 311, 313, 316, 320, 331, 334, 339, 340, 349, 361, 364, 365, 369, 372, 386, 390, 391, 400, 409, 413, 415, 416, 419, 426, 428, 439, 442, 449, 452, 453, 454, 457, 462, 466, 467, 471, 476, 479, 481, 482, 487, 489, 492, 495, 499, 503, 521, 525, 527, 528, 539, 540, 543, 544, 552, 554, 557, 566, 567, 577, 579, 582, 584, 589, 590, 591, 599, 601, 603, 609, 613, 615, 620, 629, 637, 644, 649, 653, 657, 674, 679, 680, 689, 693, 695, 702, 704, 706, 708, 711, 713, 718, 719, 720, 727, 734, 739, 741, 752, 755, 757, 759, 762, 763, 765, 767, 769, 775, 790, 792, 795]\n",
            "after fairness correction:\n",
            "average loss:\n",
            "0.49099009900990104\n",
            "average bias:\n",
            "0.445\n",
            "average variance:\n",
            "0.3945544554455445\n",
            "misclassified after:  [3, 6, 9, 11, 12, 13, 15, 19, 21, 23, 24, 26, 27, 29, 31, 35, 38, 40, 42, 43, 44, 45, 46, 47, 49, 53, 54, 59, 61, 63, 66, 72, 73, 74, 75, 76, 77, 81, 88, 95, 98, 102, 103, 104, 105, 107, 111, 112, 113, 115, 118, 120, 121, 122, 124, 128, 129, 131, 132, 135, 137, 139, 140, 146, 149, 152, 154, 156, 158, 162, 163, 164, 165, 167, 168, 172, 173, 175, 179, 183, 192, 196, 199, 203, 207, 210, 215, 219, 221, 222, 225, 227, 231, 232, 235, 236, 237, 238, 239, 241, 246, 248, 249, 252, 253, 255, 257, 258, 260, 261, 262, 274, 275, 279, 280, 284, 285, 286, 288, 289, 295, 303, 304, 305, 306, 310, 314, 317, 318, 324, 325, 327, 329, 332, 333, 334, 335, 336, 337, 338, 340, 341, 342, 345, 350, 351, 352, 353, 355, 357, 361, 363, 366, 371, 373, 377, 381, 383, 385, 387, 391, 392, 393, 394, 400, 403, 404, 406, 410, 411, 412, 413, 414, 415, 416, 419, 420, 421, 422, 425, 428, 429, 430, 431, 432, 433, 436, 438, 439, 442, 443, 444, 445, 447, 449, 452, 453, 454, 456, 457, 458, 460, 462, 464, 467, 468, 469, 470, 471, 472, 474, 475, 476, 480, 483, 484, 485, 486, 487, 489, 490, 491, 492, 495, 496, 507, 511, 514, 519, 522, 524, 525, 527, 530, 532, 533, 534, 538, 540, 541, 542, 543, 545, 547, 550, 551, 557, 558, 561, 563, 566, 569, 570, 571, 575, 578, 579, 580, 584, 585, 586, 591, 593, 595, 598, 601, 603, 604, 605, 607, 609, 612, 613, 614, 619, 620, 622, 623, 624, 625, 629, 630, 631, 633, 635, 639, 641, 642, 648, 649, 650, 652, 653, 655, 657, 658, 664, 665, 666, 669, 672, 673, 676, 677, 678, 683, 684, 685, 687, 691, 692, 693, 696, 700, 701, 702, 704, 705, 709, 712, 713, 714, 715, 716, 719, 720, 728, 729, 731, 733, 738, 739, 741, 742, 748, 749, 752, 753, 755, 759, 760, 762, 767, 769, 770, 775, 777, 778, 779, 783, 785, 789, 794, 795, 796, 798]\n",
            "SVC(C=1000, break_ties=False, cache_size=200, class_weight=None, coef0=0.0,\n",
            "    decision_function_shape='ovr', degree=3, gamma=5000, kernel='rbf',\n",
            "    max_iter=-1, probability=True, random_state=None, shrinking=True, tol=0.001,\n",
            "    verbose=False)\n",
            "avg pred conf matrix:\n",
            "true negatives: 765 rate: 0.478125 false positives: 133 rate: 0.083125 false negatives: 229 rate: 0.143125 true positives: 473 rate: 0.295625\n",
            "Equalising odds for  african-american\n",
            "average loss:\n",
            "0.2397029702970297\n",
            "average bias:\n",
            "0.2325\n",
            "average variance:\n",
            "0.06334158415841584\n",
            "misclassified before:  [3, 11, 18, 21, 22, 23, 28, 30, 34, 38, 48, 60, 61, 62, 70, 71, 73, 76, 77, 82, 83, 87, 94, 106, 107, 117, 128, 136, 140, 141, 145, 146, 152, 153, 155, 158, 165, 166, 168, 169, 173, 176, 183, 190, 192, 197, 213, 221, 223, 228, 231, 237, 244, 259, 261, 267, 274, 276, 279, 292, 294, 301, 306, 313, 316, 317, 320, 331, 334, 339, 340, 351, 356, 358, 361, 364, 365, 369, 372, 382, 385, 386, 390, 391, 400, 409, 413, 415, 416, 417, 419, 426, 428, 439, 442, 449, 452, 453, 454, 457, 462, 466, 467, 471, 476, 479, 481, 482, 487, 489, 492, 499, 503, 520, 521, 525, 526, 527, 528, 540, 543, 544, 548, 552, 554, 557, 567, 574, 577, 579, 582, 583, 584, 589, 590, 591, 599, 601, 603, 609, 613, 615, 620, 629, 637, 647, 649, 653, 657, 672, 674, 679, 680, 682, 689, 695, 702, 704, 706, 708, 709, 711, 713, 718, 719, 720, 724, 727, 733, 734, 739, 741, 745, 746, 752, 755, 757, 759, 762, 763, 765, 767, 775, 790, 792, 795]\n",
            "after fairness correction:\n",
            "average loss:\n",
            "0.44898514851485144\n",
            "average bias:\n",
            "0.4425\n",
            "average variance:\n",
            "0.0275\n",
            "misclassified after:  [3, 6, 9, 11, 12, 13, 15, 19, 21, 23, 24, 26, 27, 29, 31, 35, 38, 40, 42, 43, 44, 45, 46, 47, 49, 53, 54, 59, 61, 63, 66, 72, 73, 74, 75, 76, 77, 81, 86, 88, 95, 98, 102, 103, 104, 105, 107, 111, 112, 113, 115, 118, 120, 121, 122, 124, 128, 129, 131, 132, 135, 137, 139, 140, 146, 152, 154, 156, 158, 162, 164, 165, 167, 172, 173, 175, 179, 183, 192, 196, 198, 199, 203, 207, 210, 215, 219, 221, 222, 225, 227, 231, 232, 235, 236, 237, 238, 239, 241, 246, 248, 249, 253, 254, 255, 257, 258, 260, 261, 262, 274, 275, 279, 280, 284, 285, 286, 288, 289, 295, 303, 304, 305, 306, 310, 314, 317, 318, 324, 325, 327, 329, 332, 333, 335, 336, 337, 338, 340, 341, 342, 345, 350, 351, 352, 353, 355, 357, 361, 363, 366, 371, 373, 377, 381, 383, 385, 387, 391, 392, 393, 400, 403, 404, 406, 408, 410, 411, 412, 413, 414, 415, 416, 420, 421, 422, 425, 428, 429, 430, 431, 432, 433, 436, 438, 439, 442, 443, 444, 445, 447, 449, 452, 453, 454, 456, 457, 458, 460, 462, 464, 467, 468, 469, 470, 471, 472, 474, 475, 476, 480, 483, 484, 485, 486, 487, 489, 490, 491, 492, 495, 496, 507, 511, 514, 519, 521, 522, 524, 525, 530, 532, 533, 534, 538, 540, 541, 542, 543, 545, 547, 550, 551, 555, 557, 558, 561, 563, 566, 569, 570, 571, 575, 578, 579, 580, 584, 585, 586, 591, 593, 595, 598, 601, 603, 604, 605, 607, 609, 612, 613, 614, 619, 620, 622, 623, 624, 625, 629, 630, 631, 633, 635, 639, 641, 642, 648, 649, 650, 652, 653, 655, 657, 658, 664, 665, 666, 669, 672, 673, 676, 677, 678, 683, 684, 685, 687, 691, 692, 693, 696, 700, 701, 702, 704, 705, 709, 712, 713, 714, 715, 716, 719, 720, 728, 729, 731, 733, 738, 739, 741, 742, 748, 749, 752, 753, 755, 759, 760, 762, 767, 769, 770, 775, 777, 778, 779, 783, 785, 789, 794, 795, 796, 798]\n",
            "SVC(C=1000, break_ties=False, cache_size=200, class_weight=None, coef0=0.0,\n",
            "    decision_function_shape='ovr', degree=3, gamma=7500, kernel='rbf',\n",
            "    max_iter=-1, probability=True, random_state=None, shrinking=True, tol=0.001,\n",
            "    verbose=False)\n"
          ],
          "name": "stdout"
        }
      ]
    },
    {
      "cell_type": "markdown",
      "metadata": {
        "id": "PXUOHtN59jgS",
        "colab_type": "text"
      },
      "source": [
        "# Plots"
      ]
    },
    {
      "cell_type": "markdown",
      "metadata": {
        "id": "76g7YLZO9kAl",
        "colab_type": "text"
      },
      "source": [
        "Creating the appropriate plots to visualise our results. We plot: \n",
        "\n",
        "1.   Bias error vs Variance error\n",
        "2.   Gamma value of RBF SVM vs Variance error\n",
        "3.   Gamma value of RBF SVM vs Bias error\n"
      ]
    },
    {
      "cell_type": "code",
      "metadata": {
        "id": "p1_KrpPj6_Yo",
        "colab_type": "code",
        "colab": {}
      },
      "source": [
        "import matplotlib.pyplot as plt                                  \n",
        "def plot_bias_variance(biases, variances, gammas, cs, degrees, losses):   \n",
        "  print(\"plotting bias/var\") \n",
        "  plt.scatter(biases, variances)                                              \n",
        "  plt.title('bias vs variance errors')                                     \n",
        "  plt.xlabel('bias')                                                       \n",
        "  plt.ylabel('variance')                                                   \n",
        "  plt.show()\n",
        "\n",
        "  plt.scatter(gammas, variances)\n",
        "  plt.xscale('log')                                              \n",
        "  plt.title('RBF SVM \\n gamma size vs variance errors')                                     \n",
        "  plt.xlabel('gamma')                                                       \n",
        "  plt.ylabel('variance')                                                   \n",
        "  plt.show()                                                            \n",
        "\n",
        "  plt.scatter(gammas, biases)                               \n",
        "  plt.xscale('log')                                                             \n",
        "  plt.title('RBF SVM\\n gamma size vs bias errors')                                     \n",
        "  plt.xlabel('gamma')                                                       \n",
        "  plt.ylabel('bias')                                                   \n",
        "  plt.show()            \n",
        "\n",
        "  plt.scatter(gammas, losses)                               \n",
        "  plt.xscale('log')                                                             \n",
        "  plt.title('RBF SVM \\n gamma size vs total error')                                     \n",
        "  plt.xlabel('gamma')                                                       \n",
        "  plt.ylabel('error')                                                   \n",
        "  plt.show()   \n",
        "\n",
        "  # plt.scatter(cs, biases)                               \n",
        "  # plt.xscale('log')                                                             \n",
        "  # plt.title('RBF SVM, gamma=0.1, C value vs bias errors')                                     \n",
        "  # plt.xlabel('C value')                                                       \n",
        "  # plt.ylabel('bias')                                                   \n",
        "  # plt.show()       \n",
        "\n",
        "  # plt.scatter(cs, variances)                               \n",
        "  # plt.xscale('log')                                                             \n",
        "  # plt.title('RBF SVM, gamma=0.1, C value vs variance errors')                                     \n",
        "  # plt.xlabel('C value')                                                       \n",
        "  # plt.ylabel('variance')                                                   \n",
        "  # plt.show()    \n",
        "\n",
        "  # plt.scatter(cs, losses)                               \n",
        "  # plt.xscale('log')                                                             \n",
        "  # plt.title('RBF SVM, gamma=0.1, C value vs zero-one loss')                                     \n",
        "  # plt.xlabel('C value')                                                       \n",
        "  # plt.ylabel('loss')                                                   \n",
        "  # plt.show()   \n",
        "\n",
        "  # plt.scatter(biases, variances)                                              \n",
        "  # plt.title('bias vs variance errors')                                     \n",
        "  # plt.xlabel('bias')                                                       \n",
        "  # plt.ylabel('variance')                                                   \n",
        "  # plt.show()\n",
        "\n",
        "  # plt.scatter(degrees, variances)\n",
        "  # plt.title('poly SVM, degree size vs variance errors')                                     \n",
        "  # plt.xlabel('degree')                                                       \n",
        "  # plt.ylabel('variance')                                                   \n",
        "  # plt.show()                                                            \n",
        "\n",
        "  # plt.scatter(degrees, biases)                               \n",
        "  # plt.title('poly SVM, degree size vs bias errors')                                     \n",
        "  # plt.xlabel('degree')                                                       \n",
        "  # plt.ylabel('bias')                                                   \n",
        "  # plt.show()            \n",
        "\n",
        "  # plt.scatter(degrees, losses)                               \n",
        "  # plt.title('poly SVM, degree size vs generalisation errors')                                     \n",
        "  # plt.xlabel('degree')                                                       \n",
        "  # plt.ylabel('error')                                                   \n",
        "  # plt.show()  \n"
      ],
      "execution_count": 0,
      "outputs": []
    },
    {
      "cell_type": "code",
      "metadata": {
        "id": "Qt1Erw7U18Vu",
        "colab_type": "code",
        "colab": {
          "base_uri": "https://localhost:8080/",
          "height": 1000
        },
        "outputId": "9e40cb70-b852-4369-97d1-2961efd39071"
      },
      "source": [
        "print(\"before fairness correction:\")\n",
        "plot_bias_variance(biases, variances, gammas, cs, degrees, avg_losses)\n",
        "if(equalised_odds):\n",
        "  print(\"after fairness correction:\")\n",
        "  plot_bias_variance(biases_eq, variances_eq, gammas, cs, degrees, avg_losses_eq)"
      ],
      "execution_count": 27,
      "outputs": [
        {
          "output_type": "stream",
          "text": [
            "before fairness correction:\n",
            "plotting bias/var\n"
          ],
          "name": "stdout"
        },
        {
          "output_type": "display_data",
          "data": {
            "image/png": "[encoded data removed]",
            "text/plain": [
              "<Figure size 432x288 with 1 Axes>"
            ]
          },
          "metadata": {
            "tags": [],
            "needs_background": "light"
          }
        },
        {
          "output_type": "display_data",
          "data": {
            "image/png": "[encoded data removed]",
            "text/plain": [
              "<Figure size 432x288 with 1 Axes>"
            ]
          },
          "metadata": {
            "tags": [],
            "needs_background": "light"
          }
        },
        {
          "output_type": "display_data",
          "data": {
            "image/png": "[encoded data removed]",
            "text/plain": [
              "<Figure size 432x288 with 1 Axes>"
            ]
          },
          "metadata": {
            "tags": [],
            "needs_background": "light"
          }
        },
        {
          "output_type": "display_data",
          "data": {
            "image/png": "[encoded data removed]",
            "text/plain": [
              "<Figure size 432x288 with 1 Axes>"
            ]
          },
          "metadata": {
            "tags": [],
            "needs_background": "light"
          }
        },
        {
          "output_type": "stream",
          "text": [
            "after fairness correction:\n",
            "plotting bias/var\n"
          ],
          "name": "stdout"
        },
        {
          "output_type": "display_data",
          "data": {
            "image/png": "[encoded data removed]",
            "text/plain": [
              "<Figure size 432x288 with 1 Axes>"
            ]
          },
          "metadata": {
            "tags": [],
            "needs_background": "light"
          }
        },
        {
          "output_type": "display_data",
          "data": {
            "image/png": "[encoded data removed]",
            "text/plain": [
              "<Figure size 432x288 with 1 Axes>"
            ]
          },
          "metadata": {
            "tags": [],
            "needs_background": "light"
          }
        },
        {
          "output_type": "display_data",
          "data": {
            "image/png": "[encoded data removed]",
            "text/plain": [
              "<Figure size 432x288 with 1 Axes>"
            ]
          },
          "metadata": {
            "tags": [],
            "needs_background": "light"
          }
        },
        {
          "output_type": "display_data",
          "data": {
            "image/png": "[encoded data removed]",
            "text/plain": [
              "<Figure size 432x288 with 1 Axes>"
            ]
          },
          "metadata": {
            "tags": [],
            "needs_background": "light"
          }
        }
      ]
    }
  ]
}