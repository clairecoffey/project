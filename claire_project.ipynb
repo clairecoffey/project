{
  "nbformat": 4,
  "nbformat_minor": 0,
  "metadata": {
    "colab": {
      "name": "claire_project.ipynb",
      "provenance": [],
      "collapsed_sections": [],
      "include_colab_link": true
    },
    "kernelspec": {
      "name": "python3",
      "display_name": "Python 3"
    }
  },
  "cells": [
    {
      "cell_type": "markdown",
      "metadata": {
        "id": "view-in-github",
        "colab_type": "text"
      },
      "source": [
        "<a href=\"https://colab.research.google.com/github/clairecoffey/project/blob/master/claire_project.ipynb\" target=\"_parent\"><img src=\"https://colab.research.google.com/assets/colab-badge.svg\" alt=\"Open In Colab\"/></a>"
      ]
    },
    {
      "cell_type": "markdown",
      "metadata": {
        "id": "ep76GcW0r5EF",
        "colab_type": "text"
      },
      "source": [
        "# Fairness and the Bias/Variance Tradeoff\n",
        "\n",
        "## Claire Coffey\n",
        "\n",
        "## 1st May 2020"
      ]
    },
    {
      "cell_type": "markdown",
      "metadata": {
        "id": "pt8eZN7L71OB",
        "colab_type": "text"
      },
      "source": [
        "In this notebook we are studying bias and variance errors in the context of recidivism data. "
      ]
    },
    {
      "cell_type": "markdown",
      "metadata": {
        "id": "j5j4K9fEtccc",
        "colab_type": "text"
      },
      "source": [
        "## Imports and Setup"
      ]
    },
    {
      "cell_type": "markdown",
      "metadata": {
        "id": "VwPz0FbDrdOB",
        "colab_type": "text"
      },
      "source": [
        "Imports: first import the relevant libraries used throughout. "
      ]
    },
    {
      "cell_type": "code",
      "metadata": {
        "id": "q3xUTfnrkM0N",
        "colab_type": "code",
        "colab": {}
      },
      "source": [
        "# imports\n",
        "def warn(*args, **kwargs):\n",
        "    pass\n",
        "import warnings\n",
        "warnings.warn = warn\n",
        "import numpy as np\n",
        "import pandas as pd"
      ],
      "execution_count": 0,
      "outputs": []
    },
    {
      "cell_type": "markdown",
      "metadata": {
        "id": "ojFZOY-LtsdL",
        "colab_type": "text"
      },
      "source": [
        "# Read in recidivism data "
      ]
    },
    {
      "cell_type": "markdown",
      "metadata": {
        "id": "oLIFxjZ9roCK",
        "colab_type": "text"
      },
      "source": [
        "In this notebook we are studying recidivism data. We utilise the COMPAS recidivism dataset, which uses recidivism data from Broward County jail and has been explored in the following studies:\n",
        "\n",
        "\"The accuracy, fairness, and limits of predicting recidivism\", paper available at:\n",
        "https://advances.sciencemag.org/content/4/1/eaao5580#corresp-1\n",
        "\n",
        "\"Machine Bias\" ProPublica article, available at:\n",
        "https://www.propublica.org/article/machine-bias-risk-assessments-in-criminal-sentencing\n",
        "\n",
        "The dataset used can be found at:\n",
        "https://github.com/propublica/compas-analysis\n"
      ]
    },
    {
      "cell_type": "markdown",
      "metadata": {
        "id": "tmO2E_MbHUGY",
        "colab_type": "text"
      },
      "source": [
        "Here we import and read in the recidivism data. \n",
        "\n",
        "Currently, we use a selection \n",
        "of fields from this dataset to predict recidivism classification (0 = will not reoffend; 1 = will reoffend)."
      ]
    },
    {
      "cell_type": "code",
      "metadata": {
        "id": "xdCKnj1kqViI",
        "colab_type": "code",
        "colab": {}
      },
      "source": [
        "\n",
        "def load_file():\n",
        "  full_data = False\n",
        "  print(\"importing data\")\n",
        "  if full_data:\n",
        "    # full dataset\n",
        "    file_path = \"https://raw.githubusercontent.com/clairecoffey/project/master/mphilproject/compas-scores-two-years%20-%20compas-scores-two-years.csv?token=ABPC6VJE3BXQDQ25BHIL7DK6SWGT2\"\n",
        "  else:\n",
        "    # small subset of first 500 people\n",
        "    file_path = \"https://raw.githubusercontent.com/clairecoffey/project/master/mphilproject/500-compas-scores-two-years%20-%20Sheet1%20(1).csv?token=ABPC6VM4ZHOTALXKV3BIB2K6WVJ7Q\"\n",
        "\n",
        "  # load CSV contents\n",
        "  all_data = pd.read_csv(file_path, delimiter=',', dtype={'sex': 'category', \n",
        "                                                          'age_cat': 'category',\n",
        "                                                          'race': 'category',\n",
        "                                                          'c_charge_degree': 'category',\n",
        "                                                          'c_charge_desc': 'category',\n",
        "                                                          'r_charge_degree': 'category',\n",
        "                                                          'r_charge_desc': 'category',\n",
        "                                                          'vr_charge_degree': 'category',\n",
        "                                                          'vr_charge_desc': 'category'\n",
        "                                                          })\n",
        "  return all_data\n"
      ],
      "execution_count": 0,
      "outputs": []
    },
    {
      "cell_type": "code",
      "metadata": {
        "id": "B1WpLQEMZUNe",
        "colab_type": "code",
        "outputId": "46d0737f-58a6-4544-858b-b72b14db30e2",
        "colab": {
          "base_uri": "https://localhost:8080/",
          "height": 34
        }
      },
      "source": [
        "all_data = load_file()"
      ],
      "execution_count": 0,
      "outputs": [
        {
          "output_type": "stream",
          "text": [
            "importing data\n"
          ],
          "name": "stdout"
        }
      ]
    },
    {
      "cell_type": "code",
      "metadata": {
        "id": "SzJytmnMtkPU",
        "colab_type": "code",
        "colab": {}
      },
      "source": [
        "def import_data(all_data):\n",
        "\n",
        "  #is get_dummies the best way to do this?\n",
        "  encoded_sex = (pd.get_dummies(all_data['sex']))\n",
        "  all_data = all_data.drop(columns=['sex'])\n",
        "  all_data = all_data.join(encoded_sex)\n",
        "\n",
        "  encoded_age_cat = (pd.get_dummies(all_data['age_cat']))\n",
        "  all_data = all_data.drop(columns=['age_cat'])\n",
        "  all_data = all_data.join(encoded_age_cat)\n",
        "\n",
        "  encoded_race = (pd.get_dummies(all_data['race']))\n",
        "  all_data = all_data.drop(columns=['race'])\n",
        "  all_data = all_data.join(encoded_race)\n",
        "\n",
        "  encoded_c_charge_desc = (pd.get_dummies(all_data['c_charge_degree']))\n",
        "  all_data = all_data.drop(columns=['c_charge_degree'])\n",
        "  all_data = all_data.join(encoded_c_charge_desc, rsuffix='_c')\n",
        "\n",
        "  #these are joined with suffixes because otherwise columns overlap \n",
        "  encoded_c_charge_desc = (pd.get_dummies(all_data['c_charge_desc']))\n",
        "  all_data = all_data.drop(columns=['c_charge_desc'])\n",
        "  all_data = all_data.join(encoded_c_charge_desc, rsuffix='_c')\n",
        "\n",
        "  encoded_c_charge_desc = (pd.get_dummies(all_data['r_charge_degree']))\n",
        "  all_data = all_data.drop(columns=['r_charge_degree'])\n",
        "  all_data = all_data.join(encoded_c_charge_desc, rsuffix='_r')\n",
        "\n",
        "  encoded_r_charge_desc = (pd.get_dummies(all_data['r_charge_desc']))\n",
        "  all_data = all_data.drop(columns=['r_charge_desc'])\n",
        "  all_data = all_data.join(encoded_r_charge_desc, rsuffix='_r')\n",
        "\n",
        "  encoded_c_charge_desc = (pd.get_dummies(all_data['vr_charge_degree']))\n",
        "  all_data = all_data.drop(columns=['vr_charge_degree'])\n",
        "  all_data = all_data.join(encoded_c_charge_desc, rsuffix='_vr')\n",
        "\n",
        "  encoded_vr_charge_desc = (pd.get_dummies(all_data['vr_charge_desc']))\n",
        "  all_data = all_data.drop(columns=['vr_charge_desc'])\n",
        "  all_data = all_data.join(encoded_vr_charge_desc, rsuffix='_vr')\n",
        "\n",
        "  #drop columns not used for predictions, including info such as names, and coluns with many NaN values \n",
        "  training_data = all_data.drop(columns=['two_year_recid', 'r_days_from_arrest', 'id','name','first','last','dob','days_b_screening_arrest','c_jail_in','c_jail_out','c_case_number','c_offense_date','c_arrest_date','r_case_number','r_offense_date','r_jail_in','r_jail_out','vr_case_number','vr_offense_date','in_custody','out_custody','start','end','violent_recid'])\n",
        "\n",
        "  training_data_and_labels = training_data.join(all_data[['two_year_recid']])\n",
        "\n",
        "  #need to handle NaN values\n",
        "  #remove rows containing NaN values \n",
        "  training_data_and_labels = training_data_and_labels.dropna()\n",
        "\n",
        "  #split into training and testing with specific number of testing samples\n",
        "  #for now just set testing set to be first 50 samples in table \n",
        "  testing_data_and_labels = training_data_and_labels[:51]\n",
        "  #and training set to be the remainder\n",
        "  #this is also then consistent which is good for seeing patterns etc \n",
        "  training_data_and_labels = training_data_and_labels[51:]\n",
        "\n",
        "  return training_data_and_labels, testing_data_and_labels"
      ],
      "execution_count": 0,
      "outputs": []
    },
    {
      "cell_type": "code",
      "metadata": {
        "id": "p4Vx5Lghqe2l",
        "colab_type": "code",
        "colab": {}
      },
      "source": [
        "training_data_and_labels, testing_data_and_labels = import_data(all_data)"
      ],
      "execution_count": 0,
      "outputs": []
    },
    {
      "cell_type": "markdown",
      "metadata": {
        "id": "8P5FvDlXt4se",
        "colab_type": "text"
      },
      "source": [
        "# Classification - choose model and perform predictions using bootstrapping"
      ]
    },
    {
      "cell_type": "markdown",
      "metadata": {
        "id": "xs36jQoqYmpp",
        "colab_type": "text"
      },
      "source": [
        "Here we select the classification model to use. We are using a selection of built-in classifiers in scikit-learn. (Currently, the parameters of the models are not optimal and are for testing purposes only. In order to select optimal parameters, a procedure such as grid search should be used.)\n",
        "\n",
        "The classification process then uses a bootstrapping procedure with the chosen model, to generate predictions of recidivism classifications Bootstrapping is a sampling with replacement procedure. We use this to generate many classification predictions for the given dataset, by running bootstrapping many times to generate different training and testing datasets. The training and testing datasets are called the \"boot\" and \"out of bag\" examples respectively. "
      ]
    },
    {
      "cell_type": "code",
      "metadata": {
        "id": "RZv_kuCWYo_z",
        "colab_type": "code",
        "colab": {}
      },
      "source": [
        "from sklearn import model_selection, neighbors, svm, gaussian_process, tree, ensemble, neural_network, metrics\n",
        "\n",
        "def define_classifiers():\n",
        "    print(\"defining classifiers\")\n",
        "    # random classifiers to test\n",
        "    classifier_names = [\"RBF SVM\"]\n",
        "\n",
        "    classifiers = [\n",
        "        svm.SVC(gamma=2, C=2),\n",
        "        ]\n",
        "\n",
        "    # choose classifier\n",
        "    classifier = \"RBF SVM\"\n",
        "    print(\"Classifer used: \", classifier)\n",
        "    return classifier, classifiers, classifier_names\n"
      ],
      "execution_count": 0,
      "outputs": []
    },
    {
      "cell_type": "code",
      "metadata": {
        "id": "HQD8oVE-a4-R",
        "colab_type": "code",
        "outputId": "2109e6b9-3f0f-4f51-a326-58f612c87b2e",
        "colab": {
          "base_uri": "https://localhost:8080/",
          "height": 153
        }
      },
      "source": [
        "define_classifiers()"
      ],
      "execution_count": 0,
      "outputs": [
        {
          "output_type": "stream",
          "text": [
            "defining classifiers\n",
            "Classifer used:  RBF SVM\n"
          ],
          "name": "stdout"
        },
        {
          "output_type": "execute_result",
          "data": {
            "text/plain": [
              "('RBF SVM',\n",
              " [SVC(C=2, break_ties=False, cache_size=200, class_weight=None, coef0=0.0,\n",
              "      decision_function_shape='ovr', degree=3, gamma=2, kernel='rbf', max_iter=-1,\n",
              "      probability=False, random_state=None, shrinking=True, tol=0.001,\n",
              "      verbose=False)],\n",
              " ['RBF SVM'])"
            ]
          },
          "metadata": {
            "tags": []
          },
          "execution_count": 10
        }
      ]
    },
    {
      "cell_type": "code",
      "metadata": {
        "id": "AzZ6oTWgv3FZ",
        "colab_type": "code",
        "colab": {}
      },
      "source": [
        "def do_bootstrap(training_data_and_labels):\n",
        "  #this is one bootstrap sample \n",
        "  #sample size is the same as the number of datapoints we have \n",
        "  indices = np.random.randint(0,training_data_and_labels.shape[0] , training_data_and_labels.shape[0])\n",
        "  #do we need to sort it? makes it clearer anyway\n",
        "  indices.sort()\n",
        "  data_points = []\n",
        "  out_of_bag_points = []\n",
        "  for i in indices:\n",
        "    data_points.append(training_data_and_labels.iloc[i])\n",
        "\n",
        "  b_sample = pd.DataFrame(data_points)\n",
        "\n",
        "  #need to find all of the datapoints not in the bootstrap sample  and add these to out of bag sample\n",
        "  # out_of_bag = training_data_and_labels.merge(b_sample, how = 'outer' ,indicator=True).loc[lambda x : x['_merge']=='left_only']\n",
        "  # out_of_bag = out_of_bag.drop(columns='_merge')\n",
        "\n",
        "  return b_sample"
      ],
      "execution_count": 0,
      "outputs": []
    },
    {
      "cell_type": "code",
      "metadata": {
        "id": "_RPB3I-bwLF1",
        "colab_type": "code",
        "colab": {}
      },
      "source": [
        "b_sample = do_bootstrap(training_data_and_labels)"
      ],
      "execution_count": 0,
      "outputs": []
    },
    {
      "cell_type": "code",
      "metadata": {
        "id": "Hm8R-Gt-OmNh",
        "colab_type": "code",
        "colab": {}
      },
      "source": [
        "def classify(training_data_and_labels, testing_data_and_labels):\n",
        "    classifier, classifiers, classifier_names = define_classifiers()\n",
        "    clf = classifiers[classifier_names.index(classifier)]\n",
        "    count = 0\n",
        "\n",
        "    # predictions = pd.DataFrame()\n",
        "    # true_labels = pd.DataFrame()\n",
        "\n",
        "    num_bootstraps = len(training_data_and_labels);\n",
        "    while count <= num_bootstraps:\n",
        "      b_sample = do_bootstrap(training_data_and_labels)\n",
        "      y_pred, y_true = fit_model(clf, b_sample, testing_data_and_labels)\n",
        "      if(count == 0):\n",
        "        predictions = pd.DataFrame(pd.Series(y_pred)).transpose()\n",
        "        #true labels are the same for every sample so we only need 1 row in df\n",
        "        true_labels = pd.DataFrame(pd.Series(y_true)).transpose()\n",
        "      else:\n",
        "        predictions = predictions.append(pd.DataFrame(pd.Series(y_pred)).transpose())\n",
        "      count += 1\n",
        "    return predictions, true_labels"
      ],
      "execution_count": 0,
      "outputs": []
    },
    {
      "cell_type": "code",
      "metadata": {
        "id": "XaofDUc-P8Mk",
        "colab_type": "code",
        "colab": {}
      },
      "source": [
        "def fit_model(clf, b_sample, testing_data_and_labels):\n",
        "\n",
        "    #training data is everything apart from two year recid 0/1 label\n",
        "    # model is fit on the boot sample and evaluated on the out-of-bag sample\n",
        "    X_train = b_sample.drop(columns=['two_year_recid'])\n",
        "    y_train = b_sample['two_year_recid']\n",
        "    X_test = testing_data_and_labels.drop(columns=['two_year_recid'])\n",
        "    y_test = testing_data_and_labels['two_year_recid']\n",
        "\n",
        "    clf.fit(X_train, y_train)\n",
        "    y_pred = clf.predict(X_test)\n",
        "    y_true = y_test\n",
        "\n",
        "    return y_pred, y_true"
      ],
      "execution_count": 0,
      "outputs": []
    },
    {
      "cell_type": "code",
      "metadata": {
        "id": "H75T2WV0OqIR",
        "colab_type": "code",
        "outputId": "ce814766-700f-4245-81a9-7d76ac469a97",
        "colab": {
          "base_uri": "https://localhost:8080/",
          "height": 357
        }
      },
      "source": [
        "classify(training_data_and_labels, testing_data_and_labels)\n"
      ],
      "execution_count": 0,
      "outputs": [
        {
          "output_type": "stream",
          "text": [
            "defining classifiers\n",
            "Classifer used:  RBF SVM\n"
          ],
          "name": "stdout"
        },
        {
          "output_type": "execute_result",
          "data": {
            "text/plain": [
              "(    0   1   2   3   4   5   6   7   8   9   ...  41  42  43  44  45  46  47  48  49  50\n",
              " 0    0   0   0   0   0   0   0   0   0   0  ...   0   0   0   0   0   0   0   0   0   0\n",
              " 0    0   0   0   0   0   0   0   0   0   0  ...   0   0   0   0   0   0   0   0   0   0\n",
              " 0    0   0   0   0   0   0   0   0   0   0  ...   0   0   0   0   0   0   0   0   0   0\n",
              " 0    0   0   0   0   0   0   0   0   0   0  ...   0   0   0   0   0   0   0   0   0   0\n",
              " 0    0   0   0   0   0   0   0   0   0   0  ...   0   0   0   0   0   0   0   0   0   0\n",
              " ..  ..  ..  ..  ..  ..  ..  ..  ..  ..  ..  ...  ..  ..  ..  ..  ..  ..  ..  ..  ..  ..\n",
              " 0    0   0   0   0   0   0   0   0   0   0  ...   0   0   0   0   0   0   0   0   0   0\n",
              " 0    0   0   0   0   0   0   0   0   0   0  ...   0   0   0   0   0   0   0   0   0   0\n",
              " 0    0   0   0   0   0   0   0   0   0   0  ...   0   0   0   0   0   0   0   0   0   0\n",
              " 0    0   0   0   0   0   0   0   0   0   0  ...   0   0   0   0   0   0   0   0   0   0\n",
              " 0    0   0   0   0   0   0   0   0   0   0  ...   0   0   0   0   0   0   0   0   0   0\n",
              " \n",
              " [287 rows x 51 columns],\n",
              "                 0   1   2   3   4   5   6   7   ...  43  44  45  46  47  48  49  50\n",
              " two_year_recid   0   1   1   0   0   0   1   0  ...   0   1   1   1   0   1   0   1\n",
              " \n",
              " [1 rows x 51 columns])"
            ]
          },
          "metadata": {
            "tags": []
          },
          "execution_count": 15
        }
      ]
    },
    {
      "cell_type": "markdown",
      "metadata": {
        "id": "NnKB0sC3uU6-",
        "colab_type": "text"
      },
      "source": [
        "# Compute bias/variance errors"
      ]
    },
    {
      "cell_type": "markdown",
      "metadata": {
        "id": "VdwnNxEnWqth",
        "colab_type": "text"
      },
      "source": [
        "Using all these bootstrap predictions, we calculate the average misclassification error, as described in this paper: \n",
        "http://www.cems.uwe.ac.uk/~irjohnso/coursenotes/uqc832/tr-bias.pdf\n",
        "\n",
        "We can then decompose the error into the errors due to bias, and the errors due to variance, in order to study the behaviour of the model and the bias/variance tradeoff. This decomposition for classification is described in the following paper:\n",
        "https://homes.cs.washington.edu/~pedrod/bvd.pdf\n",
        "\n",
        "We define bias and variance in this context as in:\n",
        " http://www.cems.uwe.ac.uk/~irjohnso/coursenotes/uqc832/tr-bias.pdf\n",
        "\n",
        "Currently, bias error is always ```0.0```, because the average misclassification error for each datapoint is ```<0.5```, so, on average, each datapoint is classified correctly, and the errors are therefore all due to variance. This is not the result wanted/expected. \n",
        "\n",
        "Perhaps we can use the mean squared error (as in https://pdfs.semanticscholar.org/9253/f3e13bca7e845e60394d85ddaec0d4cfc6d6.pdf), instead of misclassification error and results would be different. "
      ]
    },
    {
      "cell_type": "code",
      "metadata": {
        "id": "M-7WHEx8dq6s",
        "colab_type": "code",
        "colab": {}
      },
      "source": [
        "def compute_bias_variance(predictions, true_labels):\n",
        "\n",
        "  print(predictions)\n",
        "  #predictions is a dataframe, where each row contains is for each bootstrap training sample and\n",
        "  # is a 0/1 classification prediction for each sample in the test set \n",
        "  #and each row  is for a bootstrap training sample \n",
        "\n",
        "  # calculate bias and variance for each datapoint using bootstrap samples\n",
        "  # then we can use these to get the overall/avg across predictions\n",
        "  biases = []\n",
        "  variances = []\n",
        "  avg_errors = []\n",
        "\n",
        "  # calculate the bias and variance for each value of X,y\n",
        "  # for misclassification loss\n",
        "\n",
        "  #find whether each element is misclassified for each bootstrap sample \n",
        "  predictions_misclassified = predictions.apply(lambda x : x != true_labels.iloc[0], axis=1)\n",
        "  print(predictions_misclassified)\n",
        "\n",
        "  #count number of times misclassified for each datapoint across all bootstrap samples \n",
        "  counts = predictions_misclassified.apply(np.sum)\n",
        "  print(counts)\n",
        "\n",
        "  #average misclassification error for each individual/datapoint \n",
        "  avg_errors = counts.apply(lambda y : np.divide(y,len(predictions)))\n",
        "\n",
        "  for avg_error in avg_errors:\n",
        "    (bias, variance) = (0, avg_error) if (avg_error <= 0.5) else (1, (avg_error-1))\n",
        "    biases.append(bias)\n",
        "    variances.append(variance)\n",
        "\n",
        "  avg_bias = np.mean(biases)\n",
        "  #is this defo the right way to do variance?\n",
        "  avg_var = abs(np.mean(avg_errors) - avg_bias)\n",
        "\n",
        "  print(avg_bias)\n",
        "  print(avg_var)\n",
        "\n",
        "  return avg_bias, avg_var"
      ],
      "execution_count": 0,
      "outputs": []
    },
    {
      "cell_type": "code",
      "metadata": {
        "id": "XXSXrXQUppe5",
        "colab_type": "code",
        "colab": {}
      },
      "source": [
        ""
      ],
      "execution_count": 0,
      "outputs": []
    },
    {
      "cell_type": "markdown",
      "metadata": {
        "id": "HS-RcQVHudhq",
        "colab_type": "text"
      },
      "source": [
        "# Plots"
      ]
    },
    {
      "cell_type": "markdown",
      "metadata": {
        "id": "aCq-r-I2vbVb",
        "colab_type": "text"
      },
      "source": [
        "Plotting bias/variance errors for diff classifiers - just 1 at a time for now!"
      ]
    },
    {
      "cell_type": "code",
      "metadata": {
        "id": "0TcztpNvvfDu",
        "colab_type": "code",
        "colab": {}
      },
      "source": [
        "import matplotlib.pyplot as plt                                  \n",
        "def plot_bias_variance(bias, variance):                                                                             \n",
        "    plt.scatter(bias, variance)                                              \n",
        "    plt.title('bias vs variance errors')                                     \n",
        "    plt.xlabel('bias')                                                       \n",
        "    plt.ylabel('variance')                                                   \n",
        "    plt.show()                                                               \n",
        "                                                                             "
      ],
      "execution_count": 0,
      "outputs": []
    },
    {
      "cell_type": "markdown",
      "metadata": {
        "id": "AwemXVIVuhGq",
        "colab_type": "text"
      },
      "source": [
        "# Main method (execute code)"
      ]
    },
    {
      "cell_type": "markdown",
      "metadata": {
        "id": "5vpU8QERWV4i",
        "colab_type": "text"
      },
      "source": [
        "Main method to run the system\n"
      ]
    },
    {
      "cell_type": "code",
      "metadata": {
        "id": "FCBsC158supR",
        "colab_type": "code",
        "colab": {}
      },
      "source": [
        "def main():\n",
        "  all_data = load_file()\n",
        "  training_data_and_labels, testing_data_and_labels = import_data(all_data)\n",
        "  predictions, true_labels = classify(training_data_and_labels, testing_data_and_labels)  \n",
        "  bias, variance = compute_bias_variance(predictions, true_labels)\n",
        "  plot_bias_variance(bias, variance)\n"
      ],
      "execution_count": 0,
      "outputs": []
    },
    {
      "cell_type": "code",
      "metadata": {
        "id": "r-iJVK2Ec2w0",
        "colab_type": "code",
        "outputId": "2e9b5ddb-1091-4b5c-bf7e-d9b718e0c8a8",
        "colab": {
          "base_uri": "https://localhost:8080/",
          "height": 1000
        }
      },
      "source": [
        "main()"
      ],
      "execution_count": 46,
      "outputs": [
        {
          "output_type": "stream",
          "text": [
            "importing data\n",
            "defining classifiers\n",
            "Classifer used:  RBF SVM\n",
            "    0   1   2   3   4   5   6   7   8   9   ...  41  42  43  44  45  46  47  48  49  50\n",
            "0    0   0   0   0   0   0   0   0   0   0  ...   0   0   0   0   0   0   0   0   0   0\n",
            "0    0   0   0   0   0   0   0   0   0   0  ...   0   0   0   0   0   0   0   0   0   0\n",
            "0    0   0   0   0   0   0   0   0   0   0  ...   0   0   0   0   0   0   0   0   0   0\n",
            "0    0   0   0   0   0   0   0   0   0   0  ...   0   0   0   0   0   0   0   0   0   0\n",
            "0    0   0   0   0   0   0   0   0   0   0  ...   0   0   0   0   0   0   0   0   0   0\n",
            "..  ..  ..  ..  ..  ..  ..  ..  ..  ..  ..  ...  ..  ..  ..  ..  ..  ..  ..  ..  ..  ..\n",
            "0    0   0   0   0   0   0   0   0   0   0  ...   0   0   0   0   0   0   0   0   0   0\n",
            "0    0   0   0   0   0   0   0   0   0   0  ...   0   0   0   0   0   0   0   0   0   0\n",
            "0    0   0   0   0   0   0   0   0   0   0  ...   0   0   0   0   0   0   0   0   0   0\n",
            "0    0   0   0   0   0   0   0   0   0   0  ...   0   0   0   0   0   0   0   0   0   0\n",
            "0    0   0   0   0   0   0   0   0   0   0  ...   0   0   0   0   0   0   0   0   0   0\n",
            "\n",
            "[287 rows x 51 columns]\n",
            "       0     1     2      3      4   ...    46     47    48     49    50\n",
            "0   False  True  True  False  False  ...  True  False  True  False  True\n",
            "0   False  True  True  False  False  ...  True  False  True  False  True\n",
            "0   False  True  True  False  False  ...  True  False  True  False  True\n",
            "0   False  True  True  False  False  ...  True  False  True  False  True\n",
            "0   False  True  True  False  False  ...  True  False  True  False  True\n",
            "..    ...   ...   ...    ...    ...  ...   ...    ...   ...    ...   ...\n",
            "0   False  True  True  False  False  ...  True  False  True  False  True\n",
            "0   False  True  True  False  False  ...  True  False  True  False  True\n",
            "0   False  True  True  False  False  ...  True  False  True  False  True\n",
            "0   False  True  True  False  False  ...  True  False  True  False  True\n",
            "0   False  True  True  False  False  ...  True  False  True  False  True\n",
            "\n",
            "[287 rows x 51 columns]\n",
            "0      15\n",
            "1     272\n",
            "2     272\n",
            "3      15\n",
            "4      15\n",
            "5      15\n",
            "6     272\n",
            "7      15\n",
            "8      15\n",
            "9     272\n",
            "10     15\n",
            "11    272\n",
            "12      6\n",
            "13     15\n",
            "14    272\n",
            "15    272\n",
            "16     15\n",
            "17     15\n",
            "18    272\n",
            "19    272\n",
            "20    272\n",
            "21    272\n",
            "22    272\n",
            "23     15\n",
            "24    272\n",
            "25     15\n",
            "26      6\n",
            "27    272\n",
            "28     13\n",
            "29    272\n",
            "30    272\n",
            "31    272\n",
            "32    272\n",
            "33     12\n",
            "34    272\n",
            "35     15\n",
            "36    272\n",
            "37    272\n",
            "38    272\n",
            "39     13\n",
            "40     12\n",
            "41     15\n",
            "42    272\n",
            "43     15\n",
            "44    272\n",
            "45    272\n",
            "46    272\n",
            "47     15\n",
            "48    272\n",
            "49     15\n",
            "50    272\n",
            "dtype: int64\n",
            "0.5490196078431373\n",
            "0.00703696112591401\n"
          ],
          "name": "stdout"
        },
        {
          "output_type": "display_data",
          "data": {
            "image/png": "[encoded data removed]",
            "text/plain": [
              "<Figure size 432x288 with 1 Axes>"
            ]
          },
          "metadata": {
            "tags": [],
            "needs_background": "light"
          }
        }
      ]
    }
  ]
}