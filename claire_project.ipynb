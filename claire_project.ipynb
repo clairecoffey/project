{
  "nbformat": 4,
  "nbformat_minor": 0,
  "metadata": {
    "colab": {
      "name": "claire_project.ipynb",
      "provenance": [],
      "collapsed_sections": [],
      "authorship_tag": "ABX9TyOsvGRAIhnmdazJs21DQ+Ds",
      "include_colab_link": true
    },
    "kernelspec": {
      "name": "python3",
      "display_name": "Python 3"
    }
  },
  "cells": [
    {
      "cell_type": "markdown",
      "metadata": {
        "id": "view-in-github",
        "colab_type": "text"
      },
      "source": [
        "<a href=\"https://colab.research.google.com/github/clairecoffey/project/blob/master/claire_project.ipynb\" target=\"_parent\"><img src=\"https://colab.research.google.com/assets/colab-badge.svg\" alt=\"Open In Colab\"/></a>"
      ]
    },
    {
      "cell_type": "markdown",
      "metadata": {
        "id": "lXi91JpbrVil",
        "colab_type": "text"
      },
      "source": [
        "# Fairness and the bias-variance trade-off \n",
        "\n",
        "## Claire Coffey\n",
        "\n",
        "## June 2020"
      ]
    },
    {
      "cell_type": "markdown",
      "metadata": {
        "id": "kQfy530crZ2l",
        "colab_type": "text"
      },
      "source": [
        "In this notebook we are studying bias and variance errors in the context of fairness, by exploring recidivism data. "
      ]
    },
    {
      "cell_type": "markdown",
      "metadata": {
        "id": "nvL9IAHvrgxx",
        "colab_type": "text"
      },
      "source": [
        "## Imports and Setup"
      ]
    },
    {
      "cell_type": "markdown",
      "metadata": {
        "id": "oqbWHUnLrhgx",
        "colab_type": "text"
      },
      "source": [
        "Imports: first import the relevant libraries used throughout. "
      ]
    },
    {
      "cell_type": "code",
      "metadata": {
        "id": "wUs-6RhFrqVz",
        "colab_type": "code",
        "colab": {}
      },
      "source": [
        "from sklearn import svm\n",
        "def warn(*args, **kwargs):\n",
        "    pass\n",
        "import warnings\n",
        "warnings.warn = warn\n",
        "import numpy as np\n",
        "import pandas as pd"
      ],
      "execution_count": 0,
      "outputs": []
    },
    {
      "cell_type": "markdown",
      "metadata": {
        "id": "Q7tkaG0_ryE3",
        "colab_type": "text"
      },
      "source": [
        "# Read in recidivism data "
      ]
    },
    {
      "cell_type": "markdown",
      "metadata": {
        "id": "J05wPq72rzVc",
        "colab_type": "text"
      },
      "source": [
        "In this notebook we are studying recidivism data. We utilise the COMPAS recidivism dataset, which uses recidivism data from Broward County jail and has been explored in the following studies:\n",
        "\n",
        "\"The accuracy, fairness, and limits of predicting recidivism\", paper available at:\n",
        "https://advances.sciencemag.org/content/4/1/eaao5580#corresp-1\n",
        "\n",
        "\"Machine Bias\" ProPublica article, available at:\n",
        "https://www.propublica.org/article/machine-bias-risk-assessments-in-criminal-sentencing\n",
        "\n",
        "The dataset used can be found at:\n",
        "https://github.com/propublica/compas-analysis\n"
      ]
    },
    {
      "cell_type": "markdown",
      "metadata": {
        "id": "tElAqwHQr3Fs",
        "colab_type": "text"
      },
      "source": [
        "Here we import and read in the recidivism data. Currently, we are using a selection of 1000 samples from this dataset for our predictions (the first 1000 samples of the dataset)\n",
        "\n",
        "We use a selection of features from this dataset to predict recidivism classification (1 = will reoffend; 0 = will not reoffend). "
      ]
    },
    {
      "cell_type": "code",
      "metadata": {
        "id": "uOpxEdzQr_R5",
        "colab_type": "code",
        "outputId": "0ebebdcd-ed2c-40c3-ae8c-28d2fddb6b03",
        "colab": {
          "base_uri": "https://localhost:8080/",
          "height": 52
        }
      },
      "source": [
        "print(\"loading data\")\n",
        "# small subset of first 500/1000/2000/2400 people\n",
        "# file_path = \"https://raw.githubusercontent.com/clairecoffey/project/master/mphilproject/500-compas-scores-two-years%20-%20Sheet1%20(1).csv?token=ABPC6VOW7CBEIIGZVE6ZJYS6YKNHO\"\n",
        "# file_path = \"https://raw.githubusercontent.com/clairecoffey/project/master/mphilproject/1000-compas-scores-two-years%20-%20Sheet1.csv\"\n",
        "file_path = \"https://raw.githubusercontent.com/clairecoffey/project/master/mphilproject/2000-compas-scores-2-years.csv\"\n",
        "# file_path = \"https://raw.githubusercontent.com/clairecoffey/project/master/mphilproject/2400-compas-scores-two-years%20-%20Sheet1.csv\"\n",
        "\n",
        "# load CSV contents\n",
        "all_data = pd.read_csv(file_path, delimiter=',', dtype={'sex': 'category', \n",
        "                                                        'age_cat': 'category',\n",
        "                                                        'race': 'category',\n",
        "                                                        'c_charge_degree': 'category',\n",
        "                                                        'c_charge_desc': 'category',\n",
        "                                                        'r_charge_degree': 'category',\n",
        "                                                        'r_charge_desc': 'category',\n",
        "                                                        'vr_charge_degree': 'category',\n",
        "                                                        'vr_charge_desc': 'category'\n",
        "                                                        })\n",
        "print('loaded data')\n",
        "#shuffle into random order so we aren't always testing/training with the same people\n",
        "#but reset index (each individual still has the same ID)\n",
        "# all_data = all_data.sample(frac=1).reset_index(drop=True)\n"
      ],
      "execution_count": 237,
      "outputs": [
        {
          "output_type": "stream",
          "text": [
            "loading data\n",
            "loaded data\n"
          ],
          "name": "stdout"
        }
      ]
    },
    {
      "cell_type": "code",
      "metadata": {
        "id": "x9Vu5LQnsPbk",
        "colab_type": "code",
        "outputId": "59e170ae-116f-4c2e-bb5f-a5409a3608ce",
        "colab": {
          "base_uri": "https://localhost:8080/",
          "height": 678
        }
      },
      "source": [
        "all_data"
      ],
      "execution_count": 238,
      "outputs": [
        {
          "output_type": "execute_result",
          "data": {
            "text/html": [
              "<div>\n",
              "<style scoped>\n",
              "    .dataframe tbody tr th:only-of-type {\n",
              "        vertical-align: middle;\n",
              "    }\n",
              "\n",
              "    .dataframe tbody tr th {\n",
              "        vertical-align: top;\n",
              "    }\n",
              "\n",
              "    .dataframe thead th {\n",
              "        text-align: right;\n",
              "    }\n",
              "</style>\n",
              "<table border=\"1\" class=\"dataframe\">\n",
              "  <thead>\n",
              "    <tr style=\"text-align: right;\">\n",
              "      <th></th>\n",
              "      <th>id</th>\n",
              "      <th>name</th>\n",
              "      <th>first</th>\n",
              "      <th>last</th>\n",
              "      <th>compas_screening_date</th>\n",
              "      <th>sex</th>\n",
              "      <th>dob</th>\n",
              "      <th>age</th>\n",
              "      <th>age_cat</th>\n",
              "      <th>race</th>\n",
              "      <th>juv_fel_count</th>\n",
              "      <th>decile_score</th>\n",
              "      <th>juv_misd_count</th>\n",
              "      <th>juv_other_count</th>\n",
              "      <th>priors_count</th>\n",
              "      <th>days_b_screening_arrest</th>\n",
              "      <th>c_jail_in</th>\n",
              "      <th>c_jail_out</th>\n",
              "      <th>c_case_number</th>\n",
              "      <th>c_offense_date</th>\n",
              "      <th>c_arrest_date</th>\n",
              "      <th>c_days_from_compas</th>\n",
              "      <th>c_charge_degree</th>\n",
              "      <th>c_charge_desc</th>\n",
              "      <th>is_recid</th>\n",
              "      <th>r_case_number</th>\n",
              "      <th>r_charge_degree</th>\n",
              "      <th>r_days_from_arrest</th>\n",
              "      <th>r_offense_date</th>\n",
              "      <th>r_charge_desc</th>\n",
              "      <th>r_jail_in</th>\n",
              "      <th>r_jail_out</th>\n",
              "      <th>violent_recid</th>\n",
              "      <th>is_violent_recid</th>\n",
              "      <th>vr_case_number</th>\n",
              "      <th>vr_charge_degree</th>\n",
              "      <th>vr_offense_date</th>\n",
              "      <th>vr_charge_desc</th>\n",
              "      <th>type_of_assessment</th>\n",
              "      <th>decile_score.1</th>\n",
              "      <th>score_text</th>\n",
              "      <th>screening_date</th>\n",
              "      <th>v_type_of_assessment</th>\n",
              "      <th>v_decile_score</th>\n",
              "      <th>v_score_text</th>\n",
              "      <th>v_screening_date</th>\n",
              "      <th>in_custody</th>\n",
              "      <th>out_custody</th>\n",
              "      <th>priors_count.1</th>\n",
              "      <th>start</th>\n",
              "      <th>end</th>\n",
              "      <th>event</th>\n",
              "      <th>two_year_recid</th>\n",
              "    </tr>\n",
              "  </thead>\n",
              "  <tbody>\n",
              "    <tr>\n",
              "      <th>0</th>\n",
              "      <td>1</td>\n",
              "      <td>miguel hernandez</td>\n",
              "      <td>miguel</td>\n",
              "      <td>hernandez</td>\n",
              "      <td>2013-08-14</td>\n",
              "      <td>Male</td>\n",
              "      <td>1947-04-18</td>\n",
              "      <td>69</td>\n",
              "      <td>Greater than 45</td>\n",
              "      <td>Other</td>\n",
              "      <td>0</td>\n",
              "      <td>1</td>\n",
              "      <td>0</td>\n",
              "      <td>0</td>\n",
              "      <td>0</td>\n",
              "      <td>-1.0</td>\n",
              "      <td>2013-08-13 6:03:42</td>\n",
              "      <td>2013-08-14 5:41:20</td>\n",
              "      <td>13011352CF10A</td>\n",
              "      <td>2013-08-13</td>\n",
              "      <td>NaN</td>\n",
              "      <td>1.0</td>\n",
              "      <td>F</td>\n",
              "      <td>Aggravated Assault w/Firearm</td>\n",
              "      <td>0</td>\n",
              "      <td>NaN</td>\n",
              "      <td>NaN</td>\n",
              "      <td>NaN</td>\n",
              "      <td>NaN</td>\n",
              "      <td>NaN</td>\n",
              "      <td>NaN</td>\n",
              "      <td>NaN</td>\n",
              "      <td>NaN</td>\n",
              "      <td>0</td>\n",
              "      <td>NaN</td>\n",
              "      <td>NaN</td>\n",
              "      <td>NaN</td>\n",
              "      <td>NaN</td>\n",
              "      <td>Risk of Recidivism</td>\n",
              "      <td>1</td>\n",
              "      <td>Low</td>\n",
              "      <td>2013-08-14</td>\n",
              "      <td>Risk of Violence</td>\n",
              "      <td>1</td>\n",
              "      <td>Low</td>\n",
              "      <td>2013-08-14</td>\n",
              "      <td>2014-07-07</td>\n",
              "      <td>2014-07-14</td>\n",
              "      <td>0</td>\n",
              "      <td>0</td>\n",
              "      <td>327</td>\n",
              "      <td>0</td>\n",
              "      <td>0</td>\n",
              "    </tr>\n",
              "    <tr>\n",
              "      <th>1</th>\n",
              "      <td>3</td>\n",
              "      <td>kevon dixon</td>\n",
              "      <td>kevon</td>\n",
              "      <td>dixon</td>\n",
              "      <td>2013-01-27</td>\n",
              "      <td>Male</td>\n",
              "      <td>1982-01-22</td>\n",
              "      <td>34</td>\n",
              "      <td>25 - 45</td>\n",
              "      <td>African-American</td>\n",
              "      <td>0</td>\n",
              "      <td>3</td>\n",
              "      <td>0</td>\n",
              "      <td>0</td>\n",
              "      <td>0</td>\n",
              "      <td>-1.0</td>\n",
              "      <td>2013-01-26 3:45:27</td>\n",
              "      <td>2013-02-05 5:36:53</td>\n",
              "      <td>13001275CF10A</td>\n",
              "      <td>2013-01-26</td>\n",
              "      <td>NaN</td>\n",
              "      <td>1.0</td>\n",
              "      <td>F</td>\n",
              "      <td>Felony Battery w/Prior Convict</td>\n",
              "      <td>1</td>\n",
              "      <td>13009779CF10A</td>\n",
              "      <td>(F3)</td>\n",
              "      <td>NaN</td>\n",
              "      <td>2013-07-05</td>\n",
              "      <td>Felony Battery (Dom Strang)</td>\n",
              "      <td>NaN</td>\n",
              "      <td>NaN</td>\n",
              "      <td>NaN</td>\n",
              "      <td>1</td>\n",
              "      <td>13009779CF10A</td>\n",
              "      <td>(F3)</td>\n",
              "      <td>2013-07-05</td>\n",
              "      <td>Felony Battery (Dom Strang)</td>\n",
              "      <td>Risk of Recidivism</td>\n",
              "      <td>3</td>\n",
              "      <td>Low</td>\n",
              "      <td>2013-01-27</td>\n",
              "      <td>Risk of Violence</td>\n",
              "      <td>1</td>\n",
              "      <td>Low</td>\n",
              "      <td>2013-01-27</td>\n",
              "      <td>2013-01-26</td>\n",
              "      <td>2013-02-05</td>\n",
              "      <td>0</td>\n",
              "      <td>9</td>\n",
              "      <td>159</td>\n",
              "      <td>1</td>\n",
              "      <td>1</td>\n",
              "    </tr>\n",
              "    <tr>\n",
              "      <th>2</th>\n",
              "      <td>4</td>\n",
              "      <td>ed philo</td>\n",
              "      <td>ed</td>\n",
              "      <td>philo</td>\n",
              "      <td>2013-04-14</td>\n",
              "      <td>Male</td>\n",
              "      <td>1991-05-14</td>\n",
              "      <td>24</td>\n",
              "      <td>Less than 25</td>\n",
              "      <td>African-American</td>\n",
              "      <td>0</td>\n",
              "      <td>4</td>\n",
              "      <td>0</td>\n",
              "      <td>1</td>\n",
              "      <td>4</td>\n",
              "      <td>-1.0</td>\n",
              "      <td>2013-04-13 4:58:34</td>\n",
              "      <td>2013-04-14 7:02:04</td>\n",
              "      <td>13005330CF10A</td>\n",
              "      <td>2013-04-13</td>\n",
              "      <td>NaN</td>\n",
              "      <td>1.0</td>\n",
              "      <td>F</td>\n",
              "      <td>Possession of Cocaine</td>\n",
              "      <td>1</td>\n",
              "      <td>13011511MM10A</td>\n",
              "      <td>(M1)</td>\n",
              "      <td>0.0</td>\n",
              "      <td>2013-06-16</td>\n",
              "      <td>Driving Under The Influence</td>\n",
              "      <td>2013-06-16</td>\n",
              "      <td>2013-06-16</td>\n",
              "      <td>NaN</td>\n",
              "      <td>0</td>\n",
              "      <td>NaN</td>\n",
              "      <td>NaN</td>\n",
              "      <td>NaN</td>\n",
              "      <td>NaN</td>\n",
              "      <td>Risk of Recidivism</td>\n",
              "      <td>4</td>\n",
              "      <td>Low</td>\n",
              "      <td>2013-04-14</td>\n",
              "      <td>Risk of Violence</td>\n",
              "      <td>3</td>\n",
              "      <td>Low</td>\n",
              "      <td>2013-04-14</td>\n",
              "      <td>2013-06-16</td>\n",
              "      <td>2013-06-16</td>\n",
              "      <td>4</td>\n",
              "      <td>0</td>\n",
              "      <td>63</td>\n",
              "      <td>0</td>\n",
              "      <td>1</td>\n",
              "    </tr>\n",
              "    <tr>\n",
              "      <th>3</th>\n",
              "      <td>5</td>\n",
              "      <td>marcu brown</td>\n",
              "      <td>marcu</td>\n",
              "      <td>brown</td>\n",
              "      <td>2013-01-13</td>\n",
              "      <td>Male</td>\n",
              "      <td>1993-01-21</td>\n",
              "      <td>23</td>\n",
              "      <td>Less than 25</td>\n",
              "      <td>African-American</td>\n",
              "      <td>0</td>\n",
              "      <td>8</td>\n",
              "      <td>1</td>\n",
              "      <td>0</td>\n",
              "      <td>1</td>\n",
              "      <td>NaN</td>\n",
              "      <td>NaN</td>\n",
              "      <td>NaN</td>\n",
              "      <td>13000570CF10A</td>\n",
              "      <td>2013-01-12</td>\n",
              "      <td>NaN</td>\n",
              "      <td>1.0</td>\n",
              "      <td>F</td>\n",
              "      <td>Possession of Cannabis</td>\n",
              "      <td>0</td>\n",
              "      <td>NaN</td>\n",
              "      <td>NaN</td>\n",
              "      <td>NaN</td>\n",
              "      <td>NaN</td>\n",
              "      <td>NaN</td>\n",
              "      <td>NaN</td>\n",
              "      <td>NaN</td>\n",
              "      <td>NaN</td>\n",
              "      <td>0</td>\n",
              "      <td>NaN</td>\n",
              "      <td>NaN</td>\n",
              "      <td>NaN</td>\n",
              "      <td>NaN</td>\n",
              "      <td>Risk of Recidivism</td>\n",
              "      <td>8</td>\n",
              "      <td>High</td>\n",
              "      <td>2013-01-13</td>\n",
              "      <td>Risk of Violence</td>\n",
              "      <td>6</td>\n",
              "      <td>Medium</td>\n",
              "      <td>2013-01-13</td>\n",
              "      <td>NaN</td>\n",
              "      <td>NaN</td>\n",
              "      <td>1</td>\n",
              "      <td>0</td>\n",
              "      <td>1174</td>\n",
              "      <td>0</td>\n",
              "      <td>0</td>\n",
              "    </tr>\n",
              "    <tr>\n",
              "      <th>4</th>\n",
              "      <td>6</td>\n",
              "      <td>bouthy pierrelouis</td>\n",
              "      <td>bouthy</td>\n",
              "      <td>pierrelouis</td>\n",
              "      <td>2013-03-26</td>\n",
              "      <td>Male</td>\n",
              "      <td>1973-01-22</td>\n",
              "      <td>43</td>\n",
              "      <td>25 - 45</td>\n",
              "      <td>Other</td>\n",
              "      <td>0</td>\n",
              "      <td>1</td>\n",
              "      <td>0</td>\n",
              "      <td>0</td>\n",
              "      <td>2</td>\n",
              "      <td>NaN</td>\n",
              "      <td>NaN</td>\n",
              "      <td>NaN</td>\n",
              "      <td>12014130CF10A</td>\n",
              "      <td>NaN</td>\n",
              "      <td>2013-01-09</td>\n",
              "      <td>76.0</td>\n",
              "      <td>F</td>\n",
              "      <td>arrest case no charge</td>\n",
              "      <td>0</td>\n",
              "      <td>NaN</td>\n",
              "      <td>NaN</td>\n",
              "      <td>NaN</td>\n",
              "      <td>NaN</td>\n",
              "      <td>NaN</td>\n",
              "      <td>NaN</td>\n",
              "      <td>NaN</td>\n",
              "      <td>NaN</td>\n",
              "      <td>0</td>\n",
              "      <td>NaN</td>\n",
              "      <td>NaN</td>\n",
              "      <td>NaN</td>\n",
              "      <td>NaN</td>\n",
              "      <td>Risk of Recidivism</td>\n",
              "      <td>1</td>\n",
              "      <td>Low</td>\n",
              "      <td>2013-03-26</td>\n",
              "      <td>Risk of Violence</td>\n",
              "      <td>1</td>\n",
              "      <td>Low</td>\n",
              "      <td>2013-03-26</td>\n",
              "      <td>NaN</td>\n",
              "      <td>NaN</td>\n",
              "      <td>2</td>\n",
              "      <td>0</td>\n",
              "      <td>1102</td>\n",
              "      <td>0</td>\n",
              "      <td>0</td>\n",
              "    </tr>\n",
              "    <tr>\n",
              "      <th>...</th>\n",
              "      <td>...</td>\n",
              "      <td>...</td>\n",
              "      <td>...</td>\n",
              "      <td>...</td>\n",
              "      <td>...</td>\n",
              "      <td>...</td>\n",
              "      <td>...</td>\n",
              "      <td>...</td>\n",
              "      <td>...</td>\n",
              "      <td>...</td>\n",
              "      <td>...</td>\n",
              "      <td>...</td>\n",
              "      <td>...</td>\n",
              "      <td>...</td>\n",
              "      <td>...</td>\n",
              "      <td>...</td>\n",
              "      <td>...</td>\n",
              "      <td>...</td>\n",
              "      <td>...</td>\n",
              "      <td>...</td>\n",
              "      <td>...</td>\n",
              "      <td>...</td>\n",
              "      <td>...</td>\n",
              "      <td>...</td>\n",
              "      <td>...</td>\n",
              "      <td>...</td>\n",
              "      <td>...</td>\n",
              "      <td>...</td>\n",
              "      <td>...</td>\n",
              "      <td>...</td>\n",
              "      <td>...</td>\n",
              "      <td>...</td>\n",
              "      <td>...</td>\n",
              "      <td>...</td>\n",
              "      <td>...</td>\n",
              "      <td>...</td>\n",
              "      <td>...</td>\n",
              "      <td>...</td>\n",
              "      <td>...</td>\n",
              "      <td>...</td>\n",
              "      <td>...</td>\n",
              "      <td>...</td>\n",
              "      <td>...</td>\n",
              "      <td>...</td>\n",
              "      <td>...</td>\n",
              "      <td>...</td>\n",
              "      <td>...</td>\n",
              "      <td>...</td>\n",
              "      <td>...</td>\n",
              "      <td>...</td>\n",
              "      <td>...</td>\n",
              "      <td>...</td>\n",
              "      <td>...</td>\n",
              "    </tr>\n",
              "    <tr>\n",
              "      <th>1994</th>\n",
              "      <td>3031</td>\n",
              "      <td>christopher colon</td>\n",
              "      <td>christopher</td>\n",
              "      <td>colon</td>\n",
              "      <td>2014-05-23</td>\n",
              "      <td>Male</td>\n",
              "      <td>1986-11-26</td>\n",
              "      <td>29</td>\n",
              "      <td>25 - 45</td>\n",
              "      <td>Caucasian</td>\n",
              "      <td>0</td>\n",
              "      <td>10</td>\n",
              "      <td>0</td>\n",
              "      <td>0</td>\n",
              "      <td>7</td>\n",
              "      <td>-1.0</td>\n",
              "      <td>2014-05-22 1:26:49</td>\n",
              "      <td>2014-05-23 1:41:40</td>\n",
              "      <td>14007168CF10A</td>\n",
              "      <td>2014-05-22</td>\n",
              "      <td>NaN</td>\n",
              "      <td>1.0</td>\n",
              "      <td>F</td>\n",
              "      <td>Aggravated Battery / Pregnant</td>\n",
              "      <td>1</td>\n",
              "      <td>14009273MM10A</td>\n",
              "      <td>(M1)</td>\n",
              "      <td>NaN</td>\n",
              "      <td>2014-06-11</td>\n",
              "      <td>Viol Injunct Domestic Violence</td>\n",
              "      <td>NaN</td>\n",
              "      <td>NaN</td>\n",
              "      <td>NaN</td>\n",
              "      <td>0</td>\n",
              "      <td>NaN</td>\n",
              "      <td>NaN</td>\n",
              "      <td>NaN</td>\n",
              "      <td>NaN</td>\n",
              "      <td>Risk of Recidivism</td>\n",
              "      <td>10</td>\n",
              "      <td>High</td>\n",
              "      <td>2014-05-23</td>\n",
              "      <td>Risk of Violence</td>\n",
              "      <td>8</td>\n",
              "      <td>High</td>\n",
              "      <td>2014-05-23</td>\n",
              "      <td>2014-06-11</td>\n",
              "      <td>2014-10-20</td>\n",
              "      <td>7</td>\n",
              "      <td>0</td>\n",
              "      <td>19</td>\n",
              "      <td>1</td>\n",
              "      <td>1</td>\n",
              "    </tr>\n",
              "    <tr>\n",
              "      <th>1995</th>\n",
              "      <td>3032</td>\n",
              "      <td>geovanni casteel</td>\n",
              "      <td>geovanni</td>\n",
              "      <td>casteel</td>\n",
              "      <td>2013-02-04</td>\n",
              "      <td>Male</td>\n",
              "      <td>1983-09-14</td>\n",
              "      <td>32</td>\n",
              "      <td>25 - 45</td>\n",
              "      <td>African-American</td>\n",
              "      <td>0</td>\n",
              "      <td>4</td>\n",
              "      <td>0</td>\n",
              "      <td>1</td>\n",
              "      <td>8</td>\n",
              "      <td>-1.0</td>\n",
              "      <td>2013-02-03 6:34:52</td>\n",
              "      <td>2013-02-07 11:43:19</td>\n",
              "      <td>13001707CF10A</td>\n",
              "      <td>2013-02-03</td>\n",
              "      <td>NaN</td>\n",
              "      <td>1.0</td>\n",
              "      <td>F</td>\n",
              "      <td>Aggravated Battery / Pregnant</td>\n",
              "      <td>0</td>\n",
              "      <td>NaN</td>\n",
              "      <td>NaN</td>\n",
              "      <td>NaN</td>\n",
              "      <td>NaN</td>\n",
              "      <td>NaN</td>\n",
              "      <td>NaN</td>\n",
              "      <td>NaN</td>\n",
              "      <td>NaN</td>\n",
              "      <td>0</td>\n",
              "      <td>NaN</td>\n",
              "      <td>NaN</td>\n",
              "      <td>NaN</td>\n",
              "      <td>NaN</td>\n",
              "      <td>Risk of Recidivism</td>\n",
              "      <td>4</td>\n",
              "      <td>Low</td>\n",
              "      <td>2013-02-04</td>\n",
              "      <td>Risk of Violence</td>\n",
              "      <td>2</td>\n",
              "      <td>Low</td>\n",
              "      <td>2013-02-04</td>\n",
              "      <td>2013-04-05</td>\n",
              "      <td>2013-05-14</td>\n",
              "      <td>8</td>\n",
              "      <td>3</td>\n",
              "      <td>60</td>\n",
              "      <td>0</td>\n",
              "      <td>0</td>\n",
              "    </tr>\n",
              "    <tr>\n",
              "      <th>1996</th>\n",
              "      <td>3033</td>\n",
              "      <td>julo victor</td>\n",
              "      <td>julo</td>\n",
              "      <td>victor</td>\n",
              "      <td>2013-03-11</td>\n",
              "      <td>Male</td>\n",
              "      <td>1984-09-22</td>\n",
              "      <td>31</td>\n",
              "      <td>25 - 45</td>\n",
              "      <td>Other</td>\n",
              "      <td>0</td>\n",
              "      <td>6</td>\n",
              "      <td>0</td>\n",
              "      <td>0</td>\n",
              "      <td>5</td>\n",
              "      <td>-1.0</td>\n",
              "      <td>2013-03-10 8:28:08</td>\n",
              "      <td>2013-03-13 12:29:20</td>\n",
              "      <td>13003527CF10A</td>\n",
              "      <td>2013-03-10</td>\n",
              "      <td>NaN</td>\n",
              "      <td>1.0</td>\n",
              "      <td>F</td>\n",
              "      <td>Grand Theft in the 3rd Degree</td>\n",
              "      <td>1</td>\n",
              "      <td>15008288MM10A</td>\n",
              "      <td>(M1)</td>\n",
              "      <td>0.0</td>\n",
              "      <td>2015-08-05</td>\n",
              "      <td>Possess Cannabis/20 Grams Or Less</td>\n",
              "      <td>2015-08-05</td>\n",
              "      <td>2015-08-06</td>\n",
              "      <td>NaN</td>\n",
              "      <td>0</td>\n",
              "      <td>NaN</td>\n",
              "      <td>NaN</td>\n",
              "      <td>NaN</td>\n",
              "      <td>NaN</td>\n",
              "      <td>Risk of Recidivism</td>\n",
              "      <td>6</td>\n",
              "      <td>Medium</td>\n",
              "      <td>2013-03-11</td>\n",
              "      <td>Risk of Violence</td>\n",
              "      <td>4</td>\n",
              "      <td>Low</td>\n",
              "      <td>2013-03-11</td>\n",
              "      <td>2015-08-05</td>\n",
              "      <td>2015-08-06</td>\n",
              "      <td>5</td>\n",
              "      <td>2</td>\n",
              "      <td>877</td>\n",
              "      <td>1</td>\n",
              "      <td>0</td>\n",
              "    </tr>\n",
              "    <tr>\n",
              "      <th>1997</th>\n",
              "      <td>3034</td>\n",
              "      <td>shemeka suggs</td>\n",
              "      <td>shemeka</td>\n",
              "      <td>suggs</td>\n",
              "      <td>2013-05-01</td>\n",
              "      <td>Female</td>\n",
              "      <td>1982-06-27</td>\n",
              "      <td>33</td>\n",
              "      <td>25 - 45</td>\n",
              "      <td>African-American</td>\n",
              "      <td>0</td>\n",
              "      <td>1</td>\n",
              "      <td>0</td>\n",
              "      <td>0</td>\n",
              "      <td>1</td>\n",
              "      <td>-1.0</td>\n",
              "      <td>2013-04-30 12:54:45</td>\n",
              "      <td>2013-05-02 12:26:52</td>\n",
              "      <td>13008355MM10A</td>\n",
              "      <td>2013-04-30</td>\n",
              "      <td>NaN</td>\n",
              "      <td>1.0</td>\n",
              "      <td>M</td>\n",
              "      <td>Battery</td>\n",
              "      <td>0</td>\n",
              "      <td>NaN</td>\n",
              "      <td>NaN</td>\n",
              "      <td>NaN</td>\n",
              "      <td>NaN</td>\n",
              "      <td>NaN</td>\n",
              "      <td>NaN</td>\n",
              "      <td>NaN</td>\n",
              "      <td>NaN</td>\n",
              "      <td>0</td>\n",
              "      <td>NaN</td>\n",
              "      <td>NaN</td>\n",
              "      <td>NaN</td>\n",
              "      <td>NaN</td>\n",
              "      <td>Risk of Recidivism</td>\n",
              "      <td>1</td>\n",
              "      <td>Low</td>\n",
              "      <td>2013-05-01</td>\n",
              "      <td>Risk of Violence</td>\n",
              "      <td>2</td>\n",
              "      <td>Low</td>\n",
              "      <td>2013-05-01</td>\n",
              "      <td>2013-04-30</td>\n",
              "      <td>2013-05-02</td>\n",
              "      <td>1</td>\n",
              "      <td>1</td>\n",
              "      <td>1066</td>\n",
              "      <td>0</td>\n",
              "      <td>0</td>\n",
              "    </tr>\n",
              "    <tr>\n",
              "      <th>1998</th>\n",
              "      <td>3035</td>\n",
              "      <td>ivan parra</td>\n",
              "      <td>ivan</td>\n",
              "      <td>parra</td>\n",
              "      <td>2013-01-10</td>\n",
              "      <td>Male</td>\n",
              "      <td>1990-10-28</td>\n",
              "      <td>25</td>\n",
              "      <td>25 - 45</td>\n",
              "      <td>Caucasian</td>\n",
              "      <td>0</td>\n",
              "      <td>4</td>\n",
              "      <td>0</td>\n",
              "      <td>0</td>\n",
              "      <td>4</td>\n",
              "      <td>-1.0</td>\n",
              "      <td>2013-01-09 2:20:36</td>\n",
              "      <td>2013-07-11 6:30:31</td>\n",
              "      <td>13000358CF10A</td>\n",
              "      <td>2013-01-09</td>\n",
              "      <td>NaN</td>\n",
              "      <td>1.0</td>\n",
              "      <td>F</td>\n",
              "      <td>Robbery / No Weapon</td>\n",
              "      <td>0</td>\n",
              "      <td>NaN</td>\n",
              "      <td>NaN</td>\n",
              "      <td>NaN</td>\n",
              "      <td>NaN</td>\n",
              "      <td>NaN</td>\n",
              "      <td>NaN</td>\n",
              "      <td>NaN</td>\n",
              "      <td>NaN</td>\n",
              "      <td>0</td>\n",
              "      <td>NaN</td>\n",
              "      <td>NaN</td>\n",
              "      <td>NaN</td>\n",
              "      <td>NaN</td>\n",
              "      <td>Risk of Recidivism</td>\n",
              "      <td>4</td>\n",
              "      <td>Low</td>\n",
              "      <td>2013-01-10</td>\n",
              "      <td>Risk of Violence</td>\n",
              "      <td>4</td>\n",
              "      <td>Low</td>\n",
              "      <td>2013-01-10</td>\n",
              "      <td>2013-07-11</td>\n",
              "      <td>2013-12-01</td>\n",
              "      <td>4</td>\n",
              "      <td>325</td>\n",
              "      <td>1177</td>\n",
              "      <td>0</td>\n",
              "      <td>0</td>\n",
              "    </tr>\n",
              "  </tbody>\n",
              "</table>\n",
              "<p>1999 rows × 53 columns</p>\n",
              "</div>"
            ],
            "text/plain": [
              "        id                name        first  ...   end event two_year_recid\n",
              "0        1    miguel hernandez       miguel  ...   327     0              0\n",
              "1        3         kevon dixon        kevon  ...   159     1              1\n",
              "2        4            ed philo           ed  ...    63     0              1\n",
              "3        5         marcu brown        marcu  ...  1174     0              0\n",
              "4        6  bouthy pierrelouis       bouthy  ...  1102     0              0\n",
              "...    ...                 ...          ...  ...   ...   ...            ...\n",
              "1994  3031   christopher colon  christopher  ...    19     1              1\n",
              "1995  3032    geovanni casteel     geovanni  ...    60     0              0\n",
              "1996  3033         julo victor         julo  ...   877     1              0\n",
              "1997  3034       shemeka suggs      shemeka  ...  1066     0              0\n",
              "1998  3035          ivan parra         ivan  ...  1177     0              0\n",
              "\n",
              "[1999 rows x 53 columns]"
            ]
          },
          "metadata": {
            "tags": []
          },
          "execution_count": 238
        }
      ]
    },
    {
      "cell_type": "markdown",
      "metadata": {
        "id": "2gfmKGPysXbQ",
        "colab_type": "text"
      },
      "source": [
        "## Import and process data\n"
      ]
    },
    {
      "cell_type": "markdown",
      "metadata": {
        "id": "uollk_WRsZRT",
        "colab_type": "text"
      },
      "source": [
        "We import the data into a pandas DataFrame. We begin by cleaning the data, so the crime descriptions are simplified, removing duplicate categories. For example, we merge descriptions such as 'possession of cocaine' and 'possess cocaine', or 'burglary/weapon' and 'burglary and weapon', by removing prepositions, and replacing abreviations and similies. \n",
        "\n",
        "Then,  the categorical data is  split into different fields for each category, and encoded as 0 or 1. For example, an individual with characteristic \"sex: male\" would be encoded as \"male: 1, female: 0\". The sex category is then removed.\n",
        "\n",
        "We then consider which fields to use for prediction. This includes the removal of any fields/columns which contain many NaN values, since these cannot be handled by the classifiers. We choose to remove the columns with many NaNs rather than using an alternative approach such as replacing them with the average so as not to introduce other types of bias. We also then remove rows/individuals containing any further NaN values so there is no longer any NaN values present in the data. \n",
        "\n",
        "We then normalise all of the data in the dataframe, so that when fed into the classifier, the predicitons are not skewed (and potentially different forms of bias introduced).  We do this by using the StandardScaler in the sklearn preprocessing library, and we normalise the data to have a variance of 1.\n",
        "\n",
        "Finally, we define the number of testing/training samples desired and split the data into these two sets appropriately.\n"
      ]
    },
    {
      "cell_type": "code",
      "metadata": {
        "id": "Uv45qe3ksdpO",
        "colab_type": "code",
        "colab": {}
      },
      "source": [
        "num_testing_samples = 1600\n"
      ],
      "execution_count": 0,
      "outputs": []
    },
    {
      "cell_type": "code",
      "metadata": {
        "id": "SbxClRFwssdT",
        "colab_type": "code",
        "colab": {}
      },
      "source": [
        "def clean_descriptions(description):\n",
        "  description = description.replace(' and ', ' ')\n",
        "  description = description.replace(' / ', ' ')\n",
        "  description = description.replace('possession', 'posess')\n",
        "  description = description.replace('possessing', 'posess')\n",
        "  description = description.replace('with', 'w/')\n",
        "  description = description.replace('w/ ', 'w/')\n",
        "  description = description.replace('w/', ' ')\n",
        "  description = description.replace('attempted', 'att')\n",
        "  description = description.replace('attempt', 'att')\n",
        "  description = description.replace('aggravated', 'agg')\n",
        "  description = description.replace('aggrav', 'agg') \n",
        "  description = description.replace(' of ', ' ')\n",
        "  return description"
      ],
      "execution_count": 0,
      "outputs": []
    },
    {
      "cell_type": "code",
      "metadata": {
        "id": "Kc52aNTZsn7C",
        "colab_type": "code",
        "colab": {}
      },
      "source": [
        "from sklearn import preprocessing\n",
        "\n",
        "encoded_sex = (pd.get_dummies(all_data['sex']))\n",
        "all_data = all_data.drop(columns=['sex'])\n",
        "all_data = all_data.join(encoded_sex)\n",
        "\n",
        "encoded_age_cat = (pd.get_dummies(all_data['age_cat']))\n",
        "all_data = all_data.drop(columns=['age_cat'])\n",
        "all_data = all_data.join(encoded_age_cat)\n",
        "\n",
        "encoded_race = (pd.get_dummies(all_data['race']))\n",
        "all_data = all_data.drop(columns=['race'])\n",
        "all_data = all_data.join(encoded_race)\n",
        "\n",
        "encoded_c_charge_degree = (pd.get_dummies(all_data['c_charge_degree']))\n",
        "all_data = all_data.drop(columns=['c_charge_degree'])\n",
        "all_data = all_data.join(encoded_c_charge_degree, rsuffix='_c')\n",
        "\n",
        "#these are joined with suffixes because otherwise columns overlap \n",
        "all_data['c_charge_desc'] = all_data['c_charge_desc'].astype(str).str.lower()\n",
        "all_data['c_charge_desc'] = all_data['c_charge_desc'].apply(clean_descriptions)\n",
        "encoded_c_charge_desc = (pd.get_dummies(all_data['c_charge_desc']))\n",
        "all_data = all_data.drop(columns=['c_charge_desc'])\n",
        "all_data = all_data.join(encoded_c_charge_desc, rsuffix='_c')\n",
        "\n",
        "encoded_r_charge_degree = (pd.get_dummies(all_data['r_charge_degree']))\n",
        "all_data = all_data.drop(columns=['r_charge_degree'])\n",
        "all_data = all_data.join(encoded_r_charge_degree, rsuffix='_r')\n",
        "\n",
        "all_data['r_charge_desc'] = all_data['r_charge_desc'].astype(str).str.lower()\n",
        "all_data['r_charge_desc'] = all_data['r_charge_desc'].apply(clean_descriptions)\n",
        "encoded_r_charge_desc = (pd.get_dummies(all_data['r_charge_desc']))\n",
        "all_data = all_data.drop(columns=['r_charge_desc'])\n",
        "all_data = all_data.join(encoded_r_charge_desc, rsuffix='_r')\n",
        "\n",
        "encoded_vr_charge_degree = (pd.get_dummies(all_data['vr_charge_degree']))\n",
        "all_data = all_data.drop(columns=['vr_charge_degree'])\n",
        "all_data = all_data.join(encoded_vr_charge_degree, rsuffix='_vr')\n",
        "\n",
        "all_data['vr_charge_desc'] = all_data['vr_charge_desc'].astype(str).str.lower()\n",
        "all_data['vr_charge_desc'] = all_data['vr_charge_desc'].apply(clean_descriptions)\n",
        "encoded_vr_charge_desc = (pd.get_dummies(all_data['vr_charge_desc']))\n",
        "all_data = all_data.drop(columns=['vr_charge_desc'])\n",
        "all_data = all_data.join(encoded_vr_charge_desc, rsuffix='_vr')\n",
        "\n",
        "all_data = all_data.drop(columns=['nan'])\n",
        "all_data = all_data.drop(columns=['nan_vr'])\n",
        "all_data = all_data.drop(columns=['nan_r'])\n",
        "\n",
        "#drop columns not used for predictions, including info such as names, and columns with many NaN values \n",
        "all_data.columns = map(str.lower, all_data.columns)\n",
        "#dont use individual crimes, too much and too slow, only use severity of crimes and other info\n",
        "all_data_simplified = all_data[['juv_fel_count','juv_misd_count','juv_other_count','priors_count','is_recid','is_violent_recid','event','female','male','25 - 45','greater than 45','less than 25','african-american','asian','caucasian','hispanic','native american','other','f','m','(f1)','(f2)','(f3)','(f6)','(m1)','(m2)','(mo3)']]\n",
        "\n",
        "#remove rows containing NaN values \n",
        "all_data_simplified = all_data_simplified.dropna()"
      ],
      "execution_count": 0,
      "outputs": []
    },
    {
      "cell_type": "markdown",
      "metadata": {
        "id": "c9if4f2PxIeM",
        "colab_type": "text"
      },
      "source": [
        "Normalise data "
      ]
    },
    {
      "cell_type": "code",
      "metadata": {
        "id": "RugF5Qb1xQMc",
        "colab_type": "code",
        "colab": {}
      },
      "source": [
        "#normalise the data so we have unit variance and mean 0 using built-in preprocessing method in sklearn\n",
        "scaler = preprocessing.StandardScaler()\n",
        "all_data_scaled = pd.DataFrame(scaler.fit_transform(all_data_simplified),columns=all_data_simplified.columns)"
      ],
      "execution_count": 0,
      "outputs": []
    },
    {
      "cell_type": "code",
      "metadata": {
        "id": "zgWsJrfRAWs8",
        "colab_type": "code",
        "outputId": "dbf7ecf4-4de7-4d82-a3d6-99deade64216",
        "colab": {
          "base_uri": "https://localhost:8080/",
          "height": 502
        }
      },
      "source": [
        "all_data_scaled.mean()"
      ],
      "execution_count": 243,
      "outputs": [
        {
          "output_type": "execute_result",
          "data": {
            "text/plain": [
              "juv_fel_count      -6.093314e-16\n",
              "juv_misd_count     -1.591190e-17\n",
              "juv_other_count     2.184901e-16\n",
              "priors_count       -3.952288e-17\n",
              "is_recid            7.347799e-16\n",
              "is_violent_recid    1.141325e-16\n",
              "event               9.492712e-16\n",
              "female             -7.150081e-16\n",
              "male                7.556348e-16\n",
              "25 - 45            -7.542185e-17\n",
              "greater than 45     2.032724e-16\n",
              "less than 25        1.673943e-16\n",
              "african-american    2.743623e-17\n",
              "asian               3.554491e-18\n",
              "caucasian          -1.997180e-16\n",
              "hispanic           -1.667834e-16\n",
              "native american     5.449479e-16\n",
              "other               4.411179e-16\n",
              "f                   8.175329e-17\n",
              "m                   2.110479e-17\n",
              "(f1)                7.401950e-17\n",
              "(f2)                5.987096e-17\n",
              "(f3)               -1.521766e-16\n",
              "(f6)                3.156450e-16\n",
              "(m1)                4.106548e-16\n",
              "(m2)               -1.511214e-16\n",
              "(mo3)               5.058068e-16\n",
              "dtype: float64"
            ]
          },
          "metadata": {
            "tags": []
          },
          "execution_count": 243
        }
      ]
    },
    {
      "cell_type": "code",
      "metadata": {
        "id": "zYHw_jiiAZWg",
        "colab_type": "code",
        "outputId": "d50d9fcf-7976-48f8-d6e9-a0af48b83e2f",
        "colab": {
          "base_uri": "https://localhost:8080/",
          "height": 502
        }
      },
      "source": [
        "all_data_scaled.var()"
      ],
      "execution_count": 244,
      "outputs": [
        {
          "output_type": "execute_result",
          "data": {
            "text/plain": [
              "juv_fel_count       1.000501\n",
              "juv_misd_count      1.000501\n",
              "juv_other_count     1.000501\n",
              "priors_count        1.000501\n",
              "is_recid            1.000501\n",
              "is_violent_recid    1.000501\n",
              "event               1.000501\n",
              "female              1.000501\n",
              "male                1.000501\n",
              "25 - 45             1.000501\n",
              "greater than 45     1.000501\n",
              "less than 25        1.000501\n",
              "african-american    1.000501\n",
              "asian               1.000501\n",
              "caucasian           1.000501\n",
              "hispanic            1.000501\n",
              "native american     1.000501\n",
              "other               1.000501\n",
              "f                   1.000501\n",
              "m                   1.000501\n",
              "(f1)                1.000501\n",
              "(f2)                1.000501\n",
              "(f3)                1.000501\n",
              "(f6)                1.000501\n",
              "(m1)                1.000501\n",
              "(m2)                1.000501\n",
              "(mo3)               1.000501\n",
              "dtype: float64"
            ]
          },
          "metadata": {
            "tags": []
          },
          "execution_count": 244
        }
      ]
    },
    {
      "cell_type": "code",
      "metadata": {
        "id": "coEnq-3CtOSS",
        "colab_type": "code",
        "colab": {}
      },
      "source": [
        "all_labels = all_data[['two_year_recid']]\n",
        "all_data = all_data_scaled\n",
        "all_data_and_labels = all_data_scaled.join(all_labels)\n",
        "testing_data_and_labels_orig = all_data_and_labels[:num_testing_samples]"
      ],
      "execution_count": 0,
      "outputs": []
    },
    {
      "cell_type": "code",
      "metadata": {
        "id": "FBZEmOCxteZV",
        "colab_type": "code",
        "outputId": "fb4eefd4-9d31-4b42-b52e-5c345f2797ac",
        "colab": {
          "base_uri": "https://localhost:8080/",
          "height": 453
        }
      },
      "source": [
        "testing_data_and_labels_orig"
      ],
      "execution_count": 246,
      "outputs": [
        {
          "output_type": "execute_result",
          "data": {
            "text/html": [
              "<div>\n",
              "<style scoped>\n",
              "    .dataframe tbody tr th:only-of-type {\n",
              "        vertical-align: middle;\n",
              "    }\n",
              "\n",
              "    .dataframe tbody tr th {\n",
              "        vertical-align: top;\n",
              "    }\n",
              "\n",
              "    .dataframe thead th {\n",
              "        text-align: right;\n",
              "    }\n",
              "</style>\n",
              "<table border=\"1\" class=\"dataframe\">\n",
              "  <thead>\n",
              "    <tr style=\"text-align: right;\">\n",
              "      <th></th>\n",
              "      <th>juv_fel_count</th>\n",
              "      <th>juv_misd_count</th>\n",
              "      <th>juv_other_count</th>\n",
              "      <th>priors_count</th>\n",
              "      <th>is_recid</th>\n",
              "      <th>is_violent_recid</th>\n",
              "      <th>event</th>\n",
              "      <th>female</th>\n",
              "      <th>male</th>\n",
              "      <th>25 - 45</th>\n",
              "      <th>greater than 45</th>\n",
              "      <th>less than 25</th>\n",
              "      <th>african-american</th>\n",
              "      <th>asian</th>\n",
              "      <th>caucasian</th>\n",
              "      <th>hispanic</th>\n",
              "      <th>native american</th>\n",
              "      <th>other</th>\n",
              "      <th>f</th>\n",
              "      <th>m</th>\n",
              "      <th>(f1)</th>\n",
              "      <th>(f2)</th>\n",
              "      <th>(f3)</th>\n",
              "      <th>(f6)</th>\n",
              "      <th>(m1)</th>\n",
              "      <th>(m2)</th>\n",
              "      <th>(mo3)</th>\n",
              "      <th>two_year_recid</th>\n",
              "    </tr>\n",
              "  </thead>\n",
              "  <tbody>\n",
              "    <tr>\n",
              "      <th>0</th>\n",
              "      <td>-0.114991</td>\n",
              "      <td>-0.181568</td>\n",
              "      <td>-0.197014</td>\n",
              "      <td>-0.716422</td>\n",
              "      <td>-0.919673</td>\n",
              "      <td>-0.369379</td>\n",
              "      <td>-0.774907</td>\n",
              "      <td>-0.479744</td>\n",
              "      <td>0.479744</td>\n",
              "      <td>-1.114016</td>\n",
              "      <td>1.839503</td>\n",
              "      <td>-0.528158</td>\n",
              "      <td>-1.012585</td>\n",
              "      <td>-0.070906</td>\n",
              "      <td>-0.710824</td>\n",
              "      <td>-0.3203</td>\n",
              "      <td>-0.06725</td>\n",
              "      <td>4.124198</td>\n",
              "      <td>0.741358</td>\n",
              "      <td>-0.741358</td>\n",
              "      <td>-0.089825</td>\n",
              "      <td>-0.150021</td>\n",
              "      <td>-0.364993</td>\n",
              "      <td>-0.022372</td>\n",
              "      <td>-0.444661</td>\n",
              "      <td>-0.399390</td>\n",
              "      <td>-0.080906</td>\n",
              "      <td>0</td>\n",
              "    </tr>\n",
              "    <tr>\n",
              "      <th>1</th>\n",
              "      <td>-0.114991</td>\n",
              "      <td>-0.181568</td>\n",
              "      <td>-0.197014</td>\n",
              "      <td>-0.716422</td>\n",
              "      <td>1.087343</td>\n",
              "      <td>2.707243</td>\n",
              "      <td>1.290478</td>\n",
              "      <td>-0.479744</td>\n",
              "      <td>0.479744</td>\n",
              "      <td>0.897653</td>\n",
              "      <td>-0.543625</td>\n",
              "      <td>-0.528158</td>\n",
              "      <td>0.987571</td>\n",
              "      <td>-0.070906</td>\n",
              "      <td>-0.710824</td>\n",
              "      <td>-0.3203</td>\n",
              "      <td>-0.06725</td>\n",
              "      <td>-0.242471</td>\n",
              "      <td>0.741358</td>\n",
              "      <td>-0.741358</td>\n",
              "      <td>-0.089825</td>\n",
              "      <td>-0.150021</td>\n",
              "      <td>2.739778</td>\n",
              "      <td>-0.022372</td>\n",
              "      <td>-0.444661</td>\n",
              "      <td>-0.399390</td>\n",
              "      <td>-0.080906</td>\n",
              "      <td>1</td>\n",
              "    </tr>\n",
              "    <tr>\n",
              "      <th>2</th>\n",
              "      <td>-0.114991</td>\n",
              "      <td>-0.181568</td>\n",
              "      <td>1.593130</td>\n",
              "      <td>0.107468</td>\n",
              "      <td>1.087343</td>\n",
              "      <td>-0.369379</td>\n",
              "      <td>-0.774907</td>\n",
              "      <td>-0.479744</td>\n",
              "      <td>0.479744</td>\n",
              "      <td>-1.114016</td>\n",
              "      <td>-0.543625</td>\n",
              "      <td>1.893373</td>\n",
              "      <td>0.987571</td>\n",
              "      <td>-0.070906</td>\n",
              "      <td>-0.710824</td>\n",
              "      <td>-0.3203</td>\n",
              "      <td>-0.06725</td>\n",
              "      <td>-0.242471</td>\n",
              "      <td>0.741358</td>\n",
              "      <td>-0.741358</td>\n",
              "      <td>-0.089825</td>\n",
              "      <td>-0.150021</td>\n",
              "      <td>-0.364993</td>\n",
              "      <td>-0.022372</td>\n",
              "      <td>2.248905</td>\n",
              "      <td>-0.399390</td>\n",
              "      <td>-0.080906</td>\n",
              "      <td>1</td>\n",
              "    </tr>\n",
              "    <tr>\n",
              "      <th>3</th>\n",
              "      <td>-0.114991</td>\n",
              "      <td>1.749043</td>\n",
              "      <td>-0.197014</td>\n",
              "      <td>-0.510449</td>\n",
              "      <td>-0.919673</td>\n",
              "      <td>-0.369379</td>\n",
              "      <td>-0.774907</td>\n",
              "      <td>-0.479744</td>\n",
              "      <td>0.479744</td>\n",
              "      <td>-1.114016</td>\n",
              "      <td>-0.543625</td>\n",
              "      <td>1.893373</td>\n",
              "      <td>0.987571</td>\n",
              "      <td>-0.070906</td>\n",
              "      <td>-0.710824</td>\n",
              "      <td>-0.3203</td>\n",
              "      <td>-0.06725</td>\n",
              "      <td>-0.242471</td>\n",
              "      <td>0.741358</td>\n",
              "      <td>-0.741358</td>\n",
              "      <td>-0.089825</td>\n",
              "      <td>-0.150021</td>\n",
              "      <td>-0.364993</td>\n",
              "      <td>-0.022372</td>\n",
              "      <td>-0.444661</td>\n",
              "      <td>-0.399390</td>\n",
              "      <td>-0.080906</td>\n",
              "      <td>0</td>\n",
              "    </tr>\n",
              "    <tr>\n",
              "      <th>4</th>\n",
              "      <td>-0.114991</td>\n",
              "      <td>-0.181568</td>\n",
              "      <td>-0.197014</td>\n",
              "      <td>-0.304477</td>\n",
              "      <td>-0.919673</td>\n",
              "      <td>-0.369379</td>\n",
              "      <td>-0.774907</td>\n",
              "      <td>-0.479744</td>\n",
              "      <td>0.479744</td>\n",
              "      <td>0.897653</td>\n",
              "      <td>-0.543625</td>\n",
              "      <td>-0.528158</td>\n",
              "      <td>-1.012585</td>\n",
              "      <td>-0.070906</td>\n",
              "      <td>-0.710824</td>\n",
              "      <td>-0.3203</td>\n",
              "      <td>-0.06725</td>\n",
              "      <td>4.124198</td>\n",
              "      <td>0.741358</td>\n",
              "      <td>-0.741358</td>\n",
              "      <td>-0.089825</td>\n",
              "      <td>-0.150021</td>\n",
              "      <td>-0.364993</td>\n",
              "      <td>-0.022372</td>\n",
              "      <td>-0.444661</td>\n",
              "      <td>-0.399390</td>\n",
              "      <td>-0.080906</td>\n",
              "      <td>0</td>\n",
              "    </tr>\n",
              "    <tr>\n",
              "      <th>...</th>\n",
              "      <td>...</td>\n",
              "      <td>...</td>\n",
              "      <td>...</td>\n",
              "      <td>...</td>\n",
              "      <td>...</td>\n",
              "      <td>...</td>\n",
              "      <td>...</td>\n",
              "      <td>...</td>\n",
              "      <td>...</td>\n",
              "      <td>...</td>\n",
              "      <td>...</td>\n",
              "      <td>...</td>\n",
              "      <td>...</td>\n",
              "      <td>...</td>\n",
              "      <td>...</td>\n",
              "      <td>...</td>\n",
              "      <td>...</td>\n",
              "      <td>...</td>\n",
              "      <td>...</td>\n",
              "      <td>...</td>\n",
              "      <td>...</td>\n",
              "      <td>...</td>\n",
              "      <td>...</td>\n",
              "      <td>...</td>\n",
              "      <td>...</td>\n",
              "      <td>...</td>\n",
              "      <td>...</td>\n",
              "      <td>...</td>\n",
              "    </tr>\n",
              "    <tr>\n",
              "      <th>1595</th>\n",
              "      <td>-0.114991</td>\n",
              "      <td>3.679653</td>\n",
              "      <td>1.593130</td>\n",
              "      <td>0.931358</td>\n",
              "      <td>1.087343</td>\n",
              "      <td>2.707243</td>\n",
              "      <td>1.290478</td>\n",
              "      <td>-0.479744</td>\n",
              "      <td>0.479744</td>\n",
              "      <td>-1.114016</td>\n",
              "      <td>-0.543625</td>\n",
              "      <td>1.893373</td>\n",
              "      <td>0.987571</td>\n",
              "      <td>-0.070906</td>\n",
              "      <td>-0.710824</td>\n",
              "      <td>-0.3203</td>\n",
              "      <td>-0.06725</td>\n",
              "      <td>-0.242471</td>\n",
              "      <td>0.741358</td>\n",
              "      <td>-0.741358</td>\n",
              "      <td>-0.089825</td>\n",
              "      <td>-0.150021</td>\n",
              "      <td>-0.364993</td>\n",
              "      <td>-0.022372</td>\n",
              "      <td>-0.444661</td>\n",
              "      <td>2.503815</td>\n",
              "      <td>-0.080906</td>\n",
              "      <td>1</td>\n",
              "    </tr>\n",
              "    <tr>\n",
              "      <th>1596</th>\n",
              "      <td>-0.114991</td>\n",
              "      <td>-0.181568</td>\n",
              "      <td>-0.197014</td>\n",
              "      <td>-0.098504</td>\n",
              "      <td>-0.919673</td>\n",
              "      <td>-0.369379</td>\n",
              "      <td>-0.774907</td>\n",
              "      <td>-0.479744</td>\n",
              "      <td>0.479744</td>\n",
              "      <td>0.897653</td>\n",
              "      <td>-0.543625</td>\n",
              "      <td>-0.528158</td>\n",
              "      <td>-1.012585</td>\n",
              "      <td>-0.070906</td>\n",
              "      <td>-0.710824</td>\n",
              "      <td>-0.3203</td>\n",
              "      <td>-0.06725</td>\n",
              "      <td>4.124198</td>\n",
              "      <td>0.741358</td>\n",
              "      <td>-0.741358</td>\n",
              "      <td>-0.089825</td>\n",
              "      <td>-0.150021</td>\n",
              "      <td>-0.364993</td>\n",
              "      <td>-0.022372</td>\n",
              "      <td>-0.444661</td>\n",
              "      <td>-0.399390</td>\n",
              "      <td>-0.080906</td>\n",
              "      <td>0</td>\n",
              "    </tr>\n",
              "    <tr>\n",
              "      <th>1597</th>\n",
              "      <td>-0.114991</td>\n",
              "      <td>-0.181568</td>\n",
              "      <td>-0.197014</td>\n",
              "      <td>-0.304477</td>\n",
              "      <td>-0.919673</td>\n",
              "      <td>-0.369379</td>\n",
              "      <td>-0.774907</td>\n",
              "      <td>-0.479744</td>\n",
              "      <td>0.479744</td>\n",
              "      <td>-1.114016</td>\n",
              "      <td>1.839503</td>\n",
              "      <td>-0.528158</td>\n",
              "      <td>0.987571</td>\n",
              "      <td>-0.070906</td>\n",
              "      <td>-0.710824</td>\n",
              "      <td>-0.3203</td>\n",
              "      <td>-0.06725</td>\n",
              "      <td>-0.242471</td>\n",
              "      <td>-1.348875</td>\n",
              "      <td>1.348875</td>\n",
              "      <td>-0.089825</td>\n",
              "      <td>-0.150021</td>\n",
              "      <td>-0.364993</td>\n",
              "      <td>-0.022372</td>\n",
              "      <td>-0.444661</td>\n",
              "      <td>-0.399390</td>\n",
              "      <td>-0.080906</td>\n",
              "      <td>0</td>\n",
              "    </tr>\n",
              "    <tr>\n",
              "      <th>1598</th>\n",
              "      <td>-0.114991</td>\n",
              "      <td>-0.181568</td>\n",
              "      <td>-0.197014</td>\n",
              "      <td>0.313441</td>\n",
              "      <td>1.087343</td>\n",
              "      <td>-0.369379</td>\n",
              "      <td>-0.774907</td>\n",
              "      <td>-0.479744</td>\n",
              "      <td>0.479744</td>\n",
              "      <td>0.897653</td>\n",
              "      <td>-0.543625</td>\n",
              "      <td>-0.528158</td>\n",
              "      <td>0.987571</td>\n",
              "      <td>-0.070906</td>\n",
              "      <td>-0.710824</td>\n",
              "      <td>-0.3203</td>\n",
              "      <td>-0.06725</td>\n",
              "      <td>-0.242471</td>\n",
              "      <td>0.741358</td>\n",
              "      <td>-0.741358</td>\n",
              "      <td>-0.089825</td>\n",
              "      <td>-0.150021</td>\n",
              "      <td>-0.364993</td>\n",
              "      <td>-0.022372</td>\n",
              "      <td>-0.444661</td>\n",
              "      <td>2.503815</td>\n",
              "      <td>-0.080906</td>\n",
              "      <td>1</td>\n",
              "    </tr>\n",
              "    <tr>\n",
              "      <th>1599</th>\n",
              "      <td>-0.114991</td>\n",
              "      <td>-0.181568</td>\n",
              "      <td>-0.197014</td>\n",
              "      <td>-0.716422</td>\n",
              "      <td>1.087343</td>\n",
              "      <td>-0.369379</td>\n",
              "      <td>1.290478</td>\n",
              "      <td>-0.479744</td>\n",
              "      <td>0.479744</td>\n",
              "      <td>-1.114016</td>\n",
              "      <td>-0.543625</td>\n",
              "      <td>1.893373</td>\n",
              "      <td>-1.012585</td>\n",
              "      <td>-0.070906</td>\n",
              "      <td>1.406818</td>\n",
              "      <td>-0.3203</td>\n",
              "      <td>-0.06725</td>\n",
              "      <td>-0.242471</td>\n",
              "      <td>0.741358</td>\n",
              "      <td>-0.741358</td>\n",
              "      <td>-0.089825</td>\n",
              "      <td>-0.150021</td>\n",
              "      <td>-0.364993</td>\n",
              "      <td>-0.022372</td>\n",
              "      <td>2.248905</td>\n",
              "      <td>-0.399390</td>\n",
              "      <td>-0.080906</td>\n",
              "      <td>1</td>\n",
              "    </tr>\n",
              "  </tbody>\n",
              "</table>\n",
              "<p>1600 rows × 28 columns</p>\n",
              "</div>"
            ],
            "text/plain": [
              "      juv_fel_count  juv_misd_count  ...     (mo3)  two_year_recid\n",
              "0         -0.114991       -0.181568  ... -0.080906               0\n",
              "1         -0.114991       -0.181568  ... -0.080906               1\n",
              "2         -0.114991       -0.181568  ... -0.080906               1\n",
              "3         -0.114991        1.749043  ... -0.080906               0\n",
              "4         -0.114991       -0.181568  ... -0.080906               0\n",
              "...             ...             ...  ...       ...             ...\n",
              "1595      -0.114991        3.679653  ... -0.080906               1\n",
              "1596      -0.114991       -0.181568  ... -0.080906               0\n",
              "1597      -0.114991       -0.181568  ... -0.080906               0\n",
              "1598      -0.114991       -0.181568  ... -0.080906               1\n",
              "1599      -0.114991       -0.181568  ... -0.080906               1\n",
              "\n",
              "[1600 rows x 28 columns]"
            ]
          },
          "metadata": {
            "tags": []
          },
          "execution_count": 246
        }
      ]
    },
    {
      "cell_type": "markdown",
      "metadata": {
        "id": "zIGtAjF4wzxp",
        "colab_type": "text"
      },
      "source": [
        "### Perform PCA "
      ]
    },
    {
      "cell_type": "code",
      "metadata": {
        "id": "xy9g_k_TwgPv",
        "colab_type": "code",
        "colab": {}
      },
      "source": [
        "u,s,v = np.linalg.svd(all_data)"
      ],
      "execution_count": 0,
      "outputs": []
    },
    {
      "cell_type": "code",
      "metadata": {
        "id": "h7cO_CFbUMEh",
        "colab_type": "code",
        "colab": {
          "base_uri": "https://localhost:8080/",
          "height": 242
        },
        "outputId": "ae67fbfa-fe83-42e8-bf93-1e499b3c10d0"
      },
      "source": [
        "u"
      ],
      "execution_count": 248,
      "outputs": [
        {
          "output_type": "execute_result",
          "data": {
            "text/plain": [
              "array([[-1.88465845e-02, -3.32362847e-02, -2.78257872e-03, ...,\n",
              "         1.55410446e-03, -5.88367955e-03, -1.17118499e-02],\n",
              "       [ 3.54222437e-02,  2.73978635e-03,  3.40762841e-03, ...,\n",
              "        -5.07976701e-03, -4.31404805e-03, -5.62221760e-03],\n",
              "       [ 2.03485195e-02, -1.57791917e-02, -1.51308789e-02, ...,\n",
              "         9.55007182e-03,  2.68278050e-03,  1.97477455e-03],\n",
              "       ...,\n",
              "       [ 2.01630670e-02, -4.90232847e-03,  5.98261798e-03, ...,\n",
              "         9.86947799e-01,  1.69207588e-03,  5.55818602e-04],\n",
              "       [-2.68655221e-02,  2.27823548e-02, -1.02094204e-02, ...,\n",
              "         1.48369513e-03,  9.95624063e-01,  1.09009693e-03],\n",
              "       [-1.19853114e-02, -1.78374302e-02,  7.15111930e-03, ...,\n",
              "         1.72779905e-04,  1.13563829e-03,  9.96930071e-01]])"
            ]
          },
          "metadata": {
            "tags": []
          },
          "execution_count": 248
        }
      ]
    },
    {
      "cell_type": "code",
      "metadata": {
        "id": "x9ANK_L1wrDE",
        "colab_type": "code",
        "colab": {}
      },
      "source": [
        "positive_labels = all_labels['two_year_recid'] == 1\n",
        "negative_labels = all_labels['two_year_recid'] == 0"
      ],
      "execution_count": 0,
      "outputs": []
    },
    {
      "cell_type": "markdown",
      "metadata": {
        "id": "f8ixKQX9zbjw",
        "colab_type": "text"
      },
      "source": [
        "Plot all dimensions of PCA"
      ]
    },
    {
      "cell_type": "code",
      "metadata": {
        "id": "YR9OJ8FCxixf",
        "colab_type": "code",
        "colab": {}
      },
      "source": [
        "# import matplotlib.pyplot as plt                                  \n",
        "# maxpc = 23\n",
        "# fig, ax = plt.subplots(maxpc, maxpc, figsize=(20,20))\n",
        "# for pc1 in range(maxpc):\n",
        "#   for pc2 in range(maxpc):\n",
        "#     ax[pc1,pc2].plot(u[positive_labels,pc1], u[positive_labels, pc2], 'r.')\n",
        "#     ax[pc1,pc2].plot(u[negative_labels,pc1], u[negative_labels, pc2], 'b.')"
      ],
      "execution_count": 0,
      "outputs": []
    },
    {
      "cell_type": "markdown",
      "metadata": {
        "id": "q2AjjwyCzexn",
        "colab_type": "text"
      },
      "source": [
        "Plot specific 2 dimensions to visualise data "
      ]
    },
    {
      "cell_type": "code",
      "metadata": {
        "id": "4A5OqewnwyX-",
        "colab_type": "code",
        "outputId": "f49c8c4f-5201-4b3f-ad71-87dd36a8f08d",
        "colab": {
          "base_uri": "https://localhost:8080/",
          "height": 282
        }
      },
      "source": [
        "import matplotlib.pyplot as plt                                  \n",
        "dim1 = 12\n",
        "dim2 = 13\n",
        "plt.plot(u[positive_labels,dim1], u[positive_labels,dim2], 'r.')\n",
        "plt.plot(u[negative_labels,dim1], u[negative_labels,dim2], 'b.')"
      ],
      "execution_count": 251,
      "outputs": [
        {
          "output_type": "execute_result",
          "data": {
            "text/plain": [
              "[<matplotlib.lines.Line2D at 0x7f7decc520b8>]"
            ]
          },
          "metadata": {
            "tags": []
          },
          "execution_count": 251
        },
        {
          "output_type": "display_data",
          "data": {
            "image/png": "[encoded data removed]",
            "text/plain": [
              "<Figure size 432x288 with 1 Axes>"
            ]
          },
          "metadata": {
            "tags": [],
            "needs_background": "light"
          }
        }
      ]
    },
    {
      "cell_type": "markdown",
      "metadata": {
        "id": "qNt2ZzgLz66W",
        "colab_type": "text"
      },
      "source": [
        "Select dimensions we want to use to represent our data; define the data based on these"
      ]
    },
    {
      "cell_type": "code",
      "metadata": {
        "id": "TEG8PN4DyeUH",
        "colab_type": "code",
        "colab": {}
      },
      "source": [
        "#we want to use 12 and 13th dimensions as features \n",
        "dim12 = u[:,12]\n",
        "dim13 = u[:,13]\n",
        "all_X_transformed = pd.DataFrame({'dim12':dim12, 'dim13':dim13}, index=all_data.index)\n",
        "all_X_transformed_and_labels = all_X_transformed.join(all_labels)"
      ],
      "execution_count": 0,
      "outputs": []
    },
    {
      "cell_type": "code",
      "metadata": {
        "id": "oPKlrxVgy30t",
        "colab_type": "code",
        "colab": {}
      },
      "source": [
        "training_data_and_labels = all_X_transformed_and_labels[num_testing_samples:]\n",
        "testing_data_and_labels = all_X_transformed_and_labels[:num_testing_samples]"
      ],
      "execution_count": 0,
      "outputs": []
    },
    {
      "cell_type": "code",
      "metadata": {
        "id": "MUDe4k9ESrO1",
        "colab_type": "code",
        "colab": {}
      },
      "source": [
        "training_data = all_X_transformed[num_testing_samples:]\n",
        "training_labels = all_labels[num_testing_samples:]"
      ],
      "execution_count": 0,
      "outputs": []
    },
    {
      "cell_type": "markdown",
      "metadata": {
        "id": "aUq4oXzfwVRT",
        "colab_type": "text"
      },
      "source": [
        "##Selecting Classifiers"
      ]
    },
    {
      "cell_type": "markdown",
      "metadata": {
        "id": "2q42wDUzwY7g",
        "colab_type": "text"
      },
      "source": [
        "Here we select the classification model to use. We are using a selection of built-in classifiers in scikit-learn. \n",
        "\n",
        "Currently, we are using RBF SVM models (https://scikit-learn.org/stable/auto_examples/svm/plot_rbf_parameters.html). \n",
        "\n",
        "We define the boolean values ```vary_gamma ``` and  ```vary_c``` to define whether we are varying the gamma or C parameters; C defines the misclassification penalty and gamma defines the spread of the kernel. \n",
        "\n"
      ]
    },
    {
      "cell_type": "code",
      "metadata": {
        "id": "Ev5DxNlxwZdE",
        "colab_type": "code",
        "colab": {}
      },
      "source": [
        "from sklearn import model_selection, neighbors, svm, metrics\n",
        "\n",
        "vary_gamma = True\n",
        "vary_c = False \n",
        "polynomial = False\n",
        "gammas = []\n",
        "cs = []\n",
        "classifiers = []\n",
        "degrees = []\n",
        "\n",
        "if vary_gamma:\n",
        "  #high bias model\n",
        "  # gammas = [250]\n",
        "  #high variance model\n",
        "  gammas = [500000]\n",
        "  # gammas = [100, 250, 500, 750, 1000, 2500, 5000, 7500, 10000, 25000, 50000, 75000, 100000, 250000, 500000, 750000, 1000000]\n",
        "  cs=[1000]\n",
        "  # cs = [0.1, 1, 10, 100, 1000, 10000, 100000]\n",
        "  # gammas = [0.001]\n",
        "  # gammas = [1]\n",
        "  # c_val = 1000\n",
        "  #fix size of C if varying gamma\n",
        "\n",
        "  for gamma_val in gammas:\n",
        "    for c_val in cs:\n",
        "      classifiers.append(svm.SVC(gamma=gamma_val,C=c_val, probability=True))\n",
        "\n",
        "if vary_c:\n",
        "  cs = [10, 100, 1000, 10000, 100000, 1000000, 10000000, 10000000]\n",
        "  gamma_val = 1\n",
        "  #fix size of gamma if varying C\n",
        "  for c_val in cs:\n",
        "    classifiers.append(svm.SVC(gamma=gamma_val,C=c_val, probability=True))\n",
        "\n",
        "if polynomial:\n",
        "  degrees = [0,1,2,3,4,5,6,7,8]\n",
        "  # degrees = [0]\n",
        "  for degree in degrees:\n",
        "    classifiers.append(svm.SVC(kernel='poly', degree=degree, probability=True))"
      ],
      "execution_count": 0,
      "outputs": []
    },
    {
      "cell_type": "markdown",
      "metadata": {
        "id": "Xr-UOflR1Kqd",
        "colab_type": "text"
      },
      "source": [
        "## Bootstrapping "
      ]
    },
    {
      "cell_type": "markdown",
      "metadata": {
        "id": "d7R2_gvY1LTB",
        "colab_type": "text"
      },
      "source": [
        "The classification process then uses a bootstrapping procedure with the chosen model, to generate predictions of recidivism classifications (1 = will not reoffend (positive case); 0 = will reoffend (negative case)).\n",
        "\n",
        "Bootstrapping (https://link.springer.com/chapter/10.1007/978-1-4612-4380-9_41) is a sampling with replacement procedure. The sample size is the same as the size of the (training) dataset. The bootstrapping procedure is run many times to generate different training datasets, which will then be used for classification. In turn, the classification results will be used to calculate and study the bias and variance errors. "
      ]
    },
    {
      "cell_type": "code",
      "metadata": {
        "id": "9KqW1u2i1OYR",
        "colab_type": "code",
        "colab": {}
      },
      "source": [
        "def do_bootstrap(training_data_and_labels):\n",
        "  # this is one bootstrap sample \n",
        "  indices = np.random.randint(0,training_data_and_labels.shape[0] , training_data_and_labels.shape[0])\n",
        "  indices.sort()\n",
        "  data_points = []\n",
        "\n",
        "  for i in indices:\n",
        "    data_points.append(training_data_and_labels.iloc[i])\n",
        "\n",
        "  b_sample = pd.DataFrame(data_points)\n",
        "  \n",
        "  return b_sample"
      ],
      "execution_count": 0,
      "outputs": []
    },
    {
      "cell_type": "markdown",
      "metadata": {
        "id": "Sxl1Zmlq1lTW",
        "colab_type": "text"
      },
      "source": [
        "## Perform classification"
      ]
    },
    {
      "cell_type": "markdown",
      "metadata": {
        "id": "ssGNJ4bT1zJj",
        "colab_type": "text"
      },
      "source": [
        "Fit the model on the training data (which is one bootstrap data sample as defined above)\n"
      ]
    },
    {
      "cell_type": "code",
      "metadata": {
        "id": "z7UPIAkG1zwb",
        "colab_type": "code",
        "colab": {}
      },
      "source": [
        "def fit_and_predict(clf, b_sample, testing_data_and_labels):\n",
        "\n",
        "    #training data is everything apart from two year recid 0/1 label from the bootstrap sample\n",
        "    X_train = b_sample.drop(columns=['two_year_recid'])\n",
        "    y_train = b_sample['two_year_recid']\n",
        "    X_test = testing_data_and_labels.drop(columns=['two_year_recid'])\n",
        "    y_test = testing_data_and_labels['two_year_recid']\n",
        "\n",
        "    clf = clf.fit(X_train, y_train)\n",
        "    y_pred = clf.predict(X_test)\n",
        "    soft_score = clf.decision_function(X_test)\n",
        "    y_true = y_test\n",
        "\n",
        "    h = .0005\n",
        "    X=X_train.values\n",
        "    y=np.ravel(y_train.values)\n",
        "    Z = clf\n",
        "    x_min, x_max = -0.03,0.03\n",
        "    y_min, y_max = -0.03,0.03\n",
        "    xx, yy = np.meshgrid(np.arange(x_min, x_max, h),\n",
        "                        np.arange(y_min, y_max, h))\n",
        "    Z = Z.predict(np.c_[xx.ravel(), yy.ravel()])\n",
        "    Z = Z.reshape(xx.shape)\n",
        "    plt.axes(xlim =[x_min,x_max], ylim=[y_min,y_max])\n",
        "    plt.contourf(xx, yy, Z, cmap=plt.cm.coolwarm, alpha=0.8)\n",
        "    plt.axes(xlim =[x_min,x_max], ylim=[y_min,y_max])\n",
        "    xx, yy = np.meshgrid(np.arange(x_min, x_max, h),\n",
        "                        np.arange(y_min, y_max, h))\n",
        "    plt.scatter(X[:, 0], X[:, 1], c=y, cmap=plt.cm.coolwarm)\n",
        "    # plt.scatter(misclassified_list[classifier_num_hv]['dim12'], misclassified_list[classifier_num_hv]['dim13'], color='green')\n",
        "       \n",
        "    plt.show()\n",
        "\n",
        "    return y_pred, y_true, soft_score"
      ],
      "execution_count": 0,
      "outputs": []
    },
    {
      "cell_type": "markdown",
      "metadata": {
        "id": "0VpaNwg32EDc",
        "colab_type": "text"
      },
      "source": [
        "Perform classification for each bootstrap sample separately, and store these in a DataFrame, to be passed into the bias/variance calculations.\n",
        "This returns all of the predictions for each individual for each bootstrap sample"
      ]
    },
    {
      "cell_type": "code",
      "metadata": {
        "id": "tUqOb8m8hATM",
        "colab_type": "code",
        "colab": {}
      },
      "source": [
        "num_bootstraps = 6;"
      ],
      "execution_count": 0,
      "outputs": []
    },
    {
      "cell_type": "code",
      "metadata": {
        "id": "8a4gqWb52Env",
        "colab_type": "code",
        "colab": {}
      },
      "source": [
        "def classify(training_data_and_labels, testing_data_and_labels, clf):\n",
        "    count = 0\n",
        "\n",
        "    while count <= num_bootstraps:\n",
        "      b_sample = do_bootstrap(training_data_and_labels)\n",
        "      y_pred, y_true, soft_score = fit_and_predict(clf, b_sample, testing_data_and_labels)\n",
        "      # calc_conf_matrix_bootstrap(y_true, y_pred)\n",
        "      if(count == 0):\n",
        "        predictions = pd.DataFrame(pd.Series(y_pred)).transpose()\n",
        "        #true labels are the same for every sample so we only need 1 row in df\n",
        "        true_labels = pd.DataFrame(pd.Series(y_true)).transpose()\n",
        "      else:\n",
        "        predictions = predictions.append(pd.DataFrame(pd.Series(y_pred)).transpose())\n",
        "      count += 1\n",
        "      \n",
        "      \n",
        "    return predictions, true_labels, soft_score"
      ],
      "execution_count": 0,
      "outputs": []
    },
    {
      "cell_type": "code",
      "metadata": {
        "id": "-SKaizY85_E-",
        "colab_type": "code",
        "colab": {}
      },
      "source": [
        "from sklearn.metrics import confusion_matrix\n",
        "\n",
        "def calc_conf_matrix(y_true, y_pred):\n",
        "  # get confusion matrix and compute tn,fp,fn,tp\n",
        "  tn, fp, fn, tp = confusion_matrix(y_true.iloc[0].to_numpy(), y_pred.iloc[0].to_numpy()).ravel()\n",
        "  print(\"true negatives:\", tn, \"rate:\" , tn/(tn+fp+fn+tp), \"false positives:\", fp, \"rate:\", fp/(tn+fp+fn+tp) ,\"false negatives:\", fn,\"rate:\", fn/(tn+fp+fn+tp), \"true positives:\",tp,\"rate:\", tp/(tn+fp+fn+tp))"
      ],
      "execution_count": 0,
      "outputs": []
    },
    {
      "cell_type": "markdown",
      "metadata": {
        "id": "ND8rL1NL_Q1O",
        "colab_type": "text"
      },
      "source": [
        "#Fairness"
      ]
    },
    {
      "cell_type": "markdown",
      "metadata": {
        "id": "_kJkwbvT_V1e",
        "colab_type": "text"
      },
      "source": [
        "The definition of fairness is disputed, and there is not a single correct approach to ensuring fairness in machine learning. In general, as stated in https://arxiv.org/pdf/1711.08513.pdf, fairness in machine learning can be approached in two ways: fairness of the dataset itself; fairness of the model.\n",
        "\n",
        "We will focus on model-based fairness correction - ensuring the machine learning models are not perpetuating existing biases, or introducing new biases. We do this by using a widely used and accepted fairness measurement which is context-independent, known as **Equalised Odds** (http://papers.nips.cc/paper/6374-equality-of-opportunity-in-supervised-learning.pdf). This approach is not without criticism, however it provides a clear and well-motivated approach to achieving fair predictions across subgroups with different protected characteristics. We attempt to correct for fairness in relation to the protected characteristics found in the recidivism dataset (sex, race, age). Once our models are 'fair' in relation to this description, we can explore the relationship between bias and variance errors and the potential discovery of discrimination against new categories. \n"
      ]
    },
    {
      "cell_type": "markdown",
      "metadata": {
        "id": "m6qZOTID_iMa",
        "colab_type": "text"
      },
      "source": [
        "\n",
        "##Equalised Odds\n",
        "\n",
        "As stated above, we are considering fairness in relation to the equalised odds metric (http://papers.nips.cc/paper/6374-equality-of-opportunity-in-supervised-learning.pdf). The definition as stated in this paper is as follows: \\\\\n",
        "We say that a predictor $\\hat{Y}$ satisfies equalized odds with respect to\n",
        "protected attribute $A$ and outcome $Y$, if $\\hat{Y}$ and $A$ are independent conditional on $Y$. Therefore, if the classification labels are $Y$ and $\\hat{Y}$, for an outcome $ y=1 $, $\\hat{Y}$ has equal true positive rates across all demographic groups, for example, the categories not female and female will have equal true positive rates. For an outcome  $ y=0 $, $\\hat{Y}$ has equal false positive rates across all demographic groups. This enforces equal bias and accuracy in all demographics. This can formally be stated as:\n",
        "$$ Pr \\left\\{ \\hat{Y}=1 | A = 0, Y = y \\right\\} = Pr \\left\\{ \\hat{Y}=1 | A = 0, Y = y \\right\\} , y \\in \\left\\{ 0,1 \\right\\}$$\n",
        "\n",
        "This approach punishes models that only perform well on the majority demographics."
      ]
    },
    {
      "cell_type": "markdown",
      "metadata": {
        "id": "DKZYYF1J_5rl",
        "colab_type": "text"
      },
      "source": [
        "The following code is the implementation of equalised odds from the paper http://papers.nips.cc/paper/7151-on-fairness-and-calibration.pdf, the code is from the github repository https://github.com/gpleiss/equalized_odds_and_calibration/blob/master/eq_odds.py.\n",
        "\n",
        "This implementation equalises false positives and false negatives across demoographics, since in general, African Americans receive\n",
        "a disproportionate number of F.P. predictions as compared with Caucasians when automated risk tools are used in practice. In the context of recidivism, the 'positive case' is in fact a prediction of 0: the individual is predicted not to reoffend, so equalising false positives in this case fits with the equalised odds definition above."
      ]
    },
    {
      "cell_type": "code",
      "metadata": {
        "id": "M_VwEHLo_TbS",
        "colab_type": "code",
        "colab": {}
      },
      "source": [
        "def calculate_scores(predictions, soft_scores):\n",
        "\n",
        "  maximum = soft_scores.max()\n",
        "  minimum = soft_scores.min()\n",
        "  normalise = lambda x: ((x-minimum)/(maximum-minimum))\n",
        "  n_soft_scores = []\n",
        "  for score in soft_scores:\n",
        "    soft_score = normalise(score)\n",
        "    n_soft_scores.append(soft_score)\n",
        "\n",
        "  return n_soft_scores"
      ],
      "execution_count": 0,
      "outputs": []
    },
    {
      "cell_type": "code",
      "metadata": {
        "id": "yaE1PNKHM6fe",
        "colab_type": "code",
        "colab": {}
      },
      "source": [
        "# !git clone https://github.com/clairecoffey/project.git"
      ],
      "execution_count": 0,
      "outputs": []
    },
    {
      "cell_type": "code",
      "metadata": {
        "id": "-hwRZ2bTAAJv",
        "colab_type": "code",
        "colab": {}
      },
      "source": [
        "def constrain_with_equalised_odds(true_labels, group_ids, demographic, soft_scores):\n",
        "\n",
        "  #create csv file containing relevant fields: prediction, label, group \n",
        "  predictions = pd.DataFrame(soft_scores, columns=['prediction'])\n",
        "  true_labels = pd.melt(true_labels).rename(columns={'value':'label'})\n",
        "  group_ids = pd.melt(group_ids).rename(columns={'value':'group'})\n",
        "  eq_odds_input = pd.concat([predictions, true_labels], axis=1)\n",
        "  eq_odds_input = pd.concat([eq_odds_input, group_ids], axis=1)\n",
        "  eq_odds_input = eq_odds_input.drop(columns=[\"variable\"])\n",
        "  eq_odds_input.to_csv(r'eq_odds.csv', index=True)\n",
        "\n",
        "  \n",
        "  !python2 \"eq_odds.py\" \"eq_odds.csv\"\n",
        "\n",
        "  eq_odds_pred_group_0 = pd.read_csv(filepath_or_buffer='/content/group_0.csv', delimiter=',', header=0)\n",
        "  eq_odds_pred_group_1 = pd.read_csv(filepath_or_buffer='/content/group_1.csv', delimiter=',',header=0 )\n",
        "  eq_odds_pred = pd.concat([eq_odds_pred_group_0,eq_odds_pred_group_1])\n",
        "  eq_odds_pred =  pd.DataFrame.reset_index(eq_odds_pred,drop=True)\n",
        "  eq_odds_pred['round_predictions'] = [0 if (row < 0.5) else 1 for row in eq_odds_pred['predictions']]\n",
        "\n",
        "  return eq_odds_pred['round_predictions'], eq_odds_pred['true_labels']\n"
      ],
      "execution_count": 0,
      "outputs": []
    },
    {
      "cell_type": "code",
      "metadata": {
        "id": "PqINbFqLOrZu",
        "colab_type": "code",
        "colab": {}
      },
      "source": [
        "# from google.colab import drive\n",
        "# drive.mount('/content/drive')"
      ],
      "execution_count": 0,
      "outputs": []
    },
    {
      "cell_type": "markdown",
      "metadata": {
        "id": "1lRDSEBd9uCg",
        "colab_type": "text"
      },
      "source": [
        "# Compute bias/variance errors"
      ]
    },
    {
      "cell_type": "markdown",
      "metadata": {
        "id": "jWIqpNgu93YL",
        "colab_type": "text"
      },
      "source": [
        "We can decompose the error into the errors due to bias, and the errors due to variance, in order to study the behaviour of the model and the bias/variance tradeoff, as described by Domingos in:\n",
        "https://www.aaai.org/Papers/AAAI/2000/AAAI00-086.pdf\n",
        "\n",
        "The definitions of bias and variance are as follows:\n",
        "\n",
        "\n",
        "* **Bias** is the zero-one loss incurred for the main prediction relative to the optimal prediction. Where the \"main prediction\" is the modal classification for each individual across all bootstrap samples. \n",
        "*  **Variance** is the average zero-one loss incurred by all predictions relativeto the main prediction.  The variance is the loss incurred by the fluctuations around the main (modal) prediction in response to different bootstrap training sets.\n",
        "\n",
        "We can then calculate the overall average bias error and variance error for the model. \n",
        "\n"
      ]
    },
    {
      "cell_type": "code",
      "metadata": {
        "id": "CTWZfkOU9v69",
        "colab_type": "code",
        "colab": {}
      },
      "source": [
        "def compute_bias_variance(predictions, true_labels):\n",
        "\n",
        "  # print(\"predictions: \")\n",
        "  # print(predictions)\n",
        "  # print(\"true labels: \")\n",
        "\n",
        "  biases = []\n",
        "  variances = []\n",
        "  avg_errors = []\n",
        "  misclassified_individuals = []\n",
        "  losses = []\n",
        "  noises = []\n",
        " \n",
        "  #find 'main' (mode) predction - used to calculate bias error \n",
        "  main_predictions = predictions.mode(dropna=False)  \n",
        "  main_predictions_transposed = main_predictions.copy()\n",
        "  main_predictions_transposed = main_predictions_transposed.iloc[0,:]\n",
        "\n",
        "  #compare main (modal) prediction to true prediction \n",
        "  main_predictions_misclassified_relative_to_true = main_predictions.apply(lambda z : z != true_labels.iloc[0], axis=1)\n",
        "  #find whether each element is misclassified for each bootstrap sample \n",
        "  #find if each prediction is the same as the true prediction \n",
        "  predictions_misclassified_relative_to_true = predictions.apply(lambda x : x != true_labels.iloc[0], axis=1)\n",
        "  #find if the predictions are the same as the main prediction - used to calculate variance error\n",
        "  predictions_misclassified_relative_to_main = predictions.apply(lambda y : y != main_predictions_transposed, axis = 1)\n",
        "\n",
        "  #count number of times misclassified for each datapoint across all bootstrap samples \n",
        "  main_misclassified_true_counts = main_predictions_misclassified_relative_to_true.apply(np.sum)\n",
        "  misclassified_true_counts = predictions_misclassified_relative_to_true.apply(np.sum)\n",
        "  misclassified_main_counts = predictions_misclassified_relative_to_main.apply(np.sum)\n",
        "\n",
        "  #average misclassification error for each individual/datapoint \n",
        "  #same as probability of incorrect classification\n",
        "  avg_true_errors = misclassified_true_counts.apply(lambda a : np.divide(a,len(predictions)))\n",
        "  avg_main_errors = misclassified_main_counts.apply(lambda b : np.divide(b,len(predictions)))\n",
        "  avg_main_true_errors = main_misclassified_true_counts.apply(lambda c : np.divide(c,len(main_predictions)))\n",
        "\n",
        "  for i in range(len(avg_true_errors)):\n",
        "    # if average error is less than 0.5 then it means the main prediction is the same as the optimal one\n",
        "    avg_main_true_error = avg_main_true_errors[i]\n",
        "    avg_true_error = avg_true_errors[i]\n",
        "    avg_main_error = avg_main_errors[i]\n",
        "    bias = 0 if avg_main_true_error <=0.5 else 1\n",
        "    variance = avg_main_error\n",
        "    noise = 0\n",
        "    c1 = ((2*(1-avg_true_error))-1)\n",
        "    c2 = 1 if avg_main_true_error <= 0.5 else -1\n",
        "    #loss according to domingos' decomposition\n",
        "    loss = (c1*noise) + bias + (c2*variance)\n",
        "    biases.append(bias)\n",
        "    variances.append(variance)\n",
        "    noises.append(noise)\n",
        "    losses.append(loss)\n",
        "    if avg_true_error > 0.5:\n",
        "      misclassified_individuals.append(i)\n",
        "\n",
        "  avg_bias = np.mean(biases)\n",
        "  avg_var = np.mean(variances)\n",
        "  avg_loss = np.mean(losses)\n",
        "\n",
        "  print(\"average loss:\") \n",
        "  print(avg_loss)\n",
        "  print(\"average bias:\")\n",
        "  print(avg_bias)\n",
        "  print(\"average variance:\")\n",
        "  print(avg_var)\n",
        "\n",
        "  return avg_bias, avg_var, avg_loss, misclassified_individuals"
      ],
      "execution_count": 0,
      "outputs": []
    },
    {
      "cell_type": "markdown",
      "metadata": {
        "id": "q4LGD0ue-kS6",
        "colab_type": "text"
      },
      "source": [
        "##Run procedure for all classifiers\n",
        "### Fit and train model for each bootstrap \n",
        "### Classify using these \n",
        "### Do fairness correction if equalised_odds=True\n",
        "### Compute bias/variance "
      ]
    },
    {
      "cell_type": "code",
      "metadata": {
        "id": "530XyCUQJN8L",
        "colab_type": "code",
        "colab": {}
      },
      "source": [
        "\n"
      ],
      "execution_count": 0,
      "outputs": []
    },
    {
      "cell_type": "code",
      "metadata": {
        "id": "NBNqxEcB3Rx_",
        "colab_type": "code",
        "outputId": "f7c0e05f-5fa5-4ad9-950f-1e1751f78f6a",
        "colab": {
          "base_uri": "https://localhost:8080/",
          "height": 1000
        }
      },
      "source": [
        "# demographics = ['african-american', 'caucasian', 'hispanic', 'asian', 'native american', 'other', 'male', 'female', 'less than 25', '25 - 45', 'greater than 45']\n",
        "demographics = ['african-american']\n",
        "testing_data_and_labels_list = []\n",
        "training_data_and_labels_list = []\n",
        "training_data_and_labels_list.append(training_data_and_labels)\n",
        "testing_data_and_labels_list.append(testing_data_and_labels)\n",
        "\n",
        "biases = []\n",
        "variances = []\n",
        "total_errors = []\n",
        "avg_losses = []\n",
        "biases_eq = []\n",
        "variances_eq = []\n",
        "total_errors_eq = []\n",
        "avg_losses_eq = []\n",
        "all_misclassified = pd.DataFrame()\n",
        "all_misclassified_eq = pd.DataFrame()\n",
        "equalised_odds = False\n",
        "k = 0\n",
        "\n",
        "for clf in classifiers:\n",
        "  print(clf)\n",
        "  for i in range(len(training_data_and_labels_list)):\n",
        "    predictions, true_labels, soft_scores = classify(training_data_and_labels_list[i], testing_data_and_labels_list[i], clf)  \n",
        "    majority_predictions = predictions.mode(numeric_only=True)\n",
        "    print(\"avg pred conf matrix:\")\n",
        "    calc_conf_matrix(true_labels, majority_predictions)\n",
        "    if(equalised_odds):\n",
        "      soft_scores = calculate_scores(predictions, soft_scores)\n",
        "      for demographic in demographics:\n",
        "        group_ids = [] \n",
        "        print(\"Equalising odds for \", demographic)\n",
        "        group_ids_normalised = testing_data_and_labels_orig[demographic]\n",
        "        for n_id in group_ids_normalised:\n",
        "          group_id = 0 if n_id < 0 else 1\n",
        "          group_ids.append(group_id)\n",
        "        group_ids = pd.DataFrame([group_ids])\n",
        "        all_eq_predictions = []\n",
        "        for j in range (len(predictions.index)):\n",
        "          eq_predictions, true_eq_labels = constrain_with_equalised_odds(true_labels, group_ids, demographic, soft_scores)\n",
        "          all_eq_predictions.append(np.array(eq_predictions))\n",
        "        all_eq_predictions = pd.DataFrame(all_eq_predictions)\n",
        "        true_eq_labels = pd.DataFrame(np.array(true_eq_labels), columns=['two_year_recid'])\n",
        "        true_eq_labels = true_eq_labels.transpose()\n",
        "      #if not equalised odds we have to only use half of the predictions somehow otherwise it's not fair \n",
        "      #because in equalised odds we use half of it to determine parameters (validation)\n",
        "      predictions = predictions.iloc[:,:int(len(predictions.columns)/2)]\n",
        "      true_labels = true_labels.iloc[:,:int(len(true_labels.columns)/2)]\n",
        "    bias, variance, avg_loss, misclassified_individuals = compute_bias_variance(predictions, true_labels)\n",
        "    biases.append(bias)\n",
        "    variances.append(variance)\n",
        "    avg_losses.append(avg_loss)\n",
        "    # print(\"misclassified before: \", misclassified_individuals)\n",
        "    if(equalised_odds):\n",
        "      print(\"after fairness correction:\")\n",
        "      bias_eq, variance_eq, avg_loss_eq, misclassified_individuals_eq = compute_bias_variance(all_eq_predictions, true_eq_labels)\n",
        "      biases_eq.append(bias_eq)\n",
        "      variances_eq.append(variance_eq)\n",
        "      avg_losses_eq.append(avg_loss_eq)\n",
        "      # print(\"misclassified after: \", misclassified_individuals_eq)\n",
        "    for j in range(len(testing_data_and_labels_list)):\n",
        "      if(len(misclassified_individuals) > 0 ):\n",
        "        misclassified = testing_data_and_labels_list[j].iloc[misclassified_individuals]\n",
        "        all_misclassified = all_misclassified.append(misclassified)\n",
        "      if(equalised_odds):\n",
        "        if(len(misclassified_individuals_eq) > 0):\n",
        "          misclassified_eq = testing_data_and_labels_list[j].iloc[misclassified_individuals_eq]\n",
        "          all_misclassified_eq = all_misclassified_eq.append(misclassified_eq)\n",
        "      if (k == 0):\n",
        "        #store misclassified individuals for each classifier so easier to compare\n",
        "        misclassified_list = [misclassified]\n",
        "        if(equalised_odds):\n",
        "          misclassified_list_eq = [misclassified_eq]\n",
        "      else:\n",
        "        misclassified_list.append(misclassified)\n",
        "        if(equalised_odds):\n",
        "          misclassified_list_eq.append(misclassified_eq)\n",
        "    #export misclassified individuals to csv \n",
        "    csv_name = str(k)+'_misclassified_before'+'.csv'\n",
        "    all_misclassified.to_csv(r''+csv_name, index=False)\n",
        "    if(equalised_odds):\n",
        "      csv_name = str(k)+'_misclassified_after'+'.csv'\n",
        "      all_misclassified_eq.to_csv(r''+csv_name, index=False)\n",
        "    k+=1"
      ],
      "execution_count": 277,
      "outputs": [
        {
          "output_type": "stream",
          "text": [
            "SVC(C=1000, break_ties=False, cache_size=200, class_weight=None, coef0=0.0,\n",
            "    decision_function_shape='ovr', degree=3, gamma=500000, kernel='rbf',\n",
            "    max_iter=-1, probability=True, random_state=None, shrinking=True, tol=0.001,\n",
            "    verbose=False)\n"
          ],
          "name": "stdout"
        },
        {
          "output_type": "display_data",
          "data": {
            "image/png": "[encoded data removed]",
            "text/plain": [
              "<Figure size 432x288 with 1 Axes>"
            ]
          },
          "metadata": {
            "tags": [],
            "needs_background": "light"
          }
        },
        {
          "output_type": "display_data",
          "data": {
            "image/png": "[encoded data removed]",
            "text/plain": [
              "<Figure size 432x288 with 1 Axes>"
            ]
          },
          "metadata": {
            "tags": [],
            "needs_background": "light"
          }
        },
        {
          "output_type": "display_data",
          "data": {
            "image/png": "[encoded data removed]",
            "text/plain": [
              "<Figure size 432x288 with 1 Axes>"
            ]
          },
          "metadata": {
            "tags": [],
            "needs_background": "light"
          }
        },
        {
          "output_type": "display_data",
          "data": {
            "image/png": "[encoded data removed]",
            "text/plain": [
              "<Figure size 432x288 with 1 Axes>"
            ]
          },
          "metadata": {
            "tags": [],
            "needs_background": "light"
          }
        },
        {
          "output_type": "display_data",
          "data": {
            "image/png": "[encoded data removed]",
            "text/plain": [
              "<Figure size 432x288 with 1 Axes>"
            ]
          },
          "metadata": {
            "tags": [],
            "needs_background": "light"
          }
        },
        {
          "output_type": "display_data",
          "data": {
            "image/png": "[encoded data removed]",
            "text/plain": [
              "<Figure size 432x288 with 1 Axes>"
            ]
          },
          "metadata": {
            "tags": [],
            "needs_background": "light"
          }
        },
        {
          "output_type": "stream",
          "text": [
            "avg pred conf matrix:\n",
            "true negatives: 788 rate: 0.4925 false positives: 110 rate: 0.06875 false negatives: 337 rate: 0.210625 true positives: 365 rate: 0.228125\n",
            "average loss:\n",
            "0.25833333333333336\n",
            "average bias:\n",
            "0.18875\n",
            "average variance:\n",
            "0.13270833333333332\n"
          ],
          "name": "stdout"
        }
      ]
    },
    {
      "cell_type": "code",
      "metadata": {
        "id": "wPZC5c6EHhgC",
        "colab_type": "code",
        "colab": {
          "base_uri": "https://localhost:8080/",
          "height": 416
        },
        "outputId": "79870cd6-78a5-4982-b023-fa383b29c82e"
      },
      "source": [
        "misclassified_list[0]"
      ],
      "execution_count": 278,
      "outputs": [
        {
          "output_type": "execute_result",
          "data": {
            "text/html": [
              "<div>\n",
              "<style scoped>\n",
              "    .dataframe tbody tr th:only-of-type {\n",
              "        vertical-align: middle;\n",
              "    }\n",
              "\n",
              "    .dataframe tbody tr th {\n",
              "        vertical-align: top;\n",
              "    }\n",
              "\n",
              "    .dataframe thead th {\n",
              "        text-align: right;\n",
              "    }\n",
              "</style>\n",
              "<table border=\"1\" class=\"dataframe\">\n",
              "  <thead>\n",
              "    <tr style=\"text-align: right;\">\n",
              "      <th></th>\n",
              "      <th>dim12</th>\n",
              "      <th>dim13</th>\n",
              "      <th>two_year_recid</th>\n",
              "    </tr>\n",
              "  </thead>\n",
              "  <tbody>\n",
              "    <tr>\n",
              "      <th>1</th>\n",
              "      <td>-0.007046</td>\n",
              "      <td>-0.002580</td>\n",
              "      <td>1</td>\n",
              "    </tr>\n",
              "    <tr>\n",
              "      <th>11</th>\n",
              "      <td>-0.006132</td>\n",
              "      <td>-0.000045</td>\n",
              "      <td>1</td>\n",
              "    </tr>\n",
              "    <tr>\n",
              "      <th>18</th>\n",
              "      <td>-0.007666</td>\n",
              "      <td>0.002695</td>\n",
              "      <td>1</td>\n",
              "    </tr>\n",
              "    <tr>\n",
              "      <th>21</th>\n",
              "      <td>-0.006087</td>\n",
              "      <td>0.000603</td>\n",
              "      <td>1</td>\n",
              "    </tr>\n",
              "    <tr>\n",
              "      <th>22</th>\n",
              "      <td>-0.005334</td>\n",
              "      <td>0.002868</td>\n",
              "      <td>1</td>\n",
              "    </tr>\n",
              "    <tr>\n",
              "      <th>...</th>\n",
              "      <td>...</td>\n",
              "      <td>...</td>\n",
              "      <td>...</td>\n",
              "    </tr>\n",
              "    <tr>\n",
              "      <th>1578</th>\n",
              "      <td>-0.000806</td>\n",
              "      <td>0.007658</td>\n",
              "      <td>1</td>\n",
              "    </tr>\n",
              "    <tr>\n",
              "      <th>1583</th>\n",
              "      <td>-0.000387</td>\n",
              "      <td>0.012769</td>\n",
              "      <td>1</td>\n",
              "    </tr>\n",
              "    <tr>\n",
              "      <th>1584</th>\n",
              "      <td>0.002228</td>\n",
              "      <td>0.001785</td>\n",
              "      <td>1</td>\n",
              "    </tr>\n",
              "    <tr>\n",
              "      <th>1589</th>\n",
              "      <td>-0.004304</td>\n",
              "      <td>0.008935</td>\n",
              "      <td>0</td>\n",
              "    </tr>\n",
              "    <tr>\n",
              "      <th>1592</th>\n",
              "      <td>-0.150890</td>\n",
              "      <td>-0.019680</td>\n",
              "      <td>0</td>\n",
              "    </tr>\n",
              "  </tbody>\n",
              "</table>\n",
              "<p>302 rows × 3 columns</p>\n",
              "</div>"
            ],
            "text/plain": [
              "         dim12     dim13  two_year_recid\n",
              "1    -0.007046 -0.002580               1\n",
              "11   -0.006132 -0.000045               1\n",
              "18   -0.007666  0.002695               1\n",
              "21   -0.006087  0.000603               1\n",
              "22   -0.005334  0.002868               1\n",
              "...        ...       ...             ...\n",
              "1578 -0.000806  0.007658               1\n",
              "1583 -0.000387  0.012769               1\n",
              "1584  0.002228  0.001785               1\n",
              "1589 -0.004304  0.008935               0\n",
              "1592 -0.150890 -0.019680               0\n",
              "\n",
              "[302 rows x 3 columns]"
            ]
          },
          "metadata": {
            "tags": []
          },
          "execution_count": 278
        }
      ]
    },
    {
      "cell_type": "code",
      "metadata": {
        "id": "zRp-5TLwMFL5",
        "colab_type": "code",
        "colab": {}
      },
      "source": [
        "misclassified_list_eq[1]"
      ],
      "execution_count": 0,
      "outputs": []
    },
    {
      "cell_type": "code",
      "metadata": {
        "id": "ZTLSr1AxrwRR",
        "colab_type": "code",
        "colab": {}
      },
      "source": [
        "gammas"
      ],
      "execution_count": 0,
      "outputs": []
    },
    {
      "cell_type": "code",
      "metadata": {
        "id": "5Me6dCHmr0ED",
        "colab_type": "code",
        "colab": {}
      },
      "source": [
        "avg_losses"
      ],
      "execution_count": 0,
      "outputs": []
    },
    {
      "cell_type": "code",
      "metadata": {
        "id": "7n3Y_4vKryth",
        "colab_type": "code",
        "colab": {}
      },
      "source": [
        "biases"
      ],
      "execution_count": 0,
      "outputs": []
    },
    {
      "cell_type": "code",
      "metadata": {
        "id": "zTvL3VH-rxLi",
        "colab_type": "code",
        "colab": {}
      },
      "source": [
        "variances"
      ],
      "execution_count": 0,
      "outputs": []
    },
    {
      "cell_type": "code",
      "metadata": {
        "id": "XjFzhkuIr-YU",
        "colab_type": "code",
        "colab": {}
      },
      "source": [
        "avg_losses_eq"
      ],
      "execution_count": 0,
      "outputs": []
    },
    {
      "cell_type": "code",
      "metadata": {
        "id": "49RZSwbAs3XZ",
        "colab_type": "code",
        "colab": {}
      },
      "source": [
        "biases_eq"
      ],
      "execution_count": 0,
      "outputs": []
    },
    {
      "cell_type": "code",
      "metadata": {
        "id": "S8kfZbXar5Fq",
        "colab_type": "code",
        "colab": {}
      },
      "source": [
        "variances_eq"
      ],
      "execution_count": 0,
      "outputs": []
    },
    {
      "cell_type": "markdown",
      "metadata": {
        "id": "PXUOHtN59jgS",
        "colab_type": "text"
      },
      "source": [
        "# Plots"
      ]
    },
    {
      "cell_type": "markdown",
      "metadata": {
        "id": "DBUenCxiE8Px",
        "colab_type": "text"
      },
      "source": [
        "Plot the misclassified individuals on top of the true labelled data \n",
        "\n",
        "* Red: positive case individuals (ie. did reoffend)\n",
        "* Blue: positive case individuals (ie. did not reoffend)\n",
        "* Green: misclassified individuals"
      ]
    },
    {
      "cell_type": "markdown",
      "metadata": {
        "id": "hpi--vb_FdL2",
        "colab_type": "text"
      },
      "source": [
        "This allows us to see the difference between models with differing bias/variance errors on misclassified individuals, showing the new category of discrimination. "
      ]
    },
    {
      "cell_type": "code",
      "metadata": {
        "id": "A-uVoUFOjNJs",
        "colab_type": "code",
        "colab": {}
      },
      "source": [
        "\n",
        "classifier_num_hb = 1\n",
        "classifier_num_hv = len(classifiers)-3\n",
        "eq_classifier_num_hb = 5\n",
        "eq_classifier_num_hv = len(classifiers)-4\n"
      ],
      "execution_count": 0,
      "outputs": []
    },
    {
      "cell_type": "code",
      "metadata": {
        "id": "6zp1JNhBIDXU",
        "colab_type": "code",
        "colab": {}
      },
      "source": [
        "h = .0005\n",
        "X=training_data.values\n",
        "y=np.ravel(training_labels.values)\n",
        "Z = classifiers[classifier_num_hb]\n",
        "x_min, x_max = -0.23,0.15\n",
        "y_min, y_max = -0.27,0.1\n",
        "xx, yy = np.meshgrid(np.arange(x_min, x_max, h),\n",
        "                     np.arange(y_min, y_max, h))\n",
        "Z = Z.predict(np.c_[xx.ravel(), yy.ravel()])\n",
        "Z = Z.reshape(xx.shape)\n",
        "plt.contourf(xx, yy, Z, cmap=plt.cm.coolwarm, alpha=0.8)\n",
        "xx, yy = np.meshgrid(np.arange(x_min, x_max, h),\n",
        "                     np.arange(y_min, y_max, h))\n",
        "plt.scatter(X[:, 0], X[:, 1], c=y, cmap=plt.cm.coolwarm)\n",
        "plt.scatter(misclassified_list[classifier_num_hb]['dim12'], misclassified_list[classifier_num_hb]['dim13'], color='green')\n",
        "plt.show()\n",
        "\n",
        "h = .0005\n",
        "X=training_data.values\n",
        "y=np.ravel(training_labels.values)\n",
        "Z = classifiers[classifier_num_hv]\n",
        "x_min, x_max = -0.23,0.15\n",
        "y_min, y_max = -0.27,0.1\n",
        "xx, yy = np.meshgrid(np.arange(x_min, x_max, h),\n",
        "                     np.arange(y_min, y_max, h))\n",
        "Z = Z.predict(np.c_[xx.ravel(), yy.ravel()])\n",
        "Z = Z.reshape(xx.shape)\n",
        "plt.contourf(xx, yy, Z, cmap=plt.cm.coolwarm, alpha=0.8)\n",
        "xx, yy = np.meshgrid(np.arange(x_min, x_max, h),\n",
        "                     np.arange(y_min, y_max, h))\n",
        "plt.scatter(X[:, 0], X[:, 1], c=y, cmap=plt.cm.coolwarm)\n",
        "plt.scatter(misclassified_list[classifier_num_hv]['dim12'], misclassified_list[classifier_num_hv]['dim13'], color='green')\n",
        "plt.show()\n",
        "\n",
        "h = .00005\n",
        "X=training_data.values\n",
        "y=np.ravel(training_labels.values)\n",
        "Z = classifiers[classifier_num_hb]\n",
        "x_min, x_max = -0.03,0.03\n",
        "y_min, y_max = -0.03,0.03\n",
        "xx, yy = np.meshgrid(np.arange(x_min, x_max, h),\n",
        "                     np.arange(y_min, y_max, h))\n",
        "Z = Z.predict(np.c_[xx.ravel(), yy.ravel()])\n",
        "Z = Z.reshape(xx.shape)\n",
        "plt.axes(xlim =[x_min,x_max], ylim=[y_min,y_max])\n",
        "plt.contourf(xx, yy, Z, cmap=plt.cm.coolwarm, alpha=0.8)\n",
        "plt.axes(xlim =[x_min,x_max], ylim=[y_min,y_max])\n",
        "plt.scatter(X[:, 0], X[:, 1], c=y, cmap=plt.cm.coolwarm)\n",
        "plt.scatter(misclassified_list[classifier_num_hb]['dim12'], misclassified_list[classifier_num_hb]['dim13'], color='green')\n",
        "plt.show()\n",
        "\n",
        "h = .00005\n",
        "X=training_data.values\n",
        "y=np.ravel(training_labels.values)\n",
        "Z = classifiers[classifier_num_hv]\n",
        "x_min, x_max = -0.03,0.03\n",
        "y_min, y_max = -0.03,0.03\n",
        "xx, yy = np.meshgrid(np.arange(x_min, x_max, h),\n",
        "                     np.arange(y_min, y_max, h))\n",
        "Z = Z.predict(np.c_[xx.ravel(), yy.ravel()])\n",
        "Z = Z.reshape(xx.shape)\n",
        "plt.axes(xlim =[x_min,x_max], ylim=[y_min,y_max])\n",
        "plt.contourf(xx, yy, Z, cmap=plt.cm.coolwarm, alpha=0.8)\n",
        "plt.axes(xlim =[x_min,x_max], ylim=[y_min,y_max])\n",
        "plt.scatter(X[:, 0], X[:, 1], c=y, cmap=plt.cm.coolwarm)\n",
        "plt.scatter(misclassified_list[classifier_num_hv]['dim12'], misclassified_list[classifier_num_hv]['dim13'], color='green')\n",
        "plt.show()"
      ],
      "execution_count": 0,
      "outputs": []
    },
    {
      "cell_type": "code",
      "metadata": {
        "id": "gzF3m0yrXQRm",
        "colab_type": "code",
        "colab": {}
      },
      "source": [
        "from mlxtend.plotting import plot_decision_regions\n",
        "import matplotlib.pyplot as plt                                  \n",
        "\n",
        "fig, axes = plt.subplots()\n",
        "plt.plot(u[positive_labels,dim1], u[positive_labels,dim2], 'r.')\n",
        "plt.plot(u[negative_labels,dim1], u[negative_labels,dim2], 'b.')\n",
        "plt.plot(misclassified_list_eq[eq_classifier_num_hb]['dim12'], misclassified_list_eq[eq_classifier_num_hb]['dim13'], 'g.')\n",
        "plot_decision_regions(X=training_data.values, y=np.ravel(training_labels.values), clf=classifiers[eq_classifier_num_hb])\n",
        "axes.set_xlim([-0.23,0.15])\n",
        "axes.set_ylim([-0.27,0.1])\n",
        "plt.show()\n",
        "\n",
        "fig, axes = plt.subplots()\n",
        "plt.plot(u[positive_labels,dim1], u[positive_labels,dim2], 'r.')\n",
        "plt.plot(u[negative_labels,dim1], u[negative_labels,dim2], 'b.')\n",
        "plt.plot(misclassified_list_eq[eq_classifier_num_hv]['dim12'], misclassified_list_eq[eq_classifier_num_hv]['dim13'], 'g.')\n",
        "plot_decision_regions(X=training_data.values, y=np.ravel(training_labels.values), clf=classifiers[eq_classifier_num_hv])\n",
        "axes.set_xlim([-0.23,0.15])\n",
        "axes.set_ylim([-0.27,0.1])\n",
        "plt.show()\n",
        "\n",
        "fig, axes = plt.subplots()\n",
        "plt.plot(u[positive_labels,dim1], u[positive_labels,dim2], 'r.')\n",
        "plt.plot(u[negative_labels,dim1], u[negative_labels,dim2], 'b.')\n",
        "plt.plot(misclassified_list_eq[eq_classifier_num_hb]['dim12'], misclassified_list_eq[eq_classifier_num_hb]['dim13'], 'g.')\n",
        "plot_decision_regions(X=training_data.values, y=np.ravel(training_labels.values), clf=classifiers[eq_classifier_num_hb])\n",
        "axes.set_xlim([0.09,0.12])\n",
        "axes.set_ylim([-0.02,0.03])\n",
        "plt.show()\n",
        "\n",
        "fig, axes = plt.subplots()\n",
        "plt.plot(u[positive_labels,dim1], u[positive_labels,dim2], 'r.')\n",
        "plt.plot(u[negative_labels,dim1], u[negative_labels,dim2], 'b.')\n",
        "plt.plot(misclassified_list_eq[eq_classifier_num_hv]['dim12'], misclassified_list_eq[eq_classifier_num_hv]['dim13'], 'g.')\n",
        "plot_decision_regions(X=training_data.values, y=np.ravel(training_labels.values), clf=classifiers[eq_classifier_num_hv])\n",
        "axes.set_xlim([0.09,0.12])\n",
        "axes.set_ylim([-0.02,0.03])\n",
        "plt.show()"
      ],
      "execution_count": 0,
      "outputs": []
    },
    {
      "cell_type": "code",
      "metadata": {
        "id": "nmD5DgtruhLq",
        "colab_type": "code",
        "colab": {}
      },
      "source": [
        "fig, axes = plt.subplots()\n",
        "plt.plot(u[positive_labels,dim1], u[positive_labels,dim2], 'r.')\n",
        "plt.plot(u[negative_labels,dim1], u[negative_labels,dim2], 'b.')\n",
        "plt.plot(misclassified_list[classifier_num_hb]['dim12'], misclassified_list[classifier_num_hb]['dim13'], 'g.')\n",
        "plot_decision_regions(X=training_data.values, y=np.ravel(training_labels.values), clf=classifiers[classifier_num_hb])\n",
        "axes.set_xlim([-0.23,0.15])\n",
        "axes.set_ylim([-0.27,0.1])\n",
        "plt.show()\n",
        "\n",
        "fig, axes = plt.subplots()\n",
        "plt.plot(u[positive_labels,dim1], u[positive_labels,dim2], 'r.')\n",
        "plt.plot(u[negative_labels,dim1], u[negative_labels,dim2], 'b.')\n",
        "plt.plot(misclassified_list[classifier_num_hv]['dim12'], misclassified_list[classifier_num_hv]['dim13'], 'g.')\n",
        "plot_decision_regions(X=training_data.values, y=np.ravel(training_labels.values), clf=classifiers[classifier_num_hv])\n",
        "axes.set_xlim([-0.23,0.15])\n",
        "axes.set_ylim([-0.27,0.1])\n",
        "plt.show()\n",
        "\n",
        "fig, axes = plt.subplots()\n",
        "# plt.plot(misclassified_list[classifier_num_hb]['dim12'], misclassified_list[classifier_num_hb]['dim13'], 'g.')\n",
        "plot_decision_regions(X=training_data.values, y=np.ravel(training_labels.values), clf=classifiers[classifier_num_hb])\n",
        "axes.set_xlim([-0.23,0.15])\n",
        "axes.set_ylim([-0.27,0.1])\n",
        "plt.show()\n",
        "\n",
        "fig, axes = plt.subplots()\n",
        "# plt.plot(misclassified_list[classifier_num_hv]['dim12'], misclassified_list[classifier_num_hv]['dim13'], 'g.')\n",
        "plot_decision_regions(X=training_data.values, y=np.ravel(training_labels.values), clf=classifiers[classifier_num_hv])\n",
        "axes.set_xlim([-0.23,0.15])\n",
        "axes.set_ylim([-0.27,0.1])\n",
        "plt.show()"
      ],
      "execution_count": 0,
      "outputs": []
    },
    {
      "cell_type": "code",
      "metadata": {
        "id": "CWR7hsb8uax3",
        "colab_type": "code",
        "colab": {}
      },
      "source": [
        "if(equalised_odds):\n",
        "  plt.plot(u[positive_labels,dim1], u[positive_labels,dim2], 'r.')\n",
        "  plt.plot(u[negative_labels,dim1], u[negative_labels,dim2], 'b.')\n",
        "  plt.plot(misclassified_list_eq[eq_classifier_num_hb]['dim12'], misclassified_list_eq[eq_classifier_num_hb]['dim13'], 'g.')\n",
        "  plt.show()\n",
        "\n",
        "  plt.plot(u[positive_labels,dim1], u[positive_labels,dim2], 'r.')\n",
        "  plt.plot(u[negative_labels,dim1], u[negative_labels,dim2], 'b.')\n",
        "  plt.plot(misclassified_list_eq[eq_classifier_num_hv]['dim12'], misclassified_list_eq[eq_classifier_num_hv]['dim13'], 'g.')\n",
        "  plt.show()\n",
        "\n",
        "  plt.axes(xlim=(-0.23,0.15), ylim=(-0.27,0.1))\n",
        "  plt.plot(misclassified_list_eq[eq_classifier_num_hb]['dim12'], misclassified_list_eq[eq_classifier_num_hb]['dim13'], 'g.')\n",
        "  plt.show()\n",
        "  \n",
        "  plt.axes(xlim=(-0.23,0.15), ylim=(-0.27,0.1))\n",
        "  plt.plot(misclassified_list_eq[eq_classifier_num_hv]['dim12'], misclassified_list_eq[eq_classifier_num_hv]['dim13'], 'g.')\n",
        "  plt.show()"
      ],
      "execution_count": 0,
      "outputs": []
    },
    {
      "cell_type": "markdown",
      "metadata": {
        "id": "76g7YLZO9kAl",
        "colab_type": "text"
      },
      "source": [
        "Creating the appropriate plots to visualise our results. We plot: \n",
        "\n",
        "1.   Bias error vs Variance error\n",
        "2.   Gamma value of RBF SVM vs Variance error\n",
        "3.   Gamma value of RBF SVM vs Bias error\n"
      ]
    },
    {
      "cell_type": "code",
      "metadata": {
        "id": "p1_KrpPj6_Yo",
        "colab_type": "code",
        "colab": {}
      },
      "source": [
        "import matplotlib.pyplot as plt                                  \n",
        "def plot_bias_variance_all(biases, variances, gammas, cs, degrees, losses, biases_eq, variances_eq, avg_losses_eq):   \n",
        "  print(\"plotting bias/var\") \n",
        "  plt.plot(biases, variances, 'y.')\n",
        "  plt.plot(biases_eq, variances_eq, 'g.')                                                                                            \n",
        "  plt.title('bias vs variance errors')                                     \n",
        "  plt.xlabel('bias')                                                       \n",
        "  plt.ylabel('variance')                                                   \n",
        "  plt.show()\n",
        "\n",
        "  plt.plot(gammas, variances, 'y.')\n",
        "  plt.plot(gammas, variances_eq, 'g.')\n",
        "  plt.xscale('log')                                              \n",
        "  plt.title('RBF SVM \\n gamma size vs variance errors')                                     \n",
        "  plt.xlabel('gamma')                                                       \n",
        "  plt.ylabel('variance')                                                   \n",
        "  plt.show()                                                            \n",
        "\n",
        "  plt.plot(gammas, biases, 'y.')\n",
        "  plt.plot(gammas, biases_eq, 'g.')\n",
        "  plt.xscale('log')                                                             \n",
        "  plt.title('RBF SVM\\n gamma size vs bias errors')                                     \n",
        "  plt.xlabel('gamma')                                                       \n",
        "  plt.ylabel('bias')                                                   \n",
        "  plt.show()            \n",
        "\n",
        "  plt.plot(gammas, losses, 'y.')\n",
        "  plt.plot(gammas, avg_losses_eq, 'g.')                          \n",
        "  plt.xscale('log')                                                             \n",
        "  plt.title('RBF SVM \\n gamma size vs total error')                                     \n",
        "  plt.xlabel('gamma')                                                       \n",
        "  plt.ylabel('error')                                                   \n",
        "  plt.show()   \n",
        "\n",
        "  # plt.scatter(cs, biases)                               \n",
        "  # plt.xscale('log')                                                             \n",
        "  # plt.title('RBF SVM, gamma=0.1, C value vs bias errors')                                     \n",
        "  # plt.xlabel('C value')                                                       \n",
        "  # plt.ylabel('bias')                                                   \n",
        "  # plt.show()       \n",
        "\n",
        "  # plt.scatter(cs, variances)                               \n",
        "  # plt.xscale('log')                                                             \n",
        "  # plt.title('RBF SVM, gamma=0.1, C value vs variance errors')                                     \n",
        "  # plt.xlabel('C value')                                                       \n",
        "  # plt.ylabel('variance')                                                   \n",
        "  # plt.show()    \n",
        "\n",
        "  # plt.scatter(cs, losses)                               \n",
        "  # plt.xscale('log')                                                             \n",
        "  # plt.title('RBF SVM, gamma=0.1, C value vs zero-one loss')                                     \n",
        "  # plt.xlabel('C value')                                                       \n",
        "  # plt.ylabel('loss')                                                   \n",
        "  # plt.show()   \n",
        "\n",
        "  # plt.scatter(biases, variances)                                              \n",
        "  # plt.title('bias vs variance errors')                                     \n",
        "  # plt.xlabel('bias')                                                       \n",
        "  # plt.ylabel('variance')                                                   \n",
        "  # plt.show()\n",
        "\n",
        "  # plt.scatter(degrees, variances)\n",
        "  # plt.title('poly SVM, degree size vs variance errors')                                     \n",
        "  # plt.xlabel('degree')                                                       \n",
        "  # plt.ylabel('variance')                                                   \n",
        "  # plt.show()                                                            \n",
        "\n",
        "  # plt.scatter(degrees, biases)                               \n",
        "  # plt.title('poly SVM, degree size vs bias errors')                                     \n",
        "  # plt.xlabel('degree')                                                       \n",
        "  # plt.ylabel('bias')                                                   \n",
        "  # plt.show()            \n",
        "\n",
        "  # plt.scatter(degrees, losses)                               \n",
        "  # plt.title('poly SVM, degree size vs generalisation errors')                                     \n",
        "  # plt.xlabel('degree')                                                       \n",
        "  # plt.ylabel('error')                                                   \n",
        "  # plt.show()  \n"
      ],
      "execution_count": 0,
      "outputs": []
    },
    {
      "cell_type": "code",
      "metadata": {
        "id": "YNi33RmJ8wII",
        "colab_type": "code",
        "colab": {}
      },
      "source": [
        "import matplotlib.pyplot as plt                                  \n",
        "def plot_bias_variance(biases, variances, gammas, cs, degrees, losses):   \n",
        "\n",
        "  print(\"plotting bias/var\") \n",
        "  plt.scatter(biases, variances)                                              \n",
        "  plt.title('bias vs variance errors')                                     \n",
        "  plt.xlabel('bias')                                                       \n",
        "  plt.ylabel('variance')                                                   \n",
        "  plt.show()\n",
        "\n",
        "  plt.scatter(gammas, variances)\n",
        "  plt.xscale('log')                                              \n",
        "  plt.title('RBF SVM \\n gamma size vs variance errors')                                     \n",
        "  plt.xlabel('gamma')                                                       \n",
        "  plt.ylabel('variance')                                                   \n",
        "  plt.show()                                                            \n",
        "\n",
        "  plt.scatter(gammas, biases)                               \n",
        "  plt.xscale('log')                                                             \n",
        "  plt.title('RBF SVM\\n gamma size vs bias errors')                                     \n",
        "  plt.xlabel('gamma')                                                       \n",
        "  plt.ylabel('bias')                                                   \n",
        "  plt.show()            \n",
        "\n",
        "  plt.scatter(gammas, losses)                               \n",
        "  plt.xscale('log')                                                             \n",
        "  plt.title('RBF SVM \\n gamma size vs total error')                                     \n",
        "  plt.xlabel('gamma')                                                       \n",
        "  plt.ylabel('error')                                                   \n",
        "  plt.show()   "
      ],
      "execution_count": 0,
      "outputs": []
    },
    {
      "cell_type": "code",
      "metadata": {
        "id": "_art_Nooe7V2",
        "colab_type": "code",
        "colab": {}
      },
      "source": [
        ""
      ],
      "execution_count": 0,
      "outputs": []
    },
    {
      "cell_type": "code",
      "metadata": {
        "id": "Qt1Erw7U18Vu",
        "colab_type": "code",
        "colab": {}
      },
      "source": [
        "print(\"before fairness correction:\")\n",
        "plot_bias_variance(biases, variances, gammas, cs, degrees, avg_losses)\n",
        "if(equalised_odds):\n",
        "  print(\"after fairness correction:\")\n",
        "  plot_bias_variance(biases_eq, variances_eq, gammas, cs, degrees, avg_losses_eq)\n",
        "  plot_bias_variance_all(biases, variances, gammas, cs, degrees, avg_losses, biases_eq, variances_eq, avg_losses_eq)"
      ],
      "execution_count": 0,
      "outputs": []
    }
  ]
}