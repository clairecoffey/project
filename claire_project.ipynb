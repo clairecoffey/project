{
  "nbformat": 4,
  "nbformat_minor": 0,
  "metadata": {
    "colab": {
      "name": "claire_project.ipynb",
      "provenance": [],
      "collapsed_sections": [
        "uBQkNPgD4D6o"
      ],
      "include_colab_link": true
    },
    "kernelspec": {
      "name": "python3",
      "display_name": "Python 3"
    }
  },
  "cells": [
    {
      "cell_type": "markdown",
      "metadata": {
        "id": "view-in-github",
        "colab_type": "text"
      },
      "source": [
        "<a href=\"https://colab.research.google.com/github/clairecoffey/project/blob/master/claire_project.ipynb\" target=\"_parent\"><img src=\"https://colab.research.google.com/assets/colab-badge.svg\" alt=\"Open In Colab\"/></a>"
      ]
    },
    {
      "cell_type": "markdown",
      "metadata": {
        "id": "ep76GcW0r5EF",
        "colab_type": "text"
      },
      "source": [
        "# Fairness and the bias-variance trade-off \n",
        "\n",
        "## Claire Coffey\n",
        "\n",
        "## June 2020"
      ]
    },
    {
      "cell_type": "markdown",
      "metadata": {
        "id": "pt8eZN7L71OB",
        "colab_type": "text"
      },
      "source": [
        "In this notebook we are studying bias and variance errors in the context of fairness, by exploring recidivism data. "
      ]
    },
    {
      "cell_type": "markdown",
      "metadata": {
        "id": "j5j4K9fEtccc",
        "colab_type": "text"
      },
      "source": [
        "## Imports and Setup"
      ]
    },
    {
      "cell_type": "markdown",
      "metadata": {
        "id": "VwPz0FbDrdOB",
        "colab_type": "text"
      },
      "source": [
        "Imports: first import the relevant libraries used throughout. "
      ]
    },
    {
      "cell_type": "code",
      "metadata": {
        "id": "5cpVvJ1Dwm48",
        "colab_type": "code",
        "colab": {}
      },
      "source": [
        "  from sklearn import svm"
      ],
      "execution_count": 0,
      "outputs": []
    },
    {
      "cell_type": "code",
      "metadata": {
        "id": "q3xUTfnrkM0N",
        "colab_type": "code",
        "colab": {}
      },
      "source": [
        "# imports\n",
        "def warn(*args, **kwargs):\n",
        "    pass\n",
        "import warnings\n",
        "warnings.warn = warn\n",
        "import numpy as np\n",
        "import pandas as pd"
      ],
      "execution_count": 0,
      "outputs": []
    },
    {
      "cell_type": "markdown",
      "metadata": {
        "id": "ojFZOY-LtsdL",
        "colab_type": "text"
      },
      "source": [
        "# Read in recidivism data "
      ]
    },
    {
      "cell_type": "markdown",
      "metadata": {
        "id": "oLIFxjZ9roCK",
        "colab_type": "text"
      },
      "source": [
        "In this notebook we are studying recidivism data. We utilise the COMPAS recidivism dataset, which uses recidivism data from Broward County jail and has been explored in the following studies:\n",
        "\n",
        "\"The accuracy, fairness, and limits of predicting recidivism\", paper available at:\n",
        "https://advances.sciencemag.org/content/4/1/eaao5580#corresp-1\n",
        "\n",
        "\"Machine Bias\" ProPublica article, available at:\n",
        "https://www.propublica.org/article/machine-bias-risk-assessments-in-criminal-sentencing\n",
        "\n",
        "The dataset used can be found at:\n",
        "https://github.com/propublica/compas-analysis\n"
      ]
    },
    {
      "cell_type": "markdown",
      "metadata": {
        "id": "tmO2E_MbHUGY",
        "colab_type": "text"
      },
      "source": [
        "Here we import and read in the recidivism data. Currently, we are using a selection of 1000 samples from this dataset for our predictions (the first 1000 samples of the dataset)\n",
        "\n",
        "We use a selection \n",
        "of fields from this dataset to predict recidivism classification (1 = will reoffend; 0 = will not reoffend). "
      ]
    },
    {
      "cell_type": "code",
      "metadata": {
        "id": "Yk62wPdCURBy",
        "colab_type": "code",
        "colab": {}
      },
      "source": [
        "# from google.colab import drive\n",
        "# drive.mount('/content/drive')"
      ],
      "execution_count": 0,
      "outputs": []
    },
    {
      "cell_type": "code",
      "metadata": {
        "id": "xdCKnj1kqViI",
        "colab_type": "code",
        "colab": {}
      },
      "source": [
        "\n",
        "def load_file():\n",
        "  full_data = False\n",
        "  print(\"loading data\")\n",
        "  if full_data:\n",
        "    # full dataset\n",
        "    file_path = \"https://raw.githubusercontent.com/clairecoffey/project/master/mphilproject/compas-scores-two-years%20-%20compas-scores-two-years.csv?token=ABPC6VNTFTGQBANNUJY2O4C6XGJGY\"\n",
        "  else:\n",
        "    # small subset of first 500/1000/2000 people\n",
        "    # file_path = \"https://raw.githubusercontent.com/clairecoffey/project/master/mphilproject/500-compas-scores-two-years%20-%20Sheet1%20(1).csv?token=ABPC6VOW7CBEIIGZVE6ZJYS6YKNHO\"\n",
        "    # file_path = \"https://raw.githubusercontent.com/clairecoffey/project/master/mphilproject/1000-compas-scores-two-years%20-%20Sheet1.csv\"\n",
        "    file_path = \"https://raw.githubusercontent.com/clairecoffey/project/master/mphilproject/2000-compas-scores-2-years.csv\"\n",
        "    # file_path = \"https://raw.githubusercontent.com/clairecoffey/project/master/mphilproject/2400-compas-scores-two-years%20-%20Sheet1.csv\"\n",
        "\n",
        "  # load CSV contents\n",
        "  all_data = pd.read_csv(file_path, delimiter=',', dtype={'sex': 'category', \n",
        "                                                          'age_cat': 'category',\n",
        "                                                          'race': 'category',\n",
        "                                                          'c_charge_degree': 'category',\n",
        "                                                          'c_charge_desc': 'category',\n",
        "                                                          'r_charge_degree': 'category',\n",
        "                                                          'r_charge_desc': 'category',\n",
        "                                                          'vr_charge_degree': 'category',\n",
        "                                                          'vr_charge_desc': 'category'\n",
        "                                                          })\n",
        "  print('loaded data')\n",
        "  #shuffle into random order so we aren't always testing/training with the same people\n",
        "  #but reset index (each individual still has the same ID)\n",
        "  all_data = all_data.sample(frac=1).reset_index(drop=True)\n",
        "  return all_data\n"
      ],
      "execution_count": 0,
      "outputs": []
    },
    {
      "cell_type": "code",
      "metadata": {
        "id": "B1WpLQEMZUNe",
        "colab_type": "code",
        "colab": {
          "base_uri": "https://localhost:8080/",
          "height": 52
        },
        "outputId": "f5a96689-da85-4346-a930-026ddc7d0b5f"
      },
      "source": [
        "all_data = load_file()\n"
      ],
      "execution_count": 297,
      "outputs": [
        {
          "output_type": "stream",
          "text": [
            "loading data\n",
            "loaded data\n"
          ],
          "name": "stdout"
        }
      ]
    },
    {
      "cell_type": "markdown",
      "metadata": {
        "id": "19AV7fOG0z4h",
        "colab_type": "text"
      },
      "source": [
        "## Import and process data\n"
      ]
    },
    {
      "cell_type": "markdown",
      "metadata": {
        "id": "lB8DQVf7g1Nn",
        "colab_type": "text"
      },
      "source": [
        "We import the data into a pandas DataFrame. We begin by cleaning the data, so the crime descriptions are simplified, removing duplicate categories. For example, we merge descriptions such as 'possession of cocaine' and 'possess cocaine', or 'burglary/weapon' and 'burglary and weapon', by removing prepositions, and replacing abreviations and similies. \n",
        "\n",
        "Then,  the categorical data is  split into different fields for each category, and encoded as 0 or 1. For example, an individual with characteristic \"sex: male\" would be encoded as \"male: 1, female: 0\". The sex category is then removed.\n",
        "\n",
        "We then consider which fields to use for prediction. This includes the removal of any fields/columns which contain many NaN values, since these cannot be handled by the classifiers. We choose to remove the columns with many NaNs rather than using an alternative approach such as replacing them with the average so as not to introduce other types of bias. We also then remove rows/individuals containing any further NaN values so there is no longer any NaN values present in the data. \n",
        "\n",
        "We then normalise all of the data in the dataframe, so that when fed into the classifier, the predicitons are not skewed (and potentially different forms of bias introduced).  We do this by using the StandardScaler in the sklearn preprocessing library, and we normalise the data to have a variance of 1.\n",
        "\n",
        "Finally, we define the number of testing/training samples desired and split the data into these two sets appropriately.\n"
      ]
    },
    {
      "cell_type": "code",
      "metadata": {
        "id": "IL_WqMSrbJM9",
        "colab_type": "code",
        "colab": {}
      },
      "source": [
        "num_testing_samples = 400\n"
      ],
      "execution_count": 0,
      "outputs": []
    },
    {
      "cell_type": "code",
      "metadata": {
        "id": "SzJytmnMtkPU",
        "colab_type": "code",
        "colab": {}
      },
      "source": [
        "from sklearn import preprocessing\n",
        "\n",
        "def clean_descriptions(description):\n",
        "  description = description.replace(' and ', ' ')\n",
        "  description = description.replace(' / ', ' ')\n",
        "  description = description.replace('possession', 'posess')\n",
        "  description = description.replace('possessing', 'posess')\n",
        "  description = description.replace('with', 'w/')\n",
        "  description = description.replace('w/ ', 'w/')\n",
        "  description = description.replace('w/', ' ')\n",
        "  description = description.replace('attempted', 'att')\n",
        "  description = description.replace('attempt', 'att')\n",
        "  description = description.replace('aggravated', 'agg')\n",
        "  description = description.replace('aggrav', 'agg') \n",
        "  description = description.replace(' of ', ' ')\n",
        "  return description\n",
        "\n",
        "def import_data(all_data):\n",
        "\n",
        "  encoded_sex = (pd.get_dummies(all_data['sex']))\n",
        "  all_data = all_data.drop(columns=['sex'])\n",
        "  all_data = all_data.join(encoded_sex)\n",
        "\n",
        "  encoded_age_cat = (pd.get_dummies(all_data['age_cat']))\n",
        "  all_data = all_data.drop(columns=['age_cat'])\n",
        "  all_data = all_data.join(encoded_age_cat)\n",
        "\n",
        "  encoded_race = (pd.get_dummies(all_data['race']))\n",
        "  all_data = all_data.drop(columns=['race'])\n",
        "  all_data = all_data.join(encoded_race)\n",
        "\n",
        "  encoded_c_charge_degree = (pd.get_dummies(all_data['c_charge_degree']))\n",
        "  all_data = all_data.drop(columns=['c_charge_degree'])\n",
        "  all_data = all_data.join(encoded_c_charge_degree, rsuffix='_c')\n",
        "\n",
        "  #these are joined with suffixes because otherwise columns overlap \n",
        "  all_data['c_charge_desc'] = all_data['c_charge_desc'].astype(str).str.lower()\n",
        "  all_data['c_charge_desc'] = all_data['c_charge_desc'].apply(clean_descriptions)\n",
        "  encoded_c_charge_desc = (pd.get_dummies(all_data['c_charge_desc']))\n",
        "  all_data = all_data.drop(columns=['c_charge_desc'])\n",
        "  all_data = all_data.join(encoded_c_charge_desc, rsuffix='_c')\n",
        "\n",
        "  encoded_r_charge_degree = (pd.get_dummies(all_data['r_charge_degree']))\n",
        "  all_data = all_data.drop(columns=['r_charge_degree'])\n",
        "  all_data = all_data.join(encoded_r_charge_degree, rsuffix='_r')\n",
        "\n",
        "  all_data['r_charge_desc'] = all_data['r_charge_desc'].astype(str).str.lower()\n",
        "  all_data['r_charge_desc'] = all_data['r_charge_desc'].apply(clean_descriptions)\n",
        "  encoded_r_charge_desc = (pd.get_dummies(all_data['r_charge_desc']))\n",
        "  all_data = all_data.drop(columns=['r_charge_desc'])\n",
        "  all_data = all_data.join(encoded_r_charge_desc, rsuffix='_r')\n",
        "\n",
        "  encoded_vr_charge_degree = (pd.get_dummies(all_data['vr_charge_degree']))\n",
        "  all_data = all_data.drop(columns=['vr_charge_degree'])\n",
        "  all_data = all_data.join(encoded_vr_charge_degree, rsuffix='_vr')\n",
        "\n",
        "  all_data['vr_charge_desc'] = all_data['vr_charge_desc'].astype(str).str.lower()\n",
        "  all_data['vr_charge_desc'] = all_data['vr_charge_desc'].apply(clean_descriptions)\n",
        "  encoded_vr_charge_desc = (pd.get_dummies(all_data['vr_charge_desc']))\n",
        "  all_data = all_data.drop(columns=['vr_charge_desc'])\n",
        "  all_data = all_data.join(encoded_vr_charge_desc, rsuffix='_vr')\n",
        "\n",
        "  all_data = all_data.drop(columns=['nan'])\n",
        "  all_data = all_data.drop(columns=['nan_vr'])\n",
        "  all_data = all_data.drop(columns=['nan_r'])\n",
        "\n",
        "  #drop columns not used for predictions, including info such as names, and columns with many NaN values \n",
        "  all_data.columns = map(str.lower, all_data.columns)\n",
        "  #dont use individual crimes, too much and too slow, only use severity of crimes and other info\n",
        "  all_data_simplified = all_data[['juv_fel_count','juv_misd_count','juv_other_count','priors_count','is_recid','is_violent_recid','event','female','male','25 - 45','greater than 45','less than 25','african-american','asian','caucasian','hispanic','native american','other','f','m','(f1)','(f2)','(f3)','(f6)','(m1)','(m2)','(mo3)']]\n",
        "\n",
        "  #remove rows containing NaN values \n",
        "  all_data_simplified = all_data_simplified.dropna()\n",
        "\n",
        "  #Renormalise the data so we have unit variance and mean 0 using built-in preprocessing method in sklearn\n",
        "  scaler = preprocessing.StandardScaler()\n",
        "  all_data_scaled = pd.DataFrame(scaler.fit_transform(all_data_simplified),columns=all_data_simplified.columns)\n",
        "  testing_data = all_data_scaled[:num_testing_samples]\n",
        "  training_data = all_data_scaled[num_testing_samples:]\n",
        "  all_labels = all_data[['two_year_recid']]\n",
        "  all_data = all_data_scaled\n",
        "  testing_labels = all_labels[:num_testing_samples]\n",
        "  training_labels = all_labels[num_testing_samples:]\n",
        "\n",
        "  # print(\"testing normalisation, printing mean and variance: \")\n",
        "  # print(all_data_scaled.mean())\n",
        "  # print(all_data_scaled.var())\n",
        "\n",
        "  all_data_and_labels = all_data_scaled.join(all_labels)\n",
        "\n",
        "  #split into training and testing with specific number of testing samples\n",
        "  #and training set to be the remainder\n",
        "  testing_data_and_labels = all_data_and_labels[:num_testing_samples]\n",
        "  training_data_and_labels = all_data_and_labels[num_testing_samples:]\n",
        "\n",
        "  # if(demographic_to_test != 'all'):\n",
        "    # testing_data_and_labels =  pd.DataFrame.reset_index(testing_data_and_labels.loc[testing_data_and_labels[demographic_to_test] > 0],drop=True)\n",
        "\n",
        "  print(\"training data:\")\n",
        "  print(training_data_and_labels)\n",
        "  print(\"testing data\")\n",
        "  print(testing_data_and_labels)\n",
        "\n",
        "  return training_data_and_labels, testing_data_and_labels, training_data, training_labels, all_data, all_labels"
      ],
      "execution_count": 0,
      "outputs": []
    },
    {
      "cell_type": "code",
      "metadata": {
        "id": "oxX_6fJ7cUFY",
        "colab_type": "code",
        "colab": {
          "base_uri": "https://localhost:8080/",
          "height": 1000
        },
        "outputId": "085b4e87-eb12-44c7-927c-0b62d7402319"
      },
      "source": [
        "import_data(all_data)"
      ],
      "execution_count": 299,
      "outputs": [
        {
          "output_type": "stream",
          "text": [
            "training data:\n",
            "      juv_fel_count  juv_misd_count  ...     (mo3)  two_year_recid\n",
            "400       -0.114991       -0.181568  ... -0.080906               1\n",
            "401       -0.114991       -0.181568  ... -0.080906               0\n",
            "402        1.550712        1.749043  ... -0.080906               1\n",
            "403       -0.114991       -0.181568  ... -0.080906               1\n",
            "404       -0.114991       -0.181568  ... -0.080906               1\n",
            "...             ...             ...  ...       ...             ...\n",
            "1994      -0.114991       -0.181568  ... -0.080906               1\n",
            "1995      -0.114991       -0.181568  ... -0.080906               1\n",
            "1996      -0.114991       -0.181568  ... -0.080906               1\n",
            "1997      -0.114991       -0.181568  ... -0.080906               1\n",
            "1998      -0.114991       -0.181568  ... -0.080906               0\n",
            "\n",
            "[1599 rows x 28 columns]\n",
            "testing data\n",
            "     juv_fel_count  juv_misd_count  ...     (mo3)  two_year_recid\n",
            "0        -0.114991       -0.181568  ... -0.080906               0\n",
            "1         3.216414        1.749043  ... -0.080906               1\n",
            "2        -0.114991       -0.181568  ... -0.080906               0\n",
            "3        -0.114991       -0.181568  ... -0.080906               0\n",
            "4        -0.114991       -0.181568  ... -0.080906               0\n",
            "..             ...             ...  ...       ...             ...\n",
            "395      -0.114991       -0.181568  ... -0.080906               1\n",
            "396       1.550712       -0.181568  ... -0.080906               1\n",
            "397      -0.114991       -0.181568  ... -0.080906               0\n",
            "398      -0.114991       -0.181568  ... -0.080906               1\n",
            "399      -0.114991       -0.181568  ... -0.080906               1\n",
            "\n",
            "[400 rows x 28 columns]\n"
          ],
          "name": "stdout"
        },
        {
          "output_type": "execute_result",
          "data": {
            "text/plain": [
              "(      juv_fel_count  juv_misd_count  ...     (mo3)  two_year_recid\n",
              " 400       -0.114991       -0.181568  ... -0.080906               1\n",
              " 401       -0.114991       -0.181568  ... -0.080906               0\n",
              " 402        1.550712        1.749043  ... -0.080906               1\n",
              " 403       -0.114991       -0.181568  ... -0.080906               1\n",
              " 404       -0.114991       -0.181568  ... -0.080906               1\n",
              " ...             ...             ...  ...       ...             ...\n",
              " 1994      -0.114991       -0.181568  ... -0.080906               1\n",
              " 1995      -0.114991       -0.181568  ... -0.080906               1\n",
              " 1996      -0.114991       -0.181568  ... -0.080906               1\n",
              " 1997      -0.114991       -0.181568  ... -0.080906               1\n",
              " 1998      -0.114991       -0.181568  ... -0.080906               0\n",
              " \n",
              " [1599 rows x 28 columns],\n",
              "      juv_fel_count  juv_misd_count  ...     (mo3)  two_year_recid\n",
              " 0        -0.114991       -0.181568  ... -0.080906               0\n",
              " 1         3.216414        1.749043  ... -0.080906               1\n",
              " 2        -0.114991       -0.181568  ... -0.080906               0\n",
              " 3        -0.114991       -0.181568  ... -0.080906               0\n",
              " 4        -0.114991       -0.181568  ... -0.080906               0\n",
              " ..             ...             ...  ...       ...             ...\n",
              " 395      -0.114991       -0.181568  ... -0.080906               1\n",
              " 396       1.550712       -0.181568  ... -0.080906               1\n",
              " 397      -0.114991       -0.181568  ... -0.080906               0\n",
              " 398      -0.114991       -0.181568  ... -0.080906               1\n",
              " 399      -0.114991       -0.181568  ... -0.080906               1\n",
              " \n",
              " [400 rows x 28 columns],\n",
              "       juv_fel_count  juv_misd_count  ...      (m2)     (mo3)\n",
              " 400       -0.114991       -0.181568  ...  2.503815 -0.080906\n",
              " 401       -0.114991       -0.181568  ... -0.399390 -0.080906\n",
              " 402        1.550712        1.749043  ... -0.399390 -0.080906\n",
              " 403       -0.114991       -0.181568  ...  2.503815 -0.080906\n",
              " 404       -0.114991       -0.181568  ... -0.399390 -0.080906\n",
              " ...             ...             ...  ...       ...       ...\n",
              " 1994      -0.114991       -0.181568  ... -0.399390 -0.080906\n",
              " 1995      -0.114991       -0.181568  ...  2.503815 -0.080906\n",
              " 1996      -0.114991       -0.181568  ... -0.399390 -0.080906\n",
              " 1997      -0.114991       -0.181568  ... -0.399390 -0.080906\n",
              " 1998      -0.114991       -0.181568  ... -0.399390 -0.080906\n",
              " \n",
              " [1599 rows x 27 columns],\n",
              "       two_year_recid\n",
              " 400                1\n",
              " 401                0\n",
              " 402                1\n",
              " 403                1\n",
              " 404                1\n",
              " ...              ...\n",
              " 1994               1\n",
              " 1995               1\n",
              " 1996               1\n",
              " 1997               1\n",
              " 1998               0\n",
              " \n",
              " [1599 rows x 1 columns],\n",
              "       juv_fel_count  juv_misd_count  ...      (m2)     (mo3)\n",
              " 0         -0.114991       -0.181568  ... -0.399390 -0.080906\n",
              " 1          3.216414        1.749043  ... -0.399390 -0.080906\n",
              " 2         -0.114991       -0.181568  ... -0.399390 -0.080906\n",
              " 3         -0.114991       -0.181568  ... -0.399390 -0.080906\n",
              " 4         -0.114991       -0.181568  ... -0.399390 -0.080906\n",
              " ...             ...             ...  ...       ...       ...\n",
              " 1994      -0.114991       -0.181568  ... -0.399390 -0.080906\n",
              " 1995      -0.114991       -0.181568  ...  2.503815 -0.080906\n",
              " 1996      -0.114991       -0.181568  ... -0.399390 -0.080906\n",
              " 1997      -0.114991       -0.181568  ... -0.399390 -0.080906\n",
              " 1998      -0.114991       -0.181568  ... -0.399390 -0.080906\n",
              " \n",
              " [1999 rows x 27 columns],\n",
              "       two_year_recid\n",
              " 0                  0\n",
              " 1                  1\n",
              " 2                  0\n",
              " 3                  0\n",
              " 4                  0\n",
              " ...              ...\n",
              " 1994               1\n",
              " 1995               1\n",
              " 1996               1\n",
              " 1997               1\n",
              " 1998               0\n",
              " \n",
              " [1999 rows x 1 columns])"
            ]
          },
          "metadata": {
            "tags": []
          },
          "execution_count": 299
        }
      ]
    },
    {
      "cell_type": "markdown",
      "metadata": {
        "id": "TUKy0e7IBQYI",
        "colab_type": "text"
      },
      "source": [
        ""
      ]
    },
    {
      "cell_type": "code",
      "metadata": {
        "id": "p4Vx5Lghqe2l",
        "colab_type": "code",
        "colab": {}
      },
      "source": [
        "# training_data_and_labels, testing_data_and_labels = import_data(all_data)\n",
        "# training_data_and_labels"
      ],
      "execution_count": 0,
      "outputs": []
    },
    {
      "cell_type": "markdown",
      "metadata": {
        "id": "8P5FvDlXt4se",
        "colab_type": "text"
      },
      "source": [
        "# Classification"
      ]
    },
    {
      "cell_type": "markdown",
      "metadata": {
        "id": "qmKSjOeK4aRj",
        "colab_type": "text"
      },
      "source": [
        "##Selecting Classifiers"
      ]
    },
    {
      "cell_type": "markdown",
      "metadata": {
        "id": "xs36jQoqYmpp",
        "colab_type": "text"
      },
      "source": [
        "Here we select the classification model to use. We are using a selection of built-in classifiers in scikit-learn. \n",
        "\n",
        "Currently, we are using RBF SVM models (https://scikit-learn.org/stable/auto_examples/svm/plot_rbf_parameters.html). \n",
        "\n",
        "We define the boolean values ```vary_gamma ``` and  ```vary_c``` to define whether we are varying the gamma or C parameters; C defines the misclassification penalty and gamma defines the spread of the kernel. \n",
        "\n"
      ]
    },
    {
      "cell_type": "code",
      "metadata": {
        "id": "RZv_kuCWYo_z",
        "colab_type": "code",
        "colab": {}
      },
      "source": [
        "from sklearn import model_selection, neighbors, svm, gaussian_process, tree, ensemble, neural_network, metrics\n",
        "\n",
        "def define_classifiers():\n",
        "\n",
        "  vary_gamma = False\n",
        "  vary_c = False \n",
        "  polynomial = True\n",
        "  gammas = []\n",
        "  cs = []\n",
        "  classifiers = []\n",
        "  degrees = []\n",
        "\n",
        "  if vary_gamma:\n",
        "    gammas = [0.001, 0.005, 0.01, 0.05, 0.1, 0.5, 1,5,10,50,100,500,1000]\n",
        "    # gammas = [100, 1000, 10000, 100000]\n",
        "    cs=[10000]\n",
        "    # cs = [0.1, 1, 10, 100, 1000, 10000, 100000]\n",
        "    # gammas = [0.001]\n",
        "    # gammas = [1]\n",
        "    # c_val = 1000\n",
        "    #fix size of C if varying gamma\n",
        "\n",
        "    for gamma_val in gammas:\n",
        "      for c_val in cs:\n",
        "        classifiers.append(svm.SVC(gamma=gamma_val,C=c_val, probability=True))\n",
        "\n",
        "  if vary_c:\n",
        "    cs = [10, 100, 1000, 10000, 100000, 1000000, 10000000, 10000000]\n",
        "    gamma_val = 1\n",
        "    #fix size of gamma if varying C\n",
        "    for c_val in cs:\n",
        "      classifiers.append(svm.SVC(gamma=gamma_val,C=c_val, probability=True))\n",
        "\n",
        "  if polynomial:\n",
        "    degrees = [0,1,2,3,4,5,6,7,8]\n",
        "    # degrees = [0]\n",
        "    for degree in degrees:\n",
        "      classifiers.append(svm.SVC(kernel='poly', degree=degree, probability=True))\n",
        "\n",
        "  return classifiers, gammas, cs, degrees\n"
      ],
      "execution_count": 0,
      "outputs": []
    },
    {
      "cell_type": "code",
      "metadata": {
        "id": "HQD8oVE-a4-R",
        "colab_type": "code",
        "colab": {}
      },
      "source": [
        "# define_classifiers()"
      ],
      "execution_count": 0,
      "outputs": []
    },
    {
      "cell_type": "markdown",
      "metadata": {
        "id": "I7PUBJeb4SQh",
        "colab_type": "text"
      },
      "source": [
        "## Bootstrapping "
      ]
    },
    {
      "cell_type": "markdown",
      "metadata": {
        "id": "GxB1XKpC4fYi",
        "colab_type": "text"
      },
      "source": [
        "The classification process then uses a bootstrapping procedure with the chosen model, to generate predictions of recidivism classifications (1 = will not reoffend (positive case); 0 = will reoffend (negative case)).\n",
        "\n",
        "Bootstrapping (https://link.springer.com/chapter/10.1007/978-1-4612-4380-9_41) is a sampling with replacement procedure. The sample size is the same as the size of the (training) dataset. The bootstrapping procedure is run many times to generate different training datasets, which will then be used for classification. In turn, the classification results will be used to calculate and study the bias and variance errors. "
      ]
    },
    {
      "cell_type": "code",
      "metadata": {
        "id": "AzZ6oTWgv3FZ",
        "colab_type": "code",
        "colab": {}
      },
      "source": [
        "def do_bootstrap(training_data_and_labels):\n",
        "  # this is one bootstrap sample \n",
        "  indices = np.random.randint(0,training_data_and_labels.shape[0] , training_data_and_labels.shape[0])\n",
        "  indices.sort()\n",
        "  data_points = []\n",
        "\n",
        "  for i in indices:\n",
        "    data_points.append(training_data_and_labels.iloc[i])\n",
        "\n",
        "  b_sample = pd.DataFrame(data_points)\n",
        "  \n",
        "  return b_sample"
      ],
      "execution_count": 0,
      "outputs": []
    },
    {
      "cell_type": "code",
      "metadata": {
        "id": "_RPB3I-bwLF1",
        "colab_type": "code",
        "colab": {}
      },
      "source": [
        "# b_sample = do_bootstrap(training_data_and_labels)"
      ],
      "execution_count": 0,
      "outputs": []
    },
    {
      "cell_type": "markdown",
      "metadata": {
        "id": "yArDHhIdCfIS",
        "colab_type": "text"
      },
      "source": [
        "### Calculate average prediction for each individual over all bootstrap samples "
      ]
    },
    {
      "cell_type": "code",
      "metadata": {
        "id": "tjQeJu-rCpkx",
        "colab_type": "code",
        "colab": {}
      },
      "source": [
        "def calculate_avg_prediction(predictions):\n",
        "  #each row is bootstrap sample, each column an individual\n",
        "  return majority_predictions"
      ],
      "execution_count": 0,
      "outputs": []
    },
    {
      "cell_type": "markdown",
      "metadata": {
        "id": "B0p40u-y5sf2",
        "colab_type": "text"
      },
      "source": [
        "## Perform classification\n"
      ]
    },
    {
      "cell_type": "markdown",
      "metadata": {
        "id": "bDUs2m5A6yP3",
        "colab_type": "text"
      },
      "source": [
        "Fit the model on the training data (which is one bootstrap data sample as defined above)\n"
      ]
    },
    {
      "cell_type": "code",
      "metadata": {
        "id": "XaofDUc-P8Mk",
        "colab_type": "code",
        "colab": {}
      },
      "source": [
        "def fit_and_predict(clf, b_sample, testing_data_and_labels):\n",
        "\n",
        "    #training data is everything apart from two year recid 0/1 label from the bootstrap sample\n",
        "    X_train = b_sample.drop(columns=['two_year_recid'])\n",
        "    y_train = b_sample['two_year_recid']\n",
        "    X_test = testing_data_and_labels.drop(columns=['two_year_recid'])\n",
        "    y_test = testing_data_and_labels['two_year_recid']\n",
        "\n",
        "    clf.fit(X_train, y_train)\n",
        "    y_pred = clf.predict(X_test)\n",
        "    soft_score = clf.decision_function(X_test)\n",
        "    y_true = y_test\n",
        "\n",
        "    return y_pred, y_true, soft_score"
      ],
      "execution_count": 0,
      "outputs": []
    },
    {
      "cell_type": "markdown",
      "metadata": {
        "id": "1d8e8STm77eG",
        "colab_type": "text"
      },
      "source": [
        "Perform classification for each bootstrap sample separately, and store these in a DataFrame, to be passed into the bias/variance calculations.\n",
        "This returns all of the predictions for each individual for each bootstrap sample"
      ]
    },
    {
      "cell_type": "code",
      "metadata": {
        "id": "Hm8R-Gt-OmNh",
        "colab_type": "code",
        "colab": {}
      },
      "source": [
        "def classify(training_data_and_labels, testing_data_and_labels, clf):\n",
        "    count = 0\n",
        "\n",
        "    num_bootstraps = 100;\n",
        "    while count <= num_bootstraps:\n",
        "      b_sample = do_bootstrap(training_data_and_labels)\n",
        "      y_pred, y_true, soft_score = fit_and_predict(clf, b_sample, testing_data_and_labels)\n",
        "      # calc_conf_matrix_bootstrap(y_true, y_pred)\n",
        "      if(count == 0):\n",
        "        predictions = pd.DataFrame(pd.Series(y_pred)).transpose()\n",
        "        #true labels are the same for every sample so we only need 1 row in df\n",
        "        true_labels = pd.DataFrame(pd.Series(y_true)).transpose()\n",
        "      else:\n",
        "        predictions = predictions.append(pd.DataFrame(pd.Series(y_pred)).transpose())\n",
        "      count += 1\n",
        "      \n",
        "    return predictions, true_labels, soft_score"
      ],
      "execution_count": 0,
      "outputs": []
    },
    {
      "cell_type": "code",
      "metadata": {
        "id": "H75T2WV0OqIR",
        "colab_type": "code",
        "colab": {}
      },
      "source": [
        "# classify(training_data_and_labels, testing_data_and_labels, clf)\n"
      ],
      "execution_count": 0,
      "outputs": []
    },
    {
      "cell_type": "markdown",
      "metadata": {
        "id": "8TMfhfngzvTX",
        "colab_type": "text"
      },
      "source": [
        "## Correcting for Fairness\n"
      ]
    },
    {
      "cell_type": "markdown",
      "metadata": {
        "id": "uBQkNPgD4D6o",
        "colab_type": "text"
      },
      "source": [
        "#Fairness"
      ]
    },
    {
      "cell_type": "markdown",
      "metadata": {
        "id": "frcBqdbB3M22",
        "colab_type": "text"
      },
      "source": [
        "The definition of fairness is disputed, and there is not a single correct approach to ensuring fairness in machine learning. In general, as stated in https://arxiv.org/pdf/1711.08513.pdf, fairness in machine learning can be approached in two ways: fairness of the dataset itself; fairness of the model.\n",
        "\n",
        "Since we cannot control the process by which the data is collected, and the recidivism dataset already exists (likely with human and societal biases built-in), we will not be focusing on the former category. Although, there have been recent trends within the fairness and machine learning communities to argue the importance of the fairness in data collection, for example, in http://papers.nips.cc/paper/7613-why-is-my-classifier-discriminatory.pdf, the authors discuss the necessity of correcting for bias in the dataset, an approach which may actually increase the accuracy of the predictions, in contrast to approaches that exclusively focus on correcting for fairness in the models, at the expense of accuracy. Another area in which recent trends in fairness research have addressed is the importance of developing context-aware fairness measurements (https://arxiv.org/pdf/1805.05859.pdf). However, in our project we will focus on model-based fairness correction - ensuring the machine learning models are not perpetuating existing biases, or introducing new biases. We do this by using a widely used and accepted fairness measurement which is context-independent, known as **Equalised Odds** (http://papers.nips.cc/paper/6374-equality-of-opportunity-in-supervised-learning.pdf). This approach is not without criticism, however it provides a clear and well-motivated approach to achieving fair predictions across subgroups with different protected characteristics. We attempt to correct for fairness in relation to the protected characteristics found in the recidivism dataset (sex, race, age). Once our models are 'fair' in relation to this description, we can explore the relationship between bias and variance errors and the potential discovery of discrimination against new categories. \n"
      ]
    },
    {
      "cell_type": "markdown",
      "metadata": {
        "id": "Vab-_uQEx46Q",
        "colab_type": "text"
      },
      "source": [
        "\n",
        "##Equalised Odds\n",
        "\n",
        "As stated above, we are considering fairness in relation to the equalised odds metric (http://papers.nips.cc/paper/6374-equality-of-opportunity-in-supervised-learning.pdf). The definition as stated in this paper is as follows: \\\\\n",
        "We say that a predictor $\\hat{Y}$ satisfies equalized odds with respect to\n",
        "protected attribute $A$ and outcome $Y$, if $\\hat{Y}$ and $A$ are independent conditional on $Y$. Therefore, if the classification labels are $Y$ and $\\hat{Y}$, for an outcome $ y=1 $, $\\hat{Y}$ has equal true positive rates across all demographic groups, for example, the categories not female and female will have equal true positive rates. For an outcome  $ y=0 $, $\\hat{Y}$ has equal false positive rates across all demographic groups. This enforces equal bias and accuracy in all demographics. This can formally be stated as:\n",
        "$$ Pr \\left\\{ \\hat{Y}=1 | A = 0, Y = y \\right\\} = Pr \\left\\{ \\hat{Y}=1 | A = 0, Y = y \\right\\} , y \\in \\left\\{ 0,1 \\right\\}$$\n",
        "\n",
        "This approach punishes models that only perform well on the majority demographics."
      ]
    },
    {
      "cell_type": "markdown",
      "metadata": {
        "id": "cat-Jl0kJu2C",
        "colab_type": "text"
      },
      "source": [
        "The following code is the implementation of equalised odds from the paper http://papers.nips.cc/paper/7151-on-fairness-and-calibration.pdf, the code is from the github repository https://github.com/gpleiss/equalized_odds_and_calibration/blob/master/eq_odds.py.\n",
        "\n",
        "This implementation equalises false positives and false negatives across demoographics, since in general, African Americans receive\n",
        "a disproportionate number of F.P. predictions as compared with Caucasians when automated risk tools are used in practice. In the context of recidivism, the 'positive case' is in fact a prediction of 0: the individual is predicted not to reoffend, so equalising false positives in this case fits with the equalised odds definition above."
      ]
    },
    {
      "cell_type": "code",
      "metadata": {
        "id": "jDXXgyFKJZOl",
        "colab_type": "code",
        "colab": {}
      },
      "source": [
        "def calculate_scores(predictions, soft_scores):\n",
        "\n",
        "  maximum = soft_scores.max()\n",
        "  minimum = soft_scores.min()\n",
        "\n",
        "  normalise = lambda x: ((x-minimum)/(maximum-minimum))\n",
        "  n_soft_scores = []\n",
        "  for score in soft_scores:\n",
        "    soft_score = normalise(score)\n",
        "    n_soft_scores.append(soft_score)\n",
        "\n",
        "  return n_soft_scores"
      ],
      "execution_count": 0,
      "outputs": []
    },
    {
      "cell_type": "code",
      "metadata": {
        "id": "p2WbfvPkLImE",
        "colab_type": "code",
        "colab": {}
      },
      "source": [
        "def constrain_with_equalised_odds(true_labels, group_ids, demographic, soft_scores):\n",
        "\n",
        "  #create csv file containing relevant fields: prediction, label, group \n",
        "  predictions = pd.DataFrame(soft_scores, columns=['prediction'])\n",
        "  true_labels = pd.melt(true_labels).rename(columns={'value':'label'})\n",
        "  group_ids = pd.melt(group_ids).rename(columns={'value':'group'})\n",
        "  eq_odds_input = pd.concat([predictions, true_labels], axis=1)\n",
        "  eq_odds_input = pd.concat([eq_odds_input, group_ids], axis=1)\n",
        "  eq_odds_input = eq_odds_input.drop(columns=[\"variable\"])\n",
        "  eq_odds_input.to_csv('/content/drive/My Drive/project_data/eq_odds.csv', index=True)\n",
        "\n",
        "  !python2 \"/content/drive/My Drive/project_data/eq_odds.py\" \"/content/drive/My Drive/project_data/eq_odds.csv\"\n",
        "\n",
        "  eq_odds_pred_group_0 = pd.read_csv(filepath_or_buffer='/content/group_0.csv', delimiter=',', header=0)\n",
        "  eq_odds_pred_group_1 = pd.read_csv(filepath_or_buffer='/content/group_1.csv', delimiter=',',header=0 )\n",
        "  eq_odds_pred = pd.concat([eq_odds_pred_group_0,eq_odds_pred_group_1])\n",
        "  eq_odds_pred =  pd.DataFrame.reset_index(eq_odds_pred,drop=True)\n",
        "  eq_odds_pred['round_predictions'] = [0 if (row < 0.5) else 1 for row in eq_odds_pred['predictions']]\n",
        "\n",
        "  return eq_odds_pred['round_predictions'], eq_odds_pred['true_labels']\n"
      ],
      "execution_count": 0,
      "outputs": []
    },
    {
      "cell_type": "code",
      "metadata": {
        "id": "j5hobrODGwef",
        "colab_type": "code",
        "colab": {}
      },
      "source": [
        "from sklearn.metrics import confusion_matrix\n",
        "\n",
        "def calc_conf_matrix(y_true, y_pred):\n",
        "  # get confusion matrix and compute tn,fp,fn,tp\n",
        "  tn, fp, fn, tp = confusion_matrix(y_true.iloc[0].to_numpy(), y_pred.iloc[0].to_numpy()).ravel()\n",
        "  print(\"true negatives:\", tn, \"rate:\" , tn/(tn+fp+fn+tp), \"false positives:\", fp, \"rate:\", fp/(tn+fp+fn+tp) ,\"false negatives:\", fn,\"rate:\", fn/(tn+fp+fn+tp), \"true positives:\",tp,\"rate:\", tp/(tn+fp+fn+tp))"
      ],
      "execution_count": 0,
      "outputs": []
    },
    {
      "cell_type": "code",
      "metadata": {
        "id": "FrCnCymebZ9-",
        "colab_type": "code",
        "colab": {}
      },
      "source": [
        "from sklearn.metrics import confusion_matrix\n",
        "\n",
        "def calc_conf_matrix_bootstrap(y_true, y_pred):\n",
        "  # get confusion matrix and compute tn,fp,fn,tp\n",
        "  tn, fp, fn, tp = confusion_matrix(y_true, y_pred).ravel()\n",
        "  print(\"true negatives:\", tn, \"rate:\" , tn/(tn+fp+fn+tp), \"false positives:\", fp, \"rate:\", fp/(tn+fp+fn+tp) ,\"false negatives:\", fn,\"rate:\", fn/(tn+fp+fn+tp), \"true positives:\",tp,\"rate:\", tp/(tn+fp+fn+tp))\n"
      ],
      "execution_count": 0,
      "outputs": []
    },
    {
      "cell_type": "markdown",
      "metadata": {
        "id": "NnKB0sC3uU6-",
        "colab_type": "text"
      },
      "source": [
        "# Compute bias/variance errors"
      ]
    },
    {
      "cell_type": "markdown",
      "metadata": {
        "id": "VdwnNxEnWqth",
        "colab_type": "text"
      },
      "source": [
        "We can decompose the error into the errors due to bias, and the errors due to variance, in order to study the behaviour of the model and the bias/variance tradeoff, as described by Domingos in:\n",
        "https://www.aaai.org/Papers/AAAI/2000/AAAI00-086.pdf\n",
        "\n",
        "The definitions of bias and variance are as follows:\n",
        "\n",
        "\n",
        "* **Bias** is the zero-one loss incurred for the main prediction relative to the optimal prediction. Where the \"main prediction\" is the modal classification for each individual across all bootstrap samples. \n",
        "*  **Variance** is the average zero-one loss incurred by all predictions relativeto the main prediction.  The variance is the loss incurred by the fluctuations around the main (modal) prediction in response to different bootstrap training sets.\n",
        "\n",
        "\n",
        "\n",
        "\n",
        "<!-- https://www.stat.berkeley.edu/users/breiman/arcall96.pdf.  -->\n",
        "\n",
        "<!-- The error is also comprised of an error due to noise (in addition to bias and variance). However, as stated in http://papers.nips.cc/paper/7613-why-is-my-classifier-discriminatory.pdf, the noise is dependent on the data, not the model, so comparing the discrimination level in the form of bias and variance errors, the noise terms cancel since they are independent of the model. Therefore, differences in bias can be explored even without knowing the underlying noise of the data.  -->\n",
        "We can then calculate the overall average bias error and variance error for the model. \n",
        "\n"
      ]
    },
    {
      "cell_type": "code",
      "metadata": {
        "id": "8uLPjLTYXiOZ",
        "colab_type": "code",
        "outputId": "24110589-1c48-4110-a204-78b6a41b8540",
        "colab": {
          "base_uri": "https://localhost:8080/",
          "height": 129
        }
      },
      "source": [
        "predictions.mode()"
      ],
      "execution_count": 277,
      "outputs": [
        {
          "output_type": "execute_result",
          "data": {
            "text/html": [
              "<div>\n",
              "<style scoped>\n",
              "    .dataframe tbody tr th:only-of-type {\n",
              "        vertical-align: middle;\n",
              "    }\n",
              "\n",
              "    .dataframe tbody tr th {\n",
              "        vertical-align: top;\n",
              "    }\n",
              "\n",
              "    .dataframe thead th {\n",
              "        text-align: right;\n",
              "    }\n",
              "</style>\n",
              "<table border=\"1\" class=\"dataframe\">\n",
              "  <thead>\n",
              "    <tr style=\"text-align: right;\">\n",
              "      <th></th>\n",
              "      <th>0</th>\n",
              "      <th>1</th>\n",
              "      <th>2</th>\n",
              "      <th>3</th>\n",
              "      <th>4</th>\n",
              "      <th>5</th>\n",
              "      <th>6</th>\n",
              "      <th>7</th>\n",
              "      <th>8</th>\n",
              "      <th>9</th>\n",
              "      <th>10</th>\n",
              "      <th>11</th>\n",
              "      <th>12</th>\n",
              "      <th>13</th>\n",
              "      <th>14</th>\n",
              "      <th>15</th>\n",
              "      <th>16</th>\n",
              "      <th>17</th>\n",
              "      <th>18</th>\n",
              "      <th>19</th>\n",
              "      <th>20</th>\n",
              "      <th>21</th>\n",
              "      <th>22</th>\n",
              "      <th>23</th>\n",
              "      <th>24</th>\n",
              "      <th>25</th>\n",
              "      <th>26</th>\n",
              "      <th>27</th>\n",
              "      <th>28</th>\n",
              "      <th>29</th>\n",
              "      <th>30</th>\n",
              "      <th>31</th>\n",
              "      <th>32</th>\n",
              "      <th>33</th>\n",
              "      <th>34</th>\n",
              "      <th>35</th>\n",
              "      <th>36</th>\n",
              "      <th>37</th>\n",
              "      <th>38</th>\n",
              "      <th>39</th>\n",
              "      <th>...</th>\n",
              "      <th>360</th>\n",
              "      <th>361</th>\n",
              "      <th>362</th>\n",
              "      <th>363</th>\n",
              "      <th>364</th>\n",
              "      <th>365</th>\n",
              "      <th>366</th>\n",
              "      <th>367</th>\n",
              "      <th>368</th>\n",
              "      <th>369</th>\n",
              "      <th>370</th>\n",
              "      <th>371</th>\n",
              "      <th>372</th>\n",
              "      <th>373</th>\n",
              "      <th>374</th>\n",
              "      <th>375</th>\n",
              "      <th>376</th>\n",
              "      <th>377</th>\n",
              "      <th>378</th>\n",
              "      <th>379</th>\n",
              "      <th>380</th>\n",
              "      <th>381</th>\n",
              "      <th>382</th>\n",
              "      <th>383</th>\n",
              "      <th>384</th>\n",
              "      <th>385</th>\n",
              "      <th>386</th>\n",
              "      <th>387</th>\n",
              "      <th>388</th>\n",
              "      <th>389</th>\n",
              "      <th>390</th>\n",
              "      <th>391</th>\n",
              "      <th>392</th>\n",
              "      <th>393</th>\n",
              "      <th>394</th>\n",
              "      <th>395</th>\n",
              "      <th>396</th>\n",
              "      <th>397</th>\n",
              "      <th>398</th>\n",
              "      <th>399</th>\n",
              "    </tr>\n",
              "  </thead>\n",
              "  <tbody>\n",
              "    <tr>\n",
              "      <th>0</th>\n",
              "      <td>0.0</td>\n",
              "      <td>0.0</td>\n",
              "      <td>0.0</td>\n",
              "      <td>0.0</td>\n",
              "      <td>0.0</td>\n",
              "      <td>0.0</td>\n",
              "      <td>0.0</td>\n",
              "      <td>0.0</td>\n",
              "      <td>0.0</td>\n",
              "      <td>0.0</td>\n",
              "      <td>0.0</td>\n",
              "      <td>0.0</td>\n",
              "      <td>0.0</td>\n",
              "      <td>0.0</td>\n",
              "      <td>0.0</td>\n",
              "      <td>0.0</td>\n",
              "      <td>0.0</td>\n",
              "      <td>0.0</td>\n",
              "      <td>0.0</td>\n",
              "      <td>0.0</td>\n",
              "      <td>0.0</td>\n",
              "      <td>0.0</td>\n",
              "      <td>0.0</td>\n",
              "      <td>0.0</td>\n",
              "      <td>0.0</td>\n",
              "      <td>0.0</td>\n",
              "      <td>0.0</td>\n",
              "      <td>0.0</td>\n",
              "      <td>0.0</td>\n",
              "      <td>0.0</td>\n",
              "      <td>0.0</td>\n",
              "      <td>0.0</td>\n",
              "      <td>0.0</td>\n",
              "      <td>0.0</td>\n",
              "      <td>0.0</td>\n",
              "      <td>0.0</td>\n",
              "      <td>0.0</td>\n",
              "      <td>0.0</td>\n",
              "      <td>0.0</td>\n",
              "      <td>0.0</td>\n",
              "      <td>...</td>\n",
              "      <td>0.0</td>\n",
              "      <td>0.0</td>\n",
              "      <td>0.0</td>\n",
              "      <td>0.0</td>\n",
              "      <td>0.0</td>\n",
              "      <td>0.0</td>\n",
              "      <td>0.0</td>\n",
              "      <td>0.0</td>\n",
              "      <td>0.0</td>\n",
              "      <td>0.0</td>\n",
              "      <td>0.0</td>\n",
              "      <td>0.0</td>\n",
              "      <td>0.0</td>\n",
              "      <td>0.0</td>\n",
              "      <td>0.0</td>\n",
              "      <td>0.0</td>\n",
              "      <td>0.0</td>\n",
              "      <td>0.0</td>\n",
              "      <td>0.0</td>\n",
              "      <td>0.0</td>\n",
              "      <td>0.0</td>\n",
              "      <td>0.0</td>\n",
              "      <td>0.0</td>\n",
              "      <td>0.0</td>\n",
              "      <td>0.0</td>\n",
              "      <td>0.0</td>\n",
              "      <td>0.0</td>\n",
              "      <td>0.0</td>\n",
              "      <td>0.0</td>\n",
              "      <td>0.0</td>\n",
              "      <td>0.0</td>\n",
              "      <td>0.0</td>\n",
              "      <td>0.0</td>\n",
              "      <td>0.0</td>\n",
              "      <td>0.0</td>\n",
              "      <td>0.0</td>\n",
              "      <td>0.0</td>\n",
              "      <td>0.0</td>\n",
              "      <td>0.0</td>\n",
              "      <td>0.0</td>\n",
              "    </tr>\n",
              "  </tbody>\n",
              "</table>\n",
              "<p>1 rows × 400 columns</p>\n",
              "</div>"
            ],
            "text/plain": [
              "   0    1    2    3    4    5    6    ...  393  394  395  396  397  398  399\n",
              "0  0.0  0.0  0.0  0.0  0.0  0.0  0.0  ...  0.0  0.0  0.0  0.0  0.0  0.0  0.0\n",
              "\n",
              "[1 rows x 400 columns]"
            ]
          },
          "metadata": {
            "tags": []
          },
          "execution_count": 277
        }
      ]
    },
    {
      "cell_type": "code",
      "metadata": {
        "id": "M-7WHEx8dq6s",
        "colab_type": "code",
        "colab": {}
      },
      "source": [
        "def compute_bias_variance(predictions, true_labels):\n",
        "\n",
        "  # print(\"predictions: \")\n",
        "  # print(predictions)\n",
        "  # print(\"true labels: \")\n",
        "\n",
        "  biases = []\n",
        "  variances = []\n",
        "  avg_errors = []\n",
        "  misclassified_individuals = []\n",
        "  losses = []\n",
        "  noises = []\n",
        " \n",
        "  #find 'main' (mode) predction - used to calculate bias error \n",
        "  main_predictions = predictions.mode(dropna=False)  \n",
        "  print(main_predictions)\n",
        "  main_predictions_transposed = main_predictions.copy()\n",
        "  main_predictions_transposed = main_predictions_transposed.iloc[0,:]\n",
        "\n",
        "  #compare main (modal) prediction to true prediction \n",
        "  main_predictions_misclassified_relative_to_true = main_predictions.apply(lambda z : z != true_labels.iloc[0], axis=1)\n",
        "  #find whether each element is misclassified for each bootstrap sample \n",
        "  #find if each prediction is the same as the true prediction \n",
        "  predictions_misclassified_relative_to_true = predictions.apply(lambda x : x != true_labels.iloc[0], axis=1)\n",
        "  #find if the predictions are the same as the main prediction - used to calculate variance error\n",
        "  predictions_misclassified_relative_to_main = predictions.apply(lambda y : y != main_predictions_transposed, axis = 1)\n",
        "\n",
        "  #count number of times misclassified for each datapoint across all bootstrap samples \n",
        "  main_misclassified_true_counts = main_predictions_misclassified_relative_to_true.apply(np.sum)\n",
        "  misclassified_true_counts = predictions_misclassified_relative_to_true.apply(np.sum)\n",
        "  misclassified_main_counts = predictions_misclassified_relative_to_main.apply(np.sum)\n",
        "  # misclassified_noise_counts = predictions_misclassific_noise.apply(np.sum)\n",
        "\n",
        "  #average misclassification error for each individual/datapoint \n",
        "  #same as probability of incorrect classification\n",
        "  avg_true_errors = misclassified_true_counts.apply(lambda a : np.divide(a,len(predictions)))\n",
        "  avg_main_errors = misclassified_main_counts.apply(lambda b : np.divide(b,len(predictions)))\n",
        "  avg_main_true_errors = main_misclassified_true_counts.apply(lambda c : np.divide(c,len(main_predictions)))\n",
        "\n",
        "  for i in range(len(avg_true_errors)):\n",
        "    # if average error is less than 0.5 then it means the main prediction is the same as the optimal one\n",
        "    avg_main_true_error = avg_main_true_errors[i]\n",
        "    avg_true_error = avg_true_errors[i]\n",
        "    avg_main_error = avg_main_errors[i]\n",
        "    bias = 0 if avg_main_true_error <=0.5 else 1\n",
        "    variance = avg_main_error\n",
        "    #noise is the underlying variance of the data: error when the optimal and true classifications are the same\n",
        "    #independent of model, we can say it is 0 as doesn't effect bias/var relationship\n",
        "    #and when we tested this, it returned a value of 0 (all labels predicted correctly across all samples so no loss incurred)\n",
        "    noise = 0\n",
        "    c1 = ((2*(1-avg_true_error))-1)\n",
        "    c2 = 1 if avg_main_true_error <= 0.5 else -1\n",
        "    #loss according to domingos' decomposition\n",
        "    loss = (c1*noise) + bias + (c2*variance)\n",
        "    biases.append(bias)\n",
        "    variances.append(variance)\n",
        "    noises.append(noise)\n",
        "    losses.append(loss)\n",
        "    if avg_true_error > 0.5:\n",
        "      misclassified_individuals.append(i)\n",
        "\n",
        "  avg_bias = np.mean(biases)\n",
        "  # avg_var = abs(np.mean(avg_errors) - avg_bias)\n",
        "  avg_var = np.mean(variances)\n",
        "  # avg_error = np.mean(avg_errors)\n",
        "  avg_loss = np.mean(losses)\n",
        "  avg_noise = np.mean(noises)\n",
        "\n",
        "  print(\"average loss:\") \n",
        "  print(avg_loss)\n",
        "  print(\"average noise:\")\n",
        "  print(avg_noise)\n",
        "  print(\"average bias:\")\n",
        "  print(avg_bias)\n",
        "  print(\"average variance:\")\n",
        "  print(avg_var)\n",
        "\n",
        "  return avg_bias, avg_var, avg_loss, misclassified_individuals"
      ],
      "execution_count": 0,
      "outputs": []
    },
    {
      "cell_type": "markdown",
      "metadata": {
        "id": "YAxWqE2JBiT9",
        "colab_type": "text"
      },
      "source": [
        "We hope to address the question: Are models that exhibit high bias errors likely to introduce new categories of discrimination? \n",
        "\n",
        "We can therefore look at the bias and variance errors for different models.\n",
        "\n",
        "\n",
        "We want to see that if the variance is low and bias high, is it consistently discriminating against a certain subgroup, potentially introducing a new type of discrimination? Unlike other work such as http://papers.nips.cc/paper/7613-why-is-my-classifier-discriminatory.pdf, it doesn't have to be a protected characteristic.\n",
        "\n",
        "\n",
        "\n",
        "I think perhaps after fairness correction, we can look at who is misclassified and then what they have in common? Or, we can extract each \"subgroup\" based on whatever characteristics and analyse these - i.e. did FPR/FNR go up/down for a different subgroup after fairness correction?  Do this in same way as we do for \"demographics\" initially used for fairness correction. "
      ]
    },
    {
      "cell_type": "markdown",
      "metadata": {
        "id": "HS-RcQVHudhq",
        "colab_type": "text"
      },
      "source": [
        "# Plots"
      ]
    },
    {
      "cell_type": "markdown",
      "metadata": {
        "id": "Kav2TxMqeTy2",
        "colab_type": "text"
      },
      "source": [
        "Creating the appropriate plots to visualise our results. We plot: \n",
        "\n",
        "1.   Bias error vs Variance error\n",
        "2.   Gamma value of RBF SVM vs Variance error\n",
        "3.   Gamma value of RBF SVM vs Bias error\n"
      ]
    },
    {
      "cell_type": "code",
      "metadata": {
        "id": "0TcztpNvvfDu",
        "colab_type": "code",
        "colab": {}
      },
      "source": [
        "import matplotlib.pyplot as plt                                  \n",
        "def plot_bias_variance(biases, variances, gammas, cs, degrees, losses):   \n",
        "  # print(\"plotting bias/var\") \n",
        "  # plt.scatter(biases, variances)                                              \n",
        "  # plt.title('bias vs variance errors')                                     \n",
        "  # plt.xlabel('bias')                                                       \n",
        "  # plt.ylabel('variance')                                                   \n",
        "  # plt.show()\n",
        "\n",
        "  # plt.scatter(gammas, variances)\n",
        "  # plt.xscale('log')                                              \n",
        "  # plt.title('RBF SVM, C = 100000 \\n gamma size vs variance errors')                                     \n",
        "  # plt.xlabel('gamma')                                                       \n",
        "  # plt.ylabel('variance')                                                   \n",
        "  # plt.show()                                                            \n",
        "\n",
        "  # plt.scatter(gammas, biases)                               \n",
        "  # plt.xscale('log')                                                             \n",
        "  # plt.title('RBF SVM, C = 100000 \\n gamma size vs bias errors')                                     \n",
        "  # plt.xlabel('gamma')                                                       \n",
        "  # plt.ylabel('bias')                                                   \n",
        "  # plt.show()            \n",
        "\n",
        "  # plt.scatter(gammas, losses)                               \n",
        "  # plt.xscale('log')                                                             \n",
        "  # plt.title('RBF SVM, C = 100000 \\n gamma size vs total error')                                     \n",
        "  # plt.xlabel('gamma')                                                       \n",
        "  # plt.ylabel('error')                                                   \n",
        "  # plt.show()   \n",
        "\n",
        "  # plt.scatter(cs, biases)                               \n",
        "  # plt.xscale('log')                                                             \n",
        "  # plt.title('RBF SVM, gamma=0.1, C value vs bias errors')                                     \n",
        "  # plt.xlabel('C value')                                                       \n",
        "  # plt.ylabel('bias')                                                   \n",
        "  # plt.show()       \n",
        "\n",
        "  # plt.scatter(cs, variances)                               \n",
        "  # plt.xscale('log')                                                             \n",
        "  # plt.title('RBF SVM, gamma=0.1, C value vs variance errors')                                     \n",
        "  # plt.xlabel('C value')                                                       \n",
        "  # plt.ylabel('variance')                                                   \n",
        "  # plt.show()    \n",
        "\n",
        "  # plt.scatter(cs, losses)                               \n",
        "  # plt.xscale('log')                                                             \n",
        "  # plt.title('RBF SVM, gamma=0.1, C value vs zero-one loss')                                     \n",
        "  # plt.xlabel('C value')                                                       \n",
        "  # plt.ylabel('loss')                                                   \n",
        "  # plt.show()   \n",
        "\n",
        "  plt.scatter(biases, variances)                                              \n",
        "  plt.title('bias vs variance errors')                                     \n",
        "  plt.xlabel('bias')                                                       \n",
        "  plt.ylabel('variance')                                                   \n",
        "  plt.show()\n",
        "\n",
        "  plt.scatter(degrees, variances)\n",
        "  plt.title('poly SVM, degree size vs variance errors')                                     \n",
        "  plt.xlabel('degree')                                                       \n",
        "  plt.ylabel('variance')                                                   \n",
        "  plt.show()                                                            \n",
        "\n",
        "  plt.scatter(degrees, biases)                               \n",
        "  plt.title('poly SVM, degree size vs bias errors')                                     \n",
        "  plt.xlabel('degree')                                                       \n",
        "  plt.ylabel('bias')                                                   \n",
        "  plt.show()            \n",
        "\n",
        "  plt.scatter(degrees, losses)                               \n",
        "  plt.title('poly SVM, degree size vs generalisation errors')                                     \n",
        "  plt.xlabel('degree')                                                       \n",
        "  plt.ylabel('error')                                                   \n",
        "  plt.show()  \n",
        "\n",
        "#just an example of if we want to plot the misclassified individuals against a characteristic from the dataframe \n",
        "#might help to look for patterns \n",
        "def plot_misclassified(misclassified):\n",
        "  misclassified.reset_index().plot(kind='scatter', x='index', y='age') \n",
        "  plt.show()"
      ],
      "execution_count": 0,
      "outputs": []
    },
    {
      "cell_type": "code",
      "metadata": {
        "id": "YmVUHkRN8YMT",
        "colab_type": "code",
        "colab": {}
      },
      "source": [
        "#download CSV file containing all the info for the individuals who are consistently misclassified (i.e. >50% of the time, resulting in bias errors)\n",
        "def download_misclassified(misclassified, name):\n",
        "  # misclassified = np.asarray(misclassified)\n",
        "  csv_name = name+'.csv'\n",
        "  # misclassified = pd.DataFrame(misclassified)\n",
        "  # print(misclassified)\n",
        "  # np.savetxt(csv_name, misclassified, delimiter=\",\")\n",
        "  misclassified.to_csv(r''+name+'.csv', index=False)\n",
        "  # from google.colab import files\n",
        "  # files.download(csv_name)"
      ],
      "execution_count": 0,
      "outputs": []
    },
    {
      "cell_type": "code",
      "metadata": {
        "id": "3nbxldKcpOHY",
        "colab_type": "code",
        "colab": {}
      },
      "source": [
        ""
      ],
      "execution_count": 0,
      "outputs": []
    },
    {
      "cell_type": "markdown",
      "metadata": {
        "id": "5vpU8QERWV4i",
        "colab_type": "text"
      },
      "source": [
        "Main method to run the system, executing methods in appropriate sequence. "
      ]
    },
    {
      "cell_type": "code",
      "metadata": {
        "id": "z19f8UDgdVYP",
        "colab_type": "code",
        "outputId": "7bde5ac3-c792-4719-fcad-622c0b8ff617",
        "colab": {
          "base_uri": "https://localhost:8080/",
          "height": 572
        }
      },
      "source": [
        "all_data = load_file()\n",
        "training_data_and_labels, testing_data_and_labels, X, X_labels, all_X, all_X_labels = import_data(all_data)\n"
      ],
      "execution_count": 300,
      "outputs": [
        {
          "output_type": "stream",
          "text": [
            "loading data\n",
            "loaded data\n",
            "training data:\n",
            "      juv_fel_count  juv_misd_count  ...     (mo3)  two_year_recid\n",
            "400       -0.114991       -0.181568  ... -0.080906               0\n",
            "401       -0.114991       -0.181568  ... -0.080906               0\n",
            "402       -0.114991       -0.181568  ... -0.080906               0\n",
            "403       -0.114991       -0.181568  ... -0.080906               0\n",
            "404       -0.114991       -0.181568  ... -0.080906               0\n",
            "...             ...             ...  ...       ...             ...\n",
            "1994      -0.114991       -0.181568  ... -0.080906               0\n",
            "1995      -0.114991       -0.181568  ... -0.080906               0\n",
            "1996      -0.114991       -0.181568  ... -0.080906               1\n",
            "1997      -0.114991       -0.181568  ... -0.080906               0\n",
            "1998      -0.114991       -0.181568  ... -0.080906               1\n",
            "\n",
            "[1599 rows x 28 columns]\n",
            "testing data\n",
            "     juv_fel_count  juv_misd_count  ...     (mo3)  two_year_recid\n",
            "0        -0.114991       -0.181568  ... -0.080906               0\n",
            "1        -0.114991       -0.181568  ... -0.080906               0\n",
            "2        -0.114991       -0.181568  ... -0.080906               1\n",
            "3        -0.114991       -0.181568  ... -0.080906               0\n",
            "4        -0.114991       -0.181568  ... -0.080906               1\n",
            "..             ...             ...  ...       ...             ...\n",
            "395      -0.114991       -0.181568  ... -0.080906               0\n",
            "396      -0.114991       -0.181568  ... -0.080906               1\n",
            "397      -0.114991       -0.181568  ... -0.080906               1\n",
            "398      -0.114991       -0.181568  ... -0.080906               0\n",
            "399      -0.114991       -0.181568  ... -0.080906               0\n",
            "\n",
            "[400 rows x 28 columns]\n"
          ],
          "name": "stdout"
        }
      ]
    },
    {
      "cell_type": "code",
      "metadata": {
        "id": "iVLKqQyndjw0",
        "colab_type": "code",
        "colab": {}
      },
      "source": [
        "u,s,v = np.linalg.svd(all_X)\n",
        "# U = U[:,:2]\n"
      ],
      "execution_count": 0,
      "outputs": []
    },
    {
      "cell_type": "code",
      "metadata": {
        "id": "YPl-NUUfgZDf",
        "colab_type": "code",
        "colab": {}
      },
      "source": [
        "positive_labels = all_X_labels['two_year_recid'] == 1\n",
        "negative_labels = all_X_labels['two_year_recid'] == 0"
      ],
      "execution_count": 0,
      "outputs": []
    },
    {
      "cell_type": "code",
      "metadata": {
        "id": "p_189KbCeq8H",
        "colab_type": "code",
        "outputId": "470796e1-1968-45c5-960f-b35001abe698",
        "colab": {
          "base_uri": "https://localhost:8080/",
          "height": 282
        }
      },
      "source": [
        "import matplotlib.pyplot as plt                                  \n",
        "\n",
        "dim1 = 12\n",
        "dim2 = 13\n",
        "\n",
        "plt.plot(u[positive_labels,dim1], u[positive_labels,dim2], 'r.')\n",
        "plt.plot(u[negative_labels,dim1], u[negative_labels,dim2], 'b.')"
      ],
      "execution_count": 303,
      "outputs": [
        {
          "output_type": "execute_result",
          "data": {
            "text/plain": [
              "[<matplotlib.lines.Line2D at 0x7f5754ab9898>]"
            ]
          },
          "metadata": {
            "tags": []
          },
          "execution_count": 303
        },
        {
          "output_type": "display_data",
          "data": {
            "image/png": "[encoded data removed]",
            "text/plain": [
              "<Figure size 432x288 with 1 Axes>"
            ]
          },
          "metadata": {
            "tags": [],
            "needs_background": "light"
          }
        }
      ]
    },
    {
      "cell_type": "code",
      "metadata": {
        "id": "6osp14XIC9M9",
        "colab_type": "code",
        "colab": {}
      },
      "source": [
        "#so u has a value at each point, so i can get this by getting all entries for 12th dimesion to get 1 feature?\n",
        "dim12 = u[:,12]\n",
        "dim13 = u[:,13]\n",
        "\n",
        "#so then we can create dataframe from these to use for classification?"
      ],
      "execution_count": 0,
      "outputs": []
    },
    {
      "cell_type": "code",
      "metadata": {
        "id": "6wBZXi_fR7yk",
        "colab_type": "code",
        "colab": {}
      },
      "source": [
        "all_X_transformed = pd.DataFrame({'dim12':dim12, 'dim13':dim13}, index=all_X.index)"
      ],
      "execution_count": 0,
      "outputs": []
    },
    {
      "cell_type": "code",
      "metadata": {
        "id": "uEYlBI7AXPa0",
        "colab_type": "code",
        "colab": {}
      },
      "source": [
        "all_X_transformed_labels = all_X_transformed.join(all_X_labels)"
      ],
      "execution_count": 0,
      "outputs": []
    },
    {
      "cell_type": "code",
      "metadata": {
        "id": "azH4k1sdXjsn",
        "colab_type": "code",
        "colab": {}
      },
      "source": [
        "training_data_and_labels = all_X_transformed_labels[num_testing_samples:]\n",
        "testing_data_and_labels = all_X_transformed_labels[:num_testing_samples]"
      ],
      "execution_count": 0,
      "outputs": []
    },
    {
      "cell_type": "code",
      "metadata": {
        "id": "j3n-ysxInG5l",
        "colab_type": "code",
        "colab": {}
      },
      "source": [
        "# maxpc = 23\n",
        "# fig, ax = plt.subplots(maxpc, maxpc, figsize=(20,20))\n",
        "# for pc1 in range(maxpc):\n",
        "#   for pc2 in range(maxpc):\n",
        "#     ax[pc1,pc2].plot(u[positive_labels,pc1], u[positive_labels, pc2], 'r.')\n",
        "#     ax[pc1,pc2].plot(u[negative_labels,pc1], u[negative_labels, pc2], 'b.')"
      ],
      "execution_count": 0,
      "outputs": []
    },
    {
      "cell_type": "code",
      "metadata": {
        "id": "FCBsC158supR",
        "colab_type": "code",
        "outputId": "41d5e2d3-2d1c-4f66-e358-c3b98981c704",
        "colab": {
          "base_uri": "https://localhost:8080/",
          "height": 1000
        }
      },
      "source": [
        "\n",
        "# all_data = load_file()\n",
        "# demographics = ['african-american', 'caucasian', 'hispanic', 'asian', 'other', 'male', 'female', 'less than 25', '25 - 45', 'greater than 45']\n",
        "demographics = ['african-american']\n",
        "# demographics = [ 'hispanic', 'asian', 'other', 'male', 'female', 'less than 25', '25 - 45', 'greater than 45']\n",
        "testing_data_and_labels_list = []\n",
        "training_data_and_labels_list = []\n",
        "# training_data_and_labels, testing_data_and_labels, X, X_labels = import_data(all_data)\n",
        "\n",
        "training_data_and_labels_list.append(training_data_and_labels)\n",
        "testing_data_and_labels_list.append(testing_data_and_labels)\n",
        "\n",
        "biases = []\n",
        "variances = []\n",
        "total_errors = []\n",
        "avg_losses = []\n",
        "biases_eq = []\n",
        "variances_eq = []\n",
        "total_errors_eq = []\n",
        "avg_losses_eq = []\n",
        "classifiers, gammas, cs, degrees = define_classifiers()\n",
        "all_misclassified = pd.DataFrame()\n",
        "all_misclassified_eq = pd.DataFrame()\n",
        "# misclassified = []\n",
        "# misclassified_eq= []\n",
        "equalised_odds = False\n",
        "k = 0\n",
        "\n",
        "for classifier in classifiers:\n",
        "  print(classifier)\n",
        "  clf = classifier\n",
        "  for i in range(len(training_data_and_labels_list)):\n",
        "    predictions, true_labels, soft_scores = classify(training_data_and_labels_list[i], testing_data_and_labels_list[i], clf)  \n",
        "    # predictions, true_labels = classify_noise(training_data_and_labels_list[i], testing_data_and_labels_list[i], clf)\n",
        "    majority_predictions = predictions.mode(numeric_only=True)\n",
        "    print(\"avg pred conf matrix:\")\n",
        "    calc_conf_matrix(true_labels, majority_predictions)\n",
        "    if(equalised_odds):\n",
        "      soft_scores = calculate_scores(predictions, soft_scores)\n",
        "      for demographic in demographics:\n",
        "        group_ids = [] \n",
        "        print(\"Equalising odds for \", demographic)\n",
        "        group_ids_normalised = testing_data_and_labels[demographic]\n",
        "        for n_id in group_ids_normalised:\n",
        "          group_id = 0 if n_id < 0 else 1\n",
        "          group_ids.append(group_id)\n",
        "        group_ids = pd.DataFrame([group_ids])\n",
        "        all_eq_predictions = []\n",
        "        for j in range (len(predictions.index)):\n",
        "          eq_predictions, true_eq_labels = constrain_with_equalised_odds(true_labels, group_ids, demographic, soft_scores)\n",
        "          all_eq_predictions.append(np.array(eq_predictions))\n",
        "        all_eq_predictions = pd.DataFrame(all_eq_predictions)\n",
        "        true_eq_labels = pd.DataFrame(np.array(true_eq_labels), columns=['two_year_recid'])\n",
        "        true_eq_labels = true_eq_labels.transpose()\n",
        "    if(equalised_odds):\n",
        "      #if not equalised odds we have to only use half of the predictions somehow otherwise it's not fair \n",
        "      #because in equalised odds we use half of it to determine parameters (validation)\n",
        "      predictions = predictions.iloc[:,:int(len(predictions.columns)/2)]\n",
        "      true_labels = true_labels.iloc[:,:int(len(true_labels.columns)/2)]\n",
        "    # noise_predictions = noise_predictions.iloc[:,:int(len(predictions.columns)/2)]\n",
        "    # print(predictions)\n",
        "    # fake_predictions = predictions.replace(predictions, 0)\n",
        "    # fake_true_labels = true_labels.replace(true_labels, 1)\n",
        "    bias, variance, avg_loss, misclassified_individuals = compute_bias_variance(predictions, true_labels)\n",
        "    biases.append(bias)\n",
        "    variances.append(variance)\n",
        "    avg_losses.append(avg_loss)\n",
        "    if(equalised_odds):\n",
        "      print(\"after fairness correction:\")\n",
        "      bias_eq, variance_eq, avg_loss_eq, misclassified_individuals_eq = compute_bias_variance(all_eq_predictions, true_eq_labels)\n",
        "      biases_eq.append(bias_eq)\n",
        "      variances_eq.append(variance_eq)\n",
        "      avg_losses_eq.append(avg_loss_eq)\n",
        "    #get the individuals which are misclassified on average (hence contributing to bias errors)\n",
        "    print(\"misclassified before: \", misclassified_individuals)\n",
        "    if(equalised_odds):\n",
        "      print(\"misclassified after: \", misclassified_individuals_eq)\n",
        "    for i in range(len(testing_data_and_labels_list)):\n",
        "      if(len(misclassified_individuals) > 0 ):\n",
        "        misclassified = testing_data_and_labels_list[i].iloc[misclassified_individuals]\n",
        "        # print(misclassified)\n",
        "        all_misclassified = all_misclassified.append(misclassified)\n",
        "        # all_misclassified = pd.concat(all_misclassified, misclassified)\n",
        "      if(equalised_odds):\n",
        "        if(len(misclassified_individuals_eq) > 0):\n",
        "          misclassified_eq = testing_data_and_labels_list[i].iloc[misclassified_individuals_eq]\n",
        "          # all_misclassified_eq = pd.concat(all_misclassified_eq, misclassified_eq)\n",
        "          all_misclassified_eq = all_misclassified_eq.append(misclassified_eq)\n",
        "    download_misclassified(all_misclassified, str(k)+'_misclassified_before')\n",
        "    if(equalised_odds):\n",
        "      download_misclassified(all_misclassified_eq, str(k)+'_misclassified_after')\n",
        "    k+=1\n",
        "    # plot_misclassified(misclassified)\n",
        "    \n",
        "print(\"before fairness correction:\")\n",
        "plot_bias_variance(biases, variances, gammas, cs, degrees, avg_losses)\n",
        "if(equalised_odds):\n",
        "  print(\"after fairness correction:\")\n",
        "  plot_bias_variance(biases_eq, variances_eq, gammas, cs, degrees, avg_losses_eq)"
      ],
      "execution_count": 0,
      "outputs": [
        {
          "output_type": "stream",
          "text": [
            "SVC(C=1.0, break_ties=False, cache_size=200, class_weight=None, coef0=0.0,\n",
            "    decision_function_shape='ovr', degree=0, gamma='scale', kernel='poly',\n",
            "    max_iter=-1, probability=True, random_state=None, shrinking=True, tol=0.001,\n",
            "    verbose=False)\n",
            "avg pred conf matrix:\n",
            "true negatives: 231 rate: 0.5775 false positives: 0 rate: 0.0 false negatives: 169 rate: 0.4225 true positives: 0 rate: 0.0\n",
            "   0    1    2    3    4    5    6    ...  393  394  395  396  397  398  399\n",
            "0  0.0  0.0  0.0  0.0  0.0  0.0  0.0  ...  0.0  0.0  0.0  0.0  0.0  0.0  0.0\n",
            "\n",
            "[1 rows x 400 columns]\n",
            "average loss:\n",
            "0.4225\n",
            "average noise:\n",
            "0.0\n",
            "average bias:\n",
            "0.4225\n",
            "average variance:\n",
            "0.0\n",
            "misclassified before:  [2, 4, 7, 12, 14, 15, 17, 19, 22, 23, 25, 26, 27, 34, 37, 40, 41, 43, 47, 49, 52, 53, 55, 56, 62, 65, 66, 67, 68, 69, 70, 74, 75, 79, 84, 85, 87, 88, 90, 92, 94, 96, 100, 102, 103, 105, 106, 111, 112, 114, 117, 120, 122, 128, 132, 134, 136, 140, 143, 145, 147, 159, 163, 167, 178, 181, 182, 189, 190, 191, 192, 193, 195, 197, 198, 201, 203, 205, 208, 209, 210, 212, 215, 217, 218, 221, 222, 223, 224, 225, 226, 227, 232, 237, 239, 240, 247, 251, 252, 253, 256, 257, 261, 262, 265, 268, 269, 275, 276, 280, 281, 283, 284, 288, 289, 292, 294, 295, 296, 297, 300, 303, 304, 312, 314, 316, 321, 325, 327, 329, 330, 333, 334, 335, 336, 338, 345, 347, 351, 352, 353, 354, 355, 356, 357, 358, 360, 361, 362, 363, 365, 366, 367, 368, 371, 372, 373, 374, 377, 379, 382, 383, 384, 387, 388, 389, 393, 396, 397]\n",
            "SVC(C=1.0, break_ties=False, cache_size=200, class_weight=None, coef0=0.0,\n",
            "    decision_function_shape='ovr', degree=1, gamma='scale', kernel='poly',\n",
            "    max_iter=-1, probability=True, random_state=None, shrinking=True, tol=0.001,\n",
            "    verbose=False)\n",
            "avg pred conf matrix:\n",
            "true negatives: 231 rate: 0.5775 false positives: 0 rate: 0.0 false negatives: 169 rate: 0.4225 true positives: 0 rate: 0.0\n",
            "   0    1    2    3    4    5    6    ...  393  394  395  396  397  398  399\n",
            "0  0.0  0.0  0.0  0.0  0.0  0.0  0.0  ...  0.0  0.0  0.0  0.0  0.0  0.0  0.0\n",
            "\n",
            "[1 rows x 400 columns]\n",
            "average loss:\n",
            "0.4197029702970297\n",
            "average noise:\n",
            "0.0\n",
            "average bias:\n",
            "0.4225\n",
            "average variance:\n",
            "0.00353960396039604\n",
            "misclassified before:  [2, 4, 7, 12, 14, 15, 17, 19, 22, 23, 25, 26, 27, 34, 37, 40, 41, 43, 47, 49, 52, 53, 55, 56, 62, 65, 66, 67, 68, 69, 70, 74, 75, 79, 84, 85, 87, 88, 90, 92, 94, 96, 100, 102, 103, 105, 106, 111, 112, 114, 117, 120, 122, 128, 132, 134, 136, 140, 143, 145, 147, 159, 163, 167, 178, 181, 182, 189, 190, 191, 192, 193, 195, 197, 198, 201, 203, 205, 208, 209, 210, 212, 215, 217, 218, 221, 222, 223, 224, 225, 226, 227, 232, 237, 239, 240, 247, 251, 252, 253, 256, 257, 261, 262, 265, 268, 269, 275, 276, 280, 281, 283, 284, 288, 289, 292, 294, 295, 296, 297, 300, 303, 304, 312, 314, 316, 321, 325, 327, 329, 330, 333, 334, 335, 336, 338, 345, 347, 351, 352, 353, 354, 355, 356, 357, 358, 360, 361, 362, 363, 365, 366, 367, 368, 371, 372, 373, 374, 377, 379, 382, 383, 384, 387, 388, 389, 393, 396, 397]\n",
            "SVC(C=1.0, break_ties=False, cache_size=200, class_weight=None, coef0=0.0,\n",
            "    decision_function_shape='ovr', degree=2, gamma='scale', kernel='poly',\n",
            "    max_iter=-1, probability=True, random_state=None, shrinking=True, tol=0.001,\n",
            "    verbose=False)\n",
            "avg pred conf matrix:\n",
            "true negatives: 230 rate: 0.575 false positives: 1 rate: 0.0025 false negatives: 153 rate: 0.3825 true positives: 16 rate: 0.04\n",
            "   0    1    2    3    4    5    6    ...  393  394  395  396  397  398  399\n",
            "0  0.0  0.0  0.0  0.0  0.0  0.0  0.0  ...  0.0  0.0  0.0  0.0  0.0  0.0  0.0\n",
            "\n",
            "[1 rows x 400 columns]\n",
            "average loss:\n",
            "0.3843069306930693\n",
            "average noise:\n",
            "0.0\n",
            "average bias:\n",
            "0.385\n",
            "average variance:\n",
            "0.0030693069306930694\n",
            "misclassified before:  [2, 4, 14, 15, 17, 19, 22, 23, 25, 26, 27, 34, 37, 40, 41, 43, 47, 49, 52, 53, 55, 56, 62, 65, 66, 67, 70, 74, 75, 79, 84, 85, 87, 88, 92, 94, 96, 100, 102, 103, 105, 106, 111, 112, 117, 120, 122, 128, 132, 134, 136, 140, 143, 147, 163, 167, 178, 181, 189, 190, 191, 192, 193, 195, 197, 198, 201, 203, 205, 208, 209, 210, 212, 215, 217, 218, 221, 222, 223, 225, 226, 232, 237, 239, 240, 247, 251, 253, 256, 257, 261, 265, 268, 269, 275, 276, 280, 281, 283, 284, 288, 289, 292, 294, 295, 296, 297, 300, 304, 312, 314, 316, 321, 325, 327, 329, 330, 333, 334, 335, 336, 338, 343, 347, 351, 352, 353, 354, 355, 356, 357, 358, 360, 361, 362, 363, 365, 366, 367, 368, 371, 372, 373, 374, 377, 379, 382, 383, 384, 388, 389, 393, 396, 397]\n",
            "SVC(C=1.0, break_ties=False, cache_size=200, class_weight=None, coef0=0.0,\n",
            "    decision_function_shape='ovr', degree=3, gamma='scale', kernel='poly',\n",
            "    max_iter=-1, probability=True, random_state=None, shrinking=True, tol=0.001,\n",
            "    verbose=False)\n",
            "avg pred conf matrix:\n",
            "true negatives: 231 rate: 0.5775 false positives: 0 rate: 0.0 false negatives: 154 rate: 0.385 true positives: 15 rate: 0.0375\n",
            "   0    1    2    3    4    5    6    ...  393  394  395  396  397  398  399\n",
            "0  0.0  0.0  0.0  0.0  0.0  0.0  0.0  ...  0.0  0.0  0.0  0.0  0.0  0.0  0.0\n",
            "\n",
            "[1 rows x 400 columns]\n",
            "average loss:\n",
            "0.3895049504950495\n",
            "average noise:\n",
            "0.0\n",
            "average bias:\n",
            "0.385\n",
            "average variance:\n",
            "0.004752475247524753\n",
            "misclassified before:  [2, 4, 14, 15, 17, 19, 22, 23, 25, 26, 27, 34, 37, 40, 41, 43, 47, 49, 52, 53, 55, 56, 62, 65, 66, 67, 70, 74, 75, 79, 84, 85, 87, 88, 92, 94, 96, 100, 102, 103, 105, 106, 111, 112, 117, 120, 122, 128, 132, 134, 136, 140, 143, 147, 163, 167, 178, 181, 189, 190, 191, 192, 193, 195, 197, 198, 201, 203, 205, 208, 209, 210, 212, 215, 217, 218, 221, 222, 223, 225, 226, 232, 237, 239, 240, 247, 251, 252, 253, 256, 257, 261, 265, 268, 269, 275, 276, 280, 281, 283, 284, 288, 289, 292, 294, 295, 296, 297, 300, 304, 312, 314, 316, 321, 325, 327, 329, 330, 333, 334, 335, 336, 338, 347, 351, 352, 353, 354, 355, 356, 357, 358, 360, 361, 362, 363, 365, 366, 367, 368, 371, 372, 373, 374, 377, 379, 382, 383, 384, 388, 389, 393, 396, 397]\n",
            "SVC(C=1.0, break_ties=False, cache_size=200, class_weight=None, coef0=0.0,\n",
            "    decision_function_shape='ovr', degree=4, gamma='scale', kernel='poly',\n",
            "    max_iter=-1, probability=True, random_state=None, shrinking=True, tol=0.001,\n",
            "    verbose=False)\n",
            "avg pred conf matrix:\n",
            "true negatives: 230 rate: 0.575 false positives: 1 rate: 0.0025 false negatives: 150 rate: 0.375 true positives: 19 rate: 0.0475\n",
            "   0    1    2    3    4    5    6    ...  393  394  395  396  397  398  399\n",
            "0  0.0  0.0  0.0  0.0  0.0  0.0  0.0  ...  0.0  0.0  0.0  0.0  0.0  0.0  0.0\n",
            "\n",
            "[1 rows x 400 columns]\n",
            "average loss:\n",
            "0.38304455445544555\n",
            "average noise:\n",
            "0.0\n",
            "average bias:\n",
            "0.3775\n",
            "average variance:\n",
            "0.01\n",
            "misclassified before:  [2, 4, 14, 15, 17, 19, 21, 22, 23, 25, 26, 27, 34, 37, 40, 43, 47, 52, 53, 55, 56, 62, 65, 66, 67, 70, 74, 75, 79, 84, 85, 87, 88, 92, 94, 96, 100, 102, 103, 105, 106, 111, 112, 114, 117, 120, 122, 128, 132, 134, 136, 140, 143, 145, 147, 163, 167, 178, 181, 189, 190, 191, 192, 193, 195, 197, 198, 201, 203, 205, 208, 209, 210, 212, 215, 217, 218, 221, 222, 223, 225, 226, 232, 237, 239, 240, 247, 251, 253, 256, 261, 265, 268, 269, 275, 280, 281, 283, 284, 288, 289, 292, 294, 295, 296, 297, 300, 304, 312, 314, 316, 321, 325, 327, 329, 330, 333, 334, 335, 336, 338, 347, 351, 352, 353, 354, 355, 356, 357, 358, 360, 361, 362, 363, 365, 366, 367, 368, 371, 372, 373, 374, 377, 379, 382, 384, 388, 389, 393, 396, 397]\n",
            "SVC(C=1.0, break_ties=False, cache_size=200, class_weight=None, coef0=0.0,\n",
            "    decision_function_shape='ovr', degree=5, gamma='scale', kernel='poly',\n",
            "    max_iter=-1, probability=True, random_state=None, shrinking=True, tol=0.001,\n",
            "    verbose=False)\n"
          ],
          "name": "stdout"
        }
      ]
    },
    {
      "cell_type": "code",
      "metadata": {
        "id": "UOTgKGG1bVwj",
        "colab_type": "code",
        "colab": {}
      },
      "source": [
        "# from google.colab import drive\n",
        "# drive.mount('/content/drive')"
      ],
      "execution_count": 0,
      "outputs": []
    }
  ]
}